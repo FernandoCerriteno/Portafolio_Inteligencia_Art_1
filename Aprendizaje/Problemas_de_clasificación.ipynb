{
  "nbformat": 4,
  "nbformat_minor": 0,
  "metadata": {
    "colab": {
      "provenance": []
    },
    "kernelspec": {
      "name": "python3",
      "display_name": "Python 3"
    },
    "language_info": {
      "name": "python"
    }
  },
  "cells": [
    {
      "cell_type": "markdown",
      "source": [
        "Fernando Cerrieño Magaña A01702790\n",
        "\n",
        "<h2>Ejercicio 1\n",
        "\n",
        "En este ejercicio trabajarás con el conjunto de datos que se te asignó de acuerdo al último número de tu matrícula. En estos archivos se tienen datos procesados de un experimento de psicología en el que se mide la respuesta cerebral cuando un sujeto presta atención a un estímulo visual que aparece de manera repentina y cuando no presta atención a dicho estímulo visual.\n",
        "\n",
        "La primera columna corresponde a la clase (1 o 2). La clase 1 representa cuando el sujeto está prestando atención, y la clase 2 cuando no lo hace. La segunda columna se ignora, mientras que el resto de las columnas indican las variables que se calcularon de la respuesta cerebral medida con la técnicas de Electroencefaolografía para cada caso."
      ],
      "metadata": {
        "id": "Ihpll7EZquL6"
      }
    },
    {
      "cell_type": "code",
      "execution_count": null,
      "metadata": {
        "id": "1X2iK0VRqfRX"
      },
      "outputs": [],
      "source": [
        "import numpy as np\n",
        "import pandas as pd\n",
        "import random\n",
        "\n",
        "import matplotlib.pyplot as plt\n",
        "import seaborn as sns\n",
        "\n",
        "from sklearn.model_selection import cross_val_score, train_test_split, StratifiedKFold, GridSearchCV, KFold\n",
        "from sklearn.discriminant_analysis import LinearDiscriminantAnalysis\n",
        "from sklearn.linear_model import LogisticRegression\n",
        "from sklearn.tree import DecisionTreeClassifier\n",
        "from sklearn.svm import SVC\n",
        "from sklearn.ensemble import RandomForestClassifier\n",
        "from sklearn.metrics import classification_report, accuracy_score, mean_squared_error, mean_absolute_error, r2_score\n",
        "from sklearn.neighbors import KNeighborsClassifier\n",
        "from sklearn.feature_selection import SelectKBest, f_classif, SequentialFeatureSelector, RFE\n",
        "\n",
        "import numpy.linalg as ln"
      ]
    },
    {
      "cell_type": "code",
      "source": [
        "data = np.loadtxt('/content/P1_1.txt')\n",
        "df = pd.DataFrame(data)"
      ],
      "metadata": {
        "id": "cQs7G_vDrSvc"
      },
      "execution_count": null,
      "outputs": []
    },
    {
      "cell_type": "markdown",
      "source": [
        "Revisión del balanceao de los datos"
      ],
      "metadata": {
        "id": "aJLUTjqZD4Eh"
      }
    },
    {
      "cell_type": "code",
      "source": [
        "distribucion_porcentaje = df[0].value_counts(normalize=True) * 100\n",
        "\n",
        "print(\"Distribución de clases en porcentaje:\")\n",
        "print(distribucion_porcentaje)"
      ],
      "metadata": {
        "colab": {
          "base_uri": "https://localhost:8080/"
        },
        "id": "umRQTs4gERp1",
        "outputId": "dcde1c15-0eac-4129-fa1f-8a3aeb782382"
      },
      "execution_count": null,
      "outputs": [
        {
          "output_type": "stream",
          "name": "stdout",
          "text": [
            "Distribución de clases en porcentaje:\n",
            "2.0    80.043073\n",
            "1.0    19.956927\n",
            "Name: 0, dtype: float64\n"
          ]
        }
      ]
    },
    {
      "cell_type": "code",
      "source": [
        "plt.figure(figsize=(4, 3))\n",
        "sns.barplot(x=distribucion_porcentaje.index, y=distribucion_porcentaje.values)\n",
        "plt.title('Distribución de Clases en Porcentaje')\n",
        "plt.ylabel('Porcentaje (%)')\n",
        "plt.show()"
      ],
      "metadata": {
        "colab": {
          "base_uri": "https://localhost:8080/",
          "height": 314
        },
        "id": "R_vT_zfVI0w9",
        "outputId": "f0dfbfac-8199-4534-f163-14f4027fcedd"
      },
      "execution_count": null,
      "outputs": [
        {
          "output_type": "display_data",
          "data": {
            "text/plain": [
              "<Figure size 400x300 with 1 Axes>"
            ],
            "image/png": "[encoded data removed]"
          },
          "metadata": {}
        }
      ]
    },
    {
      "cell_type": "markdown",
      "source": [
        "Dfinición de las variables dependientes e independientes"
      ],
      "metadata": {
        "id": "hkqmtH5QTOjo"
      }
    },
    {
      "cell_type": "code",
      "source": [
        "y = df[0]\n",
        "x = df.iloc[:,2:]\n",
        "\n",
        "x = x.to_numpy()\n",
        "y = y.to_numpy()"
      ],
      "metadata": {
        "id": "6Uy9YTFFuEde"
      },
      "execution_count": null,
      "outputs": []
    },
    {
      "cell_type": "markdown",
      "source": [
        "Clasificador 1: Árbol de Decisión"
      ],
      "metadata": {
        "id": "-8zVzdQEgF63"
      }
    },
    {
      "cell_type": "code",
      "source": [
        "kf = StratifiedKFold(n_splits=5, shuffle = True)\n",
        "\n",
        "cv_y_test = []\n",
        "cv_y_pred = []\n",
        "\n",
        "for train_index, test_index in kf.split(x, y):\n",
        "\n",
        "    x_train = x[train_index, :]\n",
        "    y_train = y[train_index]\n",
        "\n",
        "    x_test = x[test_index, :]\n",
        "    y_test = y[test_index]\n",
        "\n",
        "    x1 = x_train[y_train==1, :]\n",
        "    y1 = y_train[y_train==1]\n",
        "    n1 = len(y1)\n",
        "\n",
        "    x2 = x_train[y_train==2, :]\n",
        "    y2 = y_train[y_train==2]\n",
        "    n2 = len(y2)\n",
        "\n",
        "    ind = random.choices([i for i in range(n1)], k = n2)\n",
        "    x_sub = np.concatenate((x1[ind,:], x2), axis=0)\n",
        "    y_sub = np.concatenate((y1[ind], y2), axis=0)\n",
        "\n",
        "    clf = DecisionTreeClassifier()\n",
        "    clf.fit(x_sub, y_sub)\n",
        "\n",
        "    y_pred = clf.predict(x_test)\n",
        "\n",
        "    cv_y_test.append(y_test)\n",
        "    cv_y_pred.append(y_pred)\n",
        "\n",
        "print(classification_report(np.concatenate(cv_y_test), np.concatenate(cv_y_pred)))"
      ],
      "metadata": {
        "colab": {
          "base_uri": "https://localhost:8080/"
        },
        "id": "I7tDoZa8f07N",
        "outputId": "6e1bbd14-050c-4eb3-8c8a-b3dba814d227"
      },
      "execution_count": null,
      "outputs": [
        {
          "output_type": "stream",
          "name": "stdout",
          "text": [
            "              precision    recall  f1-score   support\n",
            "\n",
            "         1.0       0.55      0.56      0.56       278\n",
            "         2.0       0.89      0.89      0.89      1115\n",
            "\n",
            "    accuracy                           0.82      1393\n",
            "   macro avg       0.72      0.72      0.72      1393\n",
            "weighted avg       0.82      0.82      0.82      1393\n",
            "\n"
          ]
        }
      ]
    },
    {
      "cell_type": "markdown",
      "source": [
        "Clasificador 2: Máquinas de Soporte Vectorial lineal (SVM)"
      ],
      "metadata": {
        "id": "xi8v-n5wgOar"
      }
    },
    {
      "cell_type": "code",
      "source": [
        "kf = StratifiedKFold(n_splits=5, shuffle = True)\n",
        "\n",
        "cv_y_test = []\n",
        "cv_y_pred = []\n",
        "\n",
        "for train_index, test_index in kf.split(x, y):\n",
        "\n",
        "    x_train = x[train_index, :]\n",
        "    y_train = y[train_index]\n",
        "\n",
        "    x_test = x[test_index, :]\n",
        "    y_test = y[test_index]\n",
        "\n",
        "    x1 = x_train[y_train==1, :]\n",
        "    y1 = y_train[y_train==1]\n",
        "    n1 = len(y1)\n",
        "\n",
        "    x2 = x_train[y_train==2, :]\n",
        "    y2 = y_train[y_train==2]\n",
        "    n2 = len(y2)\n",
        "\n",
        "    ind = random.choices([i for i in range(n1)], k = n2)\n",
        "    x_sub = np.concatenate((x1[ind,:], x2), axis=0)\n",
        "    y_sub = np.concatenate((y1[ind], y2), axis=0)\n",
        "\n",
        "    clf = SVC(kernel = 'linear')\n",
        "    clf.fit(x_sub, y_sub)\n",
        "\n",
        "    y_pred = clf.predict(x_test)\n",
        "\n",
        "    cv_y_test.append(y_test)\n",
        "    cv_y_pred.append(y_pred)\n",
        "\n",
        "print(classification_report(np.concatenate(cv_y_test), np.concatenate(cv_y_pred)))"
      ],
      "metadata": {
        "colab": {
          "base_uri": "https://localhost:8080/"
        },
        "id": "qDu4OjBAf1RS",
        "outputId": "f3794438-4b9a-4ac6-d5d7-45bbfa26fea1"
      },
      "execution_count": null,
      "outputs": [
        {
          "output_type": "stream",
          "name": "stdout",
          "text": [
            "              precision    recall  f1-score   support\n",
            "\n",
            "         1.0       0.66      0.85      0.74       278\n",
            "         2.0       0.96      0.89      0.92      1115\n",
            "\n",
            "    accuracy                           0.88      1393\n",
            "   macro avg       0.81      0.87      0.83      1393\n",
            "weighted avg       0.90      0.88      0.89      1393\n",
            "\n"
          ]
        }
      ]
    },
    {
      "cell_type": "markdown",
      "source": [
        "Clasificador 3: Random Forest"
      ],
      "metadata": {
        "id": "luNepcaTgP_Q"
      }
    },
    {
      "cell_type": "code",
      "source": [
        "kf = StratifiedKFold(n_splits=5, shuffle = True)\n",
        "\n",
        "cv_y_test = []\n",
        "cv_y_pred = []\n",
        "\n",
        "for train_index, test_index in kf.split(x, y):\n",
        "\n",
        "    x_train = x[train_index, :]\n",
        "    y_train = y[train_index]\n",
        "\n",
        "    x1 = x_train[y_train==1, :]\n",
        "    y1 = y_train[y_train==1]\n",
        "    n1 = len(y1)\n",
        "\n",
        "    x2 = x_train[y_train==2, :]\n",
        "    y2 = y_train[y_train==2]\n",
        "    n2 = len(y2)\n",
        "\n",
        "    ind = random.choices([i for i in range(n1)], k = n2)\n",
        "    x_sub = np.concatenate((x1[ind,:], x2), axis=0)\n",
        "    y_sub = np.concatenate((y1[ind], y2), axis=0)\n",
        "\n",
        "    clf = RandomForestClassifier()\n",
        "    clf.fit(x_sub, y_sub)\n",
        "\n",
        "    x_test = x[test_index, :]\n",
        "    y_test = y[test_index]\n",
        "\n",
        "    y_pred = clf.predict(x_test)\n",
        "\n",
        "    cv_y_test.append(y_test)\n",
        "    cv_y_pred.append(y_pred)\n",
        "\n",
        "print(classification_report(np.concatenate(cv_y_test), np.concatenate(cv_y_pred)))"
      ],
      "metadata": {
        "colab": {
          "base_uri": "https://localhost:8080/"
        },
        "id": "d9zJSxVbf1a9",
        "outputId": "3fe1fbf3-6aa3-4a23-bbc1-48d725918585"
      },
      "execution_count": null,
      "outputs": [
        {
          "output_type": "stream",
          "name": "stdout",
          "text": [
            "              precision    recall  f1-score   support\n",
            "\n",
            "         1.0       0.87      0.59      0.70       278\n",
            "         2.0       0.91      0.98      0.94      1115\n",
            "\n",
            "    accuracy                           0.90      1393\n",
            "   macro avg       0.89      0.78      0.82      1393\n",
            "weighted avg       0.90      0.90      0.89      1393\n",
            "\n"
          ]
        }
      ]
    },
    {
      "cell_type": "markdown",
      "source": [
        "Clasificador 4: K Vecinos Más Cercanos (KNN)"
      ],
      "metadata": {
        "id": "7ZSfrH45gQPY"
      }
    },
    {
      "cell_type": "code",
      "source": [
        "kf = StratifiedKFold(n_splits=5, shuffle = True)\n",
        "\n",
        "cv_y_test = []\n",
        "cv_y_pred = []\n",
        "\n",
        "for train_index, test_index in kf.split(x, y):\n",
        "\n",
        "    x_train = x[train_index, :]\n",
        "    y_train = y[train_index]\n",
        "\n",
        "    x1 = x_train[y_train==1, :]\n",
        "    y1 = y_train[y_train==1]\n",
        "    n1 = len(y1)\n",
        "\n",
        "    x2 = x_train[y_train==2, :]\n",
        "    y2 = y_train[y_train==2]\n",
        "    n2 = len(y2)\n",
        "\n",
        "    ind = random.choices([i for i in range(n1)], k = n2)\n",
        "    x_sub = np.concatenate((x1[ind,:], x2), axis=0)\n",
        "    y_sub = np.concatenate((y1[ind], y2), axis=0)\n",
        "\n",
        "    clf = KNeighborsClassifier(n_neighbors=3)\n",
        "    clf.fit(x_sub, y_sub)\n",
        "\n",
        "    x_test = x[test_index, :]\n",
        "    y_test = y[test_index]\n",
        "\n",
        "    y_pred = clf.predict(x_test)\n",
        "\n",
        "    cv_y_test.append(y_test)\n",
        "    cv_y_pred.append(y_pred)\n",
        "\n",
        "print(classification_report(np.concatenate(cv_y_test), np.concatenate(cv_y_pred)))"
      ],
      "metadata": {
        "colab": {
          "base_uri": "https://localhost:8080/"
        },
        "id": "Vv5xeNErf1kc",
        "outputId": "b2de4af5-2d39-4e0e-fde1-884b47f9fa34"
      },
      "execution_count": null,
      "outputs": [
        {
          "output_type": "stream",
          "name": "stdout",
          "text": [
            "              precision    recall  f1-score   support\n",
            "\n",
            "         1.0       0.47      0.69      0.56       278\n",
            "         2.0       0.91      0.81      0.86      1115\n",
            "\n",
            "    accuracy                           0.78      1393\n",
            "   macro avg       0.69      0.75      0.71      1393\n",
            "weighted avg       0.82      0.78      0.80      1393\n",
            "\n"
          ]
        }
      ]
    },
    {
      "cell_type": "markdown",
      "source": [
        "Clasificador 5: Analisis de discriminante lineal"
      ],
      "metadata": {
        "id": "wmSdBp_2gQh5"
      }
    },
    {
      "cell_type": "code",
      "source": [
        "kf = StratifiedKFold(n_splits=5, shuffle = True)\n",
        "\n",
        "cv_y_test = []\n",
        "cv_y_pred = []\n",
        "\n",
        "for train_index, test_index in kf.split(x, y):\n",
        "\n",
        "    x_train = x[train_index, :]\n",
        "    y_train = y[train_index]\n",
        "\n",
        "    x1 = x_train[y_train==1, :]\n",
        "    y1 = y_train[y_train==1]\n",
        "    n1 = len(y1)\n",
        "\n",
        "    x2 = x_train[y_train==2, :]\n",
        "    y2 = y_train[y_train==2]\n",
        "    n2 = len(y2)\n",
        "\n",
        "    ind = random.choices([i for i in range(n1)], k = n2)\n",
        "    x_sub = np.concatenate((x1[ind,:], x2), axis=0)\n",
        "    y_sub = np.concatenate((y1[ind], y2), axis=0)\n",
        "\n",
        "    clf = LinearDiscriminantAnalysis()\n",
        "    clf.fit(x_sub, y_sub)\n",
        "\n",
        "    x_test = x[test_index, :]\n",
        "    y_test = y[test_index]\n",
        "\n",
        "    y_pred = clf.predict(x_test)\n",
        "\n",
        "    cv_y_test.append(y_test)\n",
        "    cv_y_pred.append(y_pred)\n",
        "\n",
        "print(classification_report(np.concatenate(cv_y_test), np.concatenate(cv_y_pred)))"
      ],
      "metadata": {
        "colab": {
          "base_uri": "https://localhost:8080/"
        },
        "id": "7TLdaxETer9V",
        "outputId": "8785c670-7216-4221-a7b2-b53a164f8ea1"
      },
      "execution_count": null,
      "outputs": [
        {
          "output_type": "stream",
          "name": "stdout",
          "text": [
            "              precision    recall  f1-score   support\n",
            "\n",
            "         1.0       0.63      0.81      0.71       278\n",
            "         2.0       0.95      0.88      0.91      1115\n",
            "\n",
            "    accuracy                           0.87      1393\n",
            "   macro avg       0.79      0.84      0.81      1393\n",
            "weighted avg       0.89      0.87      0.87      1393\n",
            "\n"
          ]
        }
      ]
    },
    {
      "cell_type": "markdown",
      "source": [
        "Regresión logística desde cero"
      ],
      "metadata": {
        "id": "Tz9Fcfqw6Dm7"
      }
    },
    {
      "cell_type": "markdown",
      "source": [
        "Funciones"
      ],
      "metadata": {
        "id": "6gqCUAJxtifS"
      }
    },
    {
      "cell_type": "code",
      "source": [
        "# Función sigmoide\n",
        "def sigmoid(z):\n",
        "    return 1./(1. + np.exp(-z))\n",
        "\n",
        "# Descenso de gradiente para regresión logística\n",
        "def grad(X, y, theta, num_iter):\n",
        "    m = len(y)\n",
        "    for _ in range(num_iter):\n",
        "        z = np.dot(X, theta)\n",
        "        h = sigmoid(z)\n",
        "        gradient = np.dot(X.T, (h - y)) / m\n",
        "        theta -= 0.1 * gradient\n",
        "    return theta\n",
        "\n",
        "# Función para predecir etiquetas de clase (1 o 2)\n",
        "def predict(X, theta):\n",
        "    z = np.dot(X, theta)\n",
        "    h = sigmoid(z)\n",
        "    # Transformar las probabilidades a etiquetas 1 o 2\n",
        "    return (h > 0.5).astype(int) + 1"
      ],
      "metadata": {
        "id": "Ab184-0o6DUD"
      },
      "execution_count": null,
      "outputs": []
    },
    {
      "cell_type": "code",
      "source": [
        "theta = np.zeros(x.shape[1])\n",
        "num_iter = 3000\n",
        "\n",
        "kf = StratifiedKFold(n_splits=5, shuffle = True)\n",
        "\n",
        "cv_y_test = []\n",
        "cv_y_pred = []\n",
        "\n",
        "for train_index, test_index in kf.split(x, y):\n",
        "\n",
        "    x_train = x[train_index, :]\n",
        "    y_train = y[train_index]\n",
        "\n",
        "    x1 = x_train[y_train==1, :]\n",
        "    y1 = y_train[y_train==1]\n",
        "    n1 = len(y1)\n",
        "\n",
        "    x2 = x_train[y_train==2, :]\n",
        "    y2 = y_train[y_train==2]\n",
        "    n2 = len(y2)\n",
        "\n",
        "    ind = random.choices([i for i in range(n1)], k = n2)\n",
        "    x_sub = np.concatenate((x1[ind,:], x2), axis=0)\n",
        "    y_sub = np.concatenate((y1[ind], y2), axis=0)\n",
        "\n",
        "    theta = grad(x_sub, y_sub, theta, num_iter)\n",
        "\n",
        "    x_test = x[test_index, :]\n",
        "    y_test = y[test_index]\n",
        "\n",
        "    y_pred = predict(x_test, theta)\n",
        "\n",
        "    cv_y_test.append(y_test)\n",
        "    cv_y_pred.append(y_pred)\n",
        "\n",
        "print(classification_report(np.concatenate(cv_y_test), np.concatenate(cv_y_pred)))"
      ],
      "metadata": {
        "id": "__14a9Rb-YGX",
        "colab": {
          "base_uri": "https://localhost:8080/"
        },
        "outputId": "a2417326-f16a-44c0-d5b0-ec89739959c0"
      },
      "execution_count": null,
      "outputs": [
        {
          "output_type": "stream",
          "name": "stderr",
          "text": [
            "<ipython-input-27-d3c658054f21>:3: RuntimeWarning: overflow encountered in exp\n",
            "  return 1./(1. + np.exp(-z))\n"
          ]
        },
        {
          "output_type": "stream",
          "name": "stdout",
          "text": [
            "              precision    recall  f1-score   support\n",
            "\n",
            "         1.0       0.24      0.14      0.17       278\n",
            "         2.0       0.81      0.89      0.85      1115\n",
            "\n",
            "    accuracy                           0.74      1393\n",
            "   macro avg       0.52      0.51      0.51      1393\n",
            "weighted avg       0.69      0.74      0.71      1393\n",
            "\n"
          ]
        }
      ]
    },
    {
      "cell_type": "markdown",
      "source": [
        "Número óptimo de características"
      ],
      "metadata": {
        "id": "Jt2_wbhe9aMZ"
      }
    },
    {
      "cell_type": "markdown",
      "source": [
        "Filter en SVM lineal"
      ],
      "metadata": {
        "id": "tU2PJnOZ9fb0"
      }
    },
    {
      "cell_type": "code",
      "source": [
        "n_feats = list(range(1,len(x[0])))\n",
        "\n",
        "acc_nfeat = []\n",
        "\n",
        "for n_feat in n_feats:\n",
        "    print('---- n features =', n_feat)\n",
        "\n",
        "    acc_cv = []\n",
        "\n",
        "    kf = StratifiedKFold(n_splits=5, shuffle = True)\n",
        "\n",
        "    for train_index, test_index in kf.split(x, y):\n",
        "\n",
        "        # Training phase\n",
        "        x_train = x[train_index, :]\n",
        "        y_train = y[train_index]\n",
        "\n",
        "        x1 = x_train[y_train==1, :]\n",
        "        y1 = y_train[y_train==1]\n",
        "        n1 = len(y1)\n",
        "\n",
        "        x2 = x_train[y_train==2, :]\n",
        "        y2 = y_train[y_train==2]\n",
        "        n2 = len(y2)\n",
        "\n",
        "        ind = random.choices([i for i in range(n1)], k = n2)\n",
        "        x_sub = np.concatenate((x1[ind,:], x2), axis=0)\n",
        "        y_sub = np.concatenate((y1[ind], y2), axis=0)\n",
        "\n",
        "        clf_cv = SVC(kernel = 'linear')\n",
        "\n",
        "        fselection_cv = SelectKBest(f_classif, k = n_feat)\n",
        "        fselection_cv.fit(x_sub, y_sub)\n",
        "        x_train = fselection_cv.transform(x_sub)\n",
        "\n",
        "        clf_cv.fit(x_train, y_sub)\n",
        "\n",
        "        # Test phase\n",
        "        x_test = fselection_cv.transform(x[test_index, :])\n",
        "        y_test = y[test_index]\n",
        "        y_pred = clf_cv.predict(x_test)\n",
        "\n",
        "\n",
        "        acc_i = accuracy_score(y_test, y_pred)\n",
        "        acc_cv.append(acc_i)\n",
        "\n",
        "    acc = np.average(acc_cv)\n",
        "    acc_nfeat.append(acc)\n",
        "\n",
        "    print('ACC:', acc)\n",
        "\n",
        "opt_index = np.argmax(acc_nfeat)\n",
        "opt_features = n_feats[opt_index]\n",
        "print(\"Optimal number of features: \", opt_features)\n",
        "\n",
        "plt.plot(n_feats, acc_nfeat)\n",
        "plt.xlabel(\"features\")\n",
        "plt.ylabel(\"Accuracy\")\n",
        "\n",
        "plt.show()\n",
        "\n",
        "# Fit model with optimal number of features\n",
        "clf = SVC(kernel = 'linear')\n",
        "fselection = SelectKBest(f_classif, k = opt_features)\n",
        "fselection.fit(x, y)\n",
        "\n",
        "print(\"Selected features: \", fselection.get_feature_names_out())"
      ],
      "metadata": {
        "colab": {
          "base_uri": "https://localhost:8080/",
          "height": 1000
        },
        "id": "UZY5cZ859i0L",
        "outputId": "20e87684-ad9b-49a4-c766-42a1c44ad63a"
      },
      "execution_count": null,
      "outputs": [
        {
          "output_type": "stream",
          "name": "stdout",
          "text": [
            "---- n features = 1\n",
            "ACC: 0.7422578066578994\n",
            "---- n features = 2\n",
            "ACC: 0.7559062427477372\n",
            "---- n features = 3\n",
            "ACC: 0.7875325546014801\n",
            "---- n features = 4\n",
            "ACC: 0.7961604909620692\n",
            "---- n features = 5\n",
            "ACC: 0.8133467419612697\n",
            "---- n features = 6\n",
            "ACC: 0.8212294680384724\n",
            "---- n features = 7\n",
            "ACC: 0.8126685748175653\n",
            "---- n features = 8\n",
            "ACC: 0.839181557979423\n",
            "---- n features = 9\n",
            "ACC: 0.8435135762357856\n",
            "---- n features = 10\n",
            "ACC: 0.8607307702225316\n",
            "---- n features = 11\n",
            "ACC: 0.8600190815089863\n",
            "---- n features = 12\n",
            "ACC: 0.8650292669090532\n",
            "---- n features = 13\n",
            "ACC: 0.8506742992702613\n",
            "---- n features = 14\n",
            "ACC: 0.8600061885975091\n",
            "---- n features = 15\n",
            "ACC: 0.859289342719373\n",
            "---- n features = 16\n",
            "ACC: 0.872950671720688\n",
            "---- n features = 17\n",
            "ACC: 0.8664681158299168\n",
            "---- n features = 18\n",
            "ACC: 0.8779660142853458\n",
            "---- n features = 19\n",
            "ACC: 0.8786777029988911\n",
            "---- n features = 20\n",
            "ACC: 0.8743456847425286\n",
            "---- n features = 21\n",
            "ACC: 0.8786725458343003\n",
            "---- n features = 22\n",
            "ACC: 0.8800907660967999\n",
            "---- n features = 23\n",
            "ACC: 0.8815425079291407\n",
            "---- n features = 24\n",
            "ACC: 0.8808669193677316\n",
            "---- n features = 25\n",
            "ACC: 0.8808617622031407\n",
            "---- n features = 26\n",
            "ACC: 0.8786751244165958\n",
            "---- n features = 27\n",
            "ACC: 0.8808566050385499\n",
            "---- n features = 28\n",
            "ACC: 0.8894639127407752\n",
            "---- n features = 29\n",
            "ACC: 0.8836982027281401\n",
            "---- n features = 30\n",
            "ACC: 0.8872721177896393\n",
            "---- n features = 31\n",
            "ACC: 0.8880095923261392\n",
            "---- n features = 32\n",
            "ACC: 0.885861633274026\n",
            "---- n features = 33\n",
            "ACC: 0.8908769758386839\n",
            "---- n features = 34\n",
            "ACC: 0.8851525231427761\n",
            "---- n features = 35\n",
            "ACC: 0.8822722467187539\n",
            "---- n features = 36\n",
            "ACC: 0.8844124700239808\n",
            "---- n features = 37\n",
            "ACC: 0.8872927464480028\n",
            "---- n features = 38\n",
            "ACC: 0.8865501147469121\n",
            "---- n features = 39\n",
            "ACC: 0.8908692400917975\n",
            "---- n features = 40\n",
            "ACC: 0.887310796524071\n",
            "---- n features = 41\n",
            "ACC: 0.890895025914752\n",
            "---- n features = 42\n",
            "ACC: 0.8801320234135271\n",
            "---- n features = 43\n",
            "ACC: 0.897341481653387\n",
            "---- n features = 44\n",
            "ACC: 0.8815579794229134\n",
            "---- n features = 45\n",
            "ACC: 0.8851370516490034\n",
            "---- n features = 46\n",
            "ACC: 0.8865681648229804\n",
            "---- n features = 47\n",
            "ACC: 0.879415177535391\n",
            "---- n features = 48\n",
            "ACC: 0.8894303911709341\n",
            "---- n features = 49\n",
            "ACC: 0.8872746963719347\n",
            "---- n features = 50\n",
            "ACC: 0.8937495165158197\n",
            "---- n features = 51\n",
            "ACC: 0.8959284185554782\n",
            "---- n features = 52\n",
            "ACC: 0.8851551017250717\n",
            "---- n features = 53\n",
            "ACC: 0.8930352492199788\n",
            "---- n features = 54\n",
            "ACC: 0.882277403883345\n",
            "---- n features = 55\n",
            "ACC: 0.9009463397024315\n",
            "---- n features = 56\n",
            "ACC: 0.895915525644001\n",
            "---- n features = 57\n",
            "ACC: 0.892326139088729\n",
            "---- n features = 58\n",
            "ACC: 0.8908898687501612\n",
            "---- n features = 59\n",
            "ACC: 0.8908821330032748\n",
            "---- n features = 60\n",
            "ACC: 0.8879966994146617\n",
            "---- n features = 61\n",
            "ACC: 0.8994868621232046\n",
            "---- n features = 62\n",
            "ACC: 0.894461205229365\n",
            "---- n features = 63\n",
            "ACC: 0.88372656713339\n",
            "---- n features = 64\n",
            "ACC: 0.8915835073876384\n",
            "---- n features = 65\n",
            "ACC: 0.8894252340063433\n",
            "---- n features = 66\n",
            "ACC: 0.8851344730667078\n",
            "---- n features = 67\n",
            "ACC: 0.8865784791521621\n",
            "---- n features = 68\n",
            "ACC: 0.8793997060416183\n",
            "---- n features = 69\n",
            "ACC: 0.8916015574637065\n",
            "---- n features = 70\n",
            "ACC: 0.8879966994146617\n",
            "---- n features = 71\n",
            "ACC: 0.894456048064774\n",
            "---- n features = 72\n",
            "ACC: 0.8980660632784095\n",
            "---- n features = 73\n",
            "ACC: 0.8887238596219799\n",
            "---- n features = 74\n",
            "ACC: 0.8829865140145948\n",
            "---- n features = 75\n",
            "ACC: 0.8894303911709341\n",
            "---- n features = 76\n",
            "ACC: 0.8959129470617055\n",
            "---- n features = 77\n",
            "ACC: 0.8908898687501612\n",
            "---- n features = 78\n",
            "ACC: 0.8923287176710243\n",
            "---- n features = 79\n",
            "ACC: 0.895160001031433\n",
            "---- n features = 80\n",
            "ACC: 0.8894329697532297\n",
            "---- n features = 81\n",
            "ACC: 0.8901652871251386\n",
            "---- n features = 82\n",
            "ACC: 0.8901781800366159\n",
            "---- n features = 83\n",
            "ACC: 0.8779660142853458\n",
            "---- n features = 84\n",
            "ACC: 0.8765168510353007\n",
            "---- n features = 85\n",
            "ACC: 0.8786725458343003\n",
            "---- n features = 86\n",
            "ACC: 0.8865707434052759\n",
            "---- n features = 87\n",
            "ACC: 0.901676078492045\n",
            "---- n features = 88\n",
            "ACC: 0.8901781800366159\n",
            "---- n features = 89\n",
            "ACC: 0.8829916711791856\n",
            "---- n features = 90\n",
            "ACC: 0.8836853098166628\n",
            "---- n features = 91\n",
            "ACC: 0.8844227843531627\n",
            "---- n features = 92\n",
            "ACC: 0.8930378278022741\n",
            "---- n features = 93\n",
            "ACC: 0.9030994559191357\n",
            "---- n features = 94\n",
            "ACC: 0.8858719476032079\n",
            "---- n features = 95\n",
            "ACC: 0.8923055104303653\n",
            "---- n features = 96\n",
            "ACC: 0.8894226554240479\n",
            "---- n features = 97\n",
            "ACC: 0.8844485701761172\n",
            "---- n features = 98\n",
            "ACC: 0.8894484412470023\n",
            "---- n features = 99\n",
            "ACC: 0.8915835073876384\n",
            "---- n features = 100\n",
            "ACC: 0.8729480931383925\n",
            "---- n features = 101\n",
            "ACC: 0.8915809288053428\n",
            "---- n features = 102\n",
            "ACC: 0.8836775740697764\n",
            "---- n features = 103\n",
            "ACC: 0.8851473659781852\n",
            "---- n features = 104\n",
            "ACC: 0.8908976044970475\n",
            "---- n features = 105\n",
            "ACC: 0.8772285397488462\n",
            "---- n features = 106\n",
            "ACC: 0.882254196642686\n",
            "---- n features = 107\n",
            "ACC: 0.8959206828085918\n",
            "---- n features = 108\n",
            "ACC: 0.8808179263041179\n",
            "---- n features = 109\n",
            "ACC: 0.8793971274593229\n",
            "---- n features = 110\n",
            "ACC: 0.8815321935999588\n",
            "---- n features = 111\n",
            "ACC: 0.8829890925968902\n",
            "---- n features = 112\n",
            "ACC: 0.8922900389365926\n",
            "---- n features = 113\n",
            "ACC: 0.8887290167865707\n",
            "---- n features = 114\n",
            "ACC: 0.8822645109718676\n",
            "---- n features = 115\n",
            "ACC: 0.8844176271885716\n",
            "---- n features = 116\n",
            "ACC: 0.8822696681364585\n",
            "---- n features = 117\n",
            "ACC: 0.8851396302312988\n",
            "---- n features = 118\n",
            "ACC: 0.8880276424022073\n",
            "---- n features = 119\n",
            "ACC: 0.879420334699982\n",
            "---- n features = 120\n",
            "ACC: 0.8815476650937315\n",
            "---- n features = 121\n",
            "ACC: 0.8880224852376164\n",
            "---- n features = 122\n",
            "ACC: 0.8837136742219128\n",
            "---- n features = 123\n",
            "ACC: 0.88801474949073\n",
            "---- n features = 124\n",
            "ACC: 0.883708517057322\n",
            "---- n features = 125\n",
            "ACC: 0.8758154766509373\n",
            "---- n features = 126\n",
            "ACC: 0.8944740981408421\n",
            "---- n features = 127\n",
            "ACC: 0.8837188313865036\n",
            "---- n features = 128\n",
            "ACC: 0.8808359763801862\n",
            "---- n features = 129\n",
            "ACC: 0.8829581496093448\n",
            "---- n features = 130\n",
            "ACC: 0.8865655862406848\n",
            "---- n features = 131\n",
            "ACC: 0.8944844124700241\n",
            "---- n features = 132\n",
            "ACC: 0.8779531213738687\n",
            "---- n features = 133\n",
            "ACC: 0.8873004821948891\n",
            "---- n features = 134\n",
            "ACC: 0.8894716484876616\n",
            "---- n features = 135\n",
            "ACC: 0.8808308192155954\n",
            "---- n features = 136\n",
            "ACC: 0.8851576803073671\n",
            "---- n features = 137\n",
            "ACC: 0.8887006523813208\n",
            "---- n features = 138\n",
            "ACC: 0.8700961811196203\n",
            "---- n features = 139\n",
            "ACC: 0.8836904669812536\n",
            "---- n features = 140\n",
            "ACC: 0.8822361465666176\n",
            "---- n features = 141\n",
            "ACC: 0.882295453959413\n",
            "---- n features = 142\n",
            "ACC: 0.8872953250302984\n",
            "---- n features = 143\n",
            "ACC: 0.8700910239550295\n",
            "---- n features = 144\n",
            "ACC: 0.8808488692916633\n",
            "---- n features = 145\n",
            "ACC: 0.8729429359738015\n",
            "---- n features = 146\n",
            "ACC: 0.8822980325417087\n",
            "---- n features = 147\n",
            "ACC: 0.880113973337459\n",
            "---- n features = 148\n",
            "ACC: 0.8908821330032749\n",
            "---- n features = 149\n",
            "ACC: 0.8858745261855032\n",
            "---- n features = 150\n",
            "ACC: 0.8786905959103685\n",
            "---- n features = 151\n",
            "ACC: 0.891598978881411\n",
            "---- n features = 152\n",
            "ACC: 0.8808359763801862\n",
            "Optimal number of features:  93\n"
          ]
        },
        {
          "output_type": "display_data",
          "data": {
            "text/plain": [
              "<Figure size 640x480 with 1 Axes>"
            ],
            "image/png": "[encoded data removed]"
          },
          "metadata": {}
        },
        {
          "output_type": "stream",
          "name": "stdout",
          "text": [
            "Selected features:  ['x0' 'x2' 'x3' 'x4' 'x6' 'x7' 'x11' 'x12' 'x13' 'x14' 'x15' 'x16' 'x17'\n",
            " 'x18' 'x19' 'x20' 'x21' 'x22' 'x23' 'x24' 'x25' 'x26' 'x27' 'x28' 'x29'\n",
            " 'x30' 'x31' 'x32' 'x36' 'x37' 'x38' 'x39' 'x40' 'x50' 'x51' 'x54' 'x55'\n",
            " 'x56' 'x57' 'x60' 'x61' 'x62' 'x63' 'x64' 'x65' 'x66' 'x67' 'x73' 'x74'\n",
            " 'x76' 'x77' 'x78' 'x79' 'x80' 'x81' 'x82' 'x83' 'x84' 'x87' 'x88' 'x89'\n",
            " 'x90' 'x91' 'x92' 'x93' 'x96' 'x97' 'x103' 'x104' 'x111' 'x112' 'x113'\n",
            " 'x115' 'x116' 'x117' 'x118' 'x120' 'x121' 'x123' 'x124' 'x125' 'x126'\n",
            " 'x127' 'x129' 'x130' 'x133' 'x134' 'x139' 'x140' 'x141' 'x142' 'x148'\n",
            " 'x149']\n"
          ]
        }
      ]
    },
    {
      "cell_type": "markdown",
      "source": [
        "Wrapper"
      ],
      "metadata": {
        "id": "p5_4i7dlbf39"
      }
    },
    {
      "cell_type": "code",
      "source": [
        "#Se esta evaluando unicamente con 1 caracteristica debido a que tarda mucho tiempo en ejecutarse con todas\n",
        "#Si se quiere probar con todas se tiene que cambiar n_feats a n_feats = list(range(1,len(x[0])))\n",
        "n_feats = [1,2]#[1, 2, 3, 4]\n",
        "\n",
        "acc_nfeat = []\n",
        "\n",
        "for n_feat in n_feats:\n",
        "    print('---- n features =', n_feat)\n",
        "\n",
        "    acc_cv = []\n",
        "\n",
        "    kf = StratifiedKFold(n_splits=5, shuffle = True)\n",
        "\n",
        "    for train_index, test_index in kf.split(x, y):\n",
        "\n",
        "        # Training phase\n",
        "        x_train = x[train_index, :]\n",
        "        y_train = y[train_index]\n",
        "\n",
        "        x1 = x_train[y_train==1, :]\n",
        "        y1 = y_train[y_train==1]\n",
        "        n1 = len(y1)\n",
        "\n",
        "        x2 = x_train[y_train==2, :]\n",
        "        y2 = y_train[y_train==2]\n",
        "        n2 = len(y2)\n",
        "\n",
        "        ind = random.choices([i for i in range(n1)], k = n2)\n",
        "        x_sub = np.concatenate((x1[ind,:], x2), axis=0)\n",
        "        y_sub = np.concatenate((y1[ind], y2), axis=0)\n",
        "\n",
        "        clf_cv = SVC(kernel = 'linear')\n",
        "\n",
        "        fselection_cv = SequentialFeatureSelector(clf_cv, n_features_to_select=n_feat)\n",
        "        fselection_cv.fit(x_sub, y_sub)\n",
        "        x_train = fselection_cv.transform(x_sub)\n",
        "\n",
        "        clf_cv.fit(x_train, y_sub)\n",
        "\n",
        "        # Test phase\n",
        "        x_test = fselection_cv.transform(x[test_index, :])\n",
        "        y_test = y[test_index]\n",
        "        y_pred = clf_cv.predict(x_test)\n",
        "\n",
        "\n",
        "        acc_i = accuracy_score(y_test, y_pred)\n",
        "        acc_cv.append(acc_i)\n",
        "\n",
        "    acc = np.average(acc_cv)\n",
        "    acc_nfeat.append(acc)\n",
        "\n",
        "    print('ACC:', acc)\n",
        "\n",
        "opt_index = np.argmax(acc_nfeat)\n",
        "opt_features = n_feats[opt_index]\n",
        "print(\"Optimal number of features: \", opt_features)\n",
        "\n",
        "plt.plot(n_feats, acc_nfeat)\n",
        "plt.xlabel(\"features\")\n",
        "plt.ylabel(\"Accuracy\")\n",
        "\n",
        "plt.show()\n",
        "\n",
        "# Fit model with optimal number of features\n",
        "clf = SVC(kernel = 'linear')\n",
        "fselection = SequentialFeatureSelector(clf, n_features_to_select = opt_features)\n",
        "fselection.fit(x, y)\n",
        "\n",
        "print(\"Selected features: \", fselection.get_feature_names_out())"
      ],
      "metadata": {
        "id": "zccGEd9FZ79T",
        "colab": {
          "base_uri": "https://localhost:8080/",
          "height": 558
        },
        "outputId": "e87322d3-ec81-4e58-9c7e-1f0f5d2a0c83"
      },
      "execution_count": null,
      "outputs": [
        {
          "output_type": "stream",
          "name": "stdout",
          "text": [
            "---- n features = 1\n",
            "ACC: 0.7372192568525824\n",
            "---- n features = 2\n",
            "ACC: 0.7803434671617545\n",
            "Optimal number of features:  2\n"
          ]
        },
        {
          "output_type": "display_data",
          "data": {
            "text/plain": [
              "<Figure size 640x480 with 1 Axes>"
            ],
            "image/png": "[encoded data removed]"
          },
          "metadata": {}
        },
        {
          "output_type": "stream",
          "name": "stdout",
          "text": [
            "Selected features:  ['x13' 'x18']\n"
          ]
        }
      ]
    },
    {
      "cell_type": "markdown",
      "source": [
        "Filter-Wrapper"
      ],
      "metadata": {
        "id": "msLEUH_hbhG4"
      }
    },
    {
      "cell_type": "code",
      "source": [
        "n_feats = [1,2]#[1, 2, 3, 4]\n",
        "\n",
        "acc_nfeat = []\n",
        "\n",
        "for n_feat in n_feats:\n",
        "    print('---- n features =', n_feat)\n",
        "\n",
        "    acc_cv = []\n",
        "\n",
        "    kf = StratifiedKFold(n_splits=5, shuffle = True)\n",
        "\n",
        "    for train_index, test_index in kf.split(x, y):\n",
        "\n",
        "        # Training phase\n",
        "        x_train = x[train_index, :]\n",
        "        y_train = y[train_index]\n",
        "\n",
        "        x1 = x_train[y_train==1, :]\n",
        "        y1 = y_train[y_train==1]\n",
        "        n1 = len(y1)\n",
        "\n",
        "        x2 = x_train[y_train==2, :]\n",
        "        y2 = y_train[y_train==2]\n",
        "        n2 = len(y2)\n",
        "\n",
        "        ind = random.choices([i for i in range(n1)], k = n2)\n",
        "        x_sub = np.concatenate((x1[ind,:], x2), axis=0)\n",
        "        y_sub = np.concatenate((y1[ind], y2), axis=0)\n",
        "\n",
        "        clf_cv = SVC(kernel = 'linear')\n",
        "\n",
        "        fselection_cv = RFE(clf_cv, n_features_to_select=n_feat)\n",
        "        fselection_cv.fit(x_sub, y_sub)\n",
        "        x_train = fselection_cv.transform(x_sub)\n",
        "\n",
        "        clf_cv.fit(x_train, y_sub)\n",
        "\n",
        "        # Test phase\n",
        "        x_test = fselection_cv.transform(x[test_index, :])\n",
        "        y_test = y[test_index]\n",
        "        y_pred = clf_cv.predict(x_test)\n",
        "\n",
        "\n",
        "        acc_i = accuracy_score(y_test, y_pred)\n",
        "        acc_cv.append(acc_i)\n",
        "\n",
        "    acc = np.average(acc_cv)\n",
        "    acc_nfeat.append(acc)\n",
        "\n",
        "    print('ACC:', acc)\n",
        "\n",
        "opt_index = np.argmax(acc_nfeat)\n",
        "opt_features = n_feats[opt_index]\n",
        "print(\"Optimal number of features: \", opt_features)\n",
        "\n",
        "plt.plot(n_feats, acc_nfeat)\n",
        "plt.xlabel(\"features\")\n",
        "plt.ylabel(\"Accuracy\")\n",
        "\n",
        "plt.show()\n",
        "\n",
        "# Fit model with optimal number of features\n",
        "clf = SVC(kernel = 'linear')\n",
        "fselection = RFE(clf, n_features_to_select = opt_features)\n",
        "fselection.fit(x, y)\n",
        "\n",
        "print(\"Selected features: \", fselection.get_feature_names_out())\n"
      ],
      "metadata": {
        "colab": {
          "base_uri": "https://localhost:8080/",
          "height": 558
        },
        "id": "Miqw59gfbjH5",
        "outputId": "22103ea4-0f12-4a2a-e3b4-d730d184c20f"
      },
      "execution_count": null,
      "outputs": [
        {
          "output_type": "stream",
          "name": "stdout",
          "text": [
            "---- n features = 1\n",
            "ACC: 0.7221551790825405\n",
            "---- n features = 2\n",
            "ACC: 0.800415151749568\n",
            "Optimal number of features:  2\n"
          ]
        },
        {
          "output_type": "display_data",
          "data": {
            "text/plain": [
              "<Figure size 640x480 with 1 Axes>"
            ],
            "image/png": "[encoded data removed]"
          },
          "metadata": {}
        },
        {
          "output_type": "stream",
          "name": "stdout",
          "text": [
            "Selected features:  ['x13' 'x18']\n"
          ]
        }
      ]
    },
    {
      "cell_type": "markdown",
      "source": [
        "Ajuste del modelo con las características encontradas enn filter.\n",
        "\n",
        "Variables seleccionadas:\n",
        "\n",
        "Selected features:  ['x3' 'x11' 'x12' 'x13' 'x14' 'x16' 'x17' 'x18' 'x19' 'x20' 'x21' 'x22'\n",
        " 'x23' 'x26' 'x27' 'x28' 'x29' 'x30' 'x31' 'x32' 'x38' 'x39' 'x55' 'x56'\n",
        " 'x60' 'x61' 'x62' 'x64' 'x65' 'x66' 'x67' 'x76' 'x77' 'x78' 'x79' 'x80'\n",
        " 'x81' 'x82' 'x83' 'x87' 'x88' 'x89' 'x90' 'x91' 'x92' 'x112' 'x113'\n",
        " 'x116' 'x117' 'x123' 'x124' 'x125' 'x126' 'x127' 'x140' 'x141']"
      ],
      "metadata": {
        "id": "A77K4d_abaJo"
      }
    },
    {
      "cell_type": "code",
      "source": [
        "X = pd.DataFrame(x)"
      ],
      "metadata": {
        "id": "4Z_I18Qja-8m"
      },
      "execution_count": null,
      "outputs": []
    },
    {
      "cell_type": "code",
      "source": [
        "X = X.loc[:, [3,11,12,13,14,16,17,18,19,20,21,22,23,26,27,28,29,30,31,32,38,39,55,56,60,61,62,64,65,66,67,76,77,78,79,80,81,82,83,87,88,89,90,91,92,112,113,116,117,123,124,125,126,127,140,141]]"
      ],
      "metadata": {
        "id": "uZjyPqV3c3Mk"
      },
      "execution_count": null,
      "outputs": []
    },
    {
      "cell_type": "code",
      "source": [
        "x = X.to_numpy()"
      ],
      "metadata": {
        "id": "iGaqJfVymwWq"
      },
      "execution_count": null,
      "outputs": []
    },
    {
      "cell_type": "markdown",
      "source": [
        "Selección de características"
      ],
      "metadata": {
        "id": "y9PHtIDnpB8j"
      }
    },
    {
      "cell_type": "code",
      "source": [
        "n_feats = list(range(1,len(x[0])))\n",
        "\n",
        "acc_nfeat = []\n",
        "\n",
        "for n_feat in n_feats:\n",
        "    print('---- n features =', n_feat)\n",
        "\n",
        "    acc_cv = []\n",
        "\n",
        "    kf = StratifiedKFold(n_splits=5, shuffle = True)\n",
        "\n",
        "    for train_index, test_index in kf.split(x, y):\n",
        "\n",
        "        # Training phase\n",
        "        x_train = x[train_index, :]\n",
        "        y_train = y[train_index]\n",
        "\n",
        "        x1 = x_train[y_train==1, :]\n",
        "        y1 = y_train[y_train==1]\n",
        "        n1 = len(y1)\n",
        "\n",
        "        x2 = x_train[y_train==2, :]\n",
        "        y2 = y_train[y_train==2]\n",
        "        n2 = len(y2)\n",
        "\n",
        "        ind = random.choices([i for i in range(n1)], k = n2)\n",
        "        x_sub = np.concatenate((x1[ind,:], x2), axis=0)\n",
        "        y_sub = np.concatenate((y1[ind], y2), axis=0)\n",
        "\n",
        "        clf_cv = SVC(kernel = 'linear')\n",
        "\n",
        "        fselection_cv = SelectKBest(f_classif, k = n_feat)\n",
        "        fselection_cv.fit(x_sub, y_sub)\n",
        "        x_train = fselection_cv.transform(x_sub)\n",
        "\n",
        "        clf_cv.fit(x_train, y_sub)\n",
        "\n",
        "        # Test phase\n",
        "        x_test = fselection_cv.transform(x[test_index, :])\n",
        "        y_test = y[test_index]\n",
        "        y_pred = clf_cv.predict(x_test)\n",
        "\n",
        "\n",
        "        acc_i = accuracy_score(y_test, y_pred)\n",
        "        acc_cv.append(acc_i)\n",
        "\n",
        "    acc = np.average(acc_cv)\n",
        "    acc_nfeat.append(acc)\n",
        "\n",
        "    print('ACC:', acc)\n",
        "\n",
        "opt_index = np.argmax(acc_nfeat)\n",
        "opt_features = n_feats[opt_index]\n",
        "print(\"Optimal number of features: \", opt_features)\n",
        "\n",
        "plt.plot(n_feats, acc_nfeat)\n",
        "plt.xlabel(\"features\")\n",
        "plt.ylabel(\"Accuracy\")\n",
        "\n",
        "plt.show()\n",
        "\n",
        "# Fit model with optimal number of features\n",
        "clf = SVC(kernel = 'linear')\n",
        "fselection = SelectKBest(f_classif, k = opt_features)\n",
        "fselection.fit(x, y)\n",
        "\n",
        "print(\"Selected features: \", fselection.get_feature_names_out())"
      ],
      "metadata": {
        "colab": {
          "base_uri": "https://localhost:8080/",
          "height": 1000
        },
        "id": "HyEVw1bspguw",
        "outputId": "4d83ea17-bc0f-4b04-fdfd-8b2b07286d96"
      },
      "execution_count": null,
      "outputs": [
        {
          "output_type": "stream",
          "name": "stdout",
          "text": [
            "---- n features = 1\n",
            "ACC: 0.7279105747659936\n",
            "---- n features = 2\n",
            "ACC: 0.7566462958665326\n",
            "---- n features = 3\n",
            "ACC: 0.790361259379593\n",
            "---- n features = 4\n",
            "ACC: 0.8004280446610453\n",
            "---- n features = 5\n",
            "ACC: 0.8090585596039297\n",
            "---- n features = 6\n",
            "ACC: 0.8169283927696552\n",
            "---- n features = 7\n",
            "ACC: 0.8176529743946779\n",
            "---- n features = 8\n",
            "ACC: 0.8413372527784224\n",
            "---- n features = 9\n",
            "ACC: 0.8506717206879658\n",
            "---- n features = 10\n",
            "ACC: 0.8484979758128981\n",
            "---- n features = 11\n",
            "ACC: 0.8593048142131456\n",
            "---- n features = 12\n",
            "ACC: 0.8557102704932827\n",
            "---- n features = 13\n",
            "ACC: 0.8614244088600088\n",
            "---- n features = 14\n",
            "ACC: 0.8578530723808051\n",
            "---- n features = 15\n",
            "ACC: 0.8607385059694181\n",
            "---- n features = 16\n",
            "ACC: 0.8750934736082101\n",
            "---- n features = 17\n",
            "ACC: 0.871496351306052\n",
            "---- n features = 18\n",
            "ACC: 0.8664939016528713\n",
            "---- n features = 19\n",
            "ACC: 0.8736520461050514\n",
            "---- n features = 20\n",
            "ACC: 0.8801062375905728\n",
            "---- n features = 21\n",
            "ACC: 0.885134473066708\n",
            "---- n features = 22\n",
            "ACC: 0.871496351306052\n",
            "---- n features = 23\n",
            "ACC: 0.8829736211031175\n",
            "---- n features = 24\n",
            "ACC: 0.8801165519197547\n",
            "---- n features = 25\n",
            "ACC: 0.8829813568500038\n",
            "---- n features = 26\n",
            "ACC: 0.8851525231427761\n",
            "---- n features = 27\n",
            "ACC: 0.8894432840824115\n",
            "---- n features = 28\n",
            "ACC: 0.8793584487248911\n",
            "---- n features = 29\n",
            "ACC: 0.8858822619323895\n",
            "---- n features = 30\n",
            "ACC: 0.886555271911503\n",
            "---- n features = 31\n",
            "ACC: 0.8865346432531395\n",
            "---- n features = 32\n",
            "ACC: 0.8872850107011165\n",
            "---- n features = 33\n",
            "ACC: 0.8808359763801862\n",
            "---- n features = 34\n",
            "ACC: 0.8837085170573218\n",
            "---- n features = 35\n",
            "ACC: 0.8822516180603903\n",
            "---- n features = 36\n",
            "ACC: 0.8822438823135041\n",
            "---- n features = 37\n",
            "ACC: 0.8872746963719347\n",
            "---- n features = 38\n",
            "ACC: 0.8786905959103685\n",
            "---- n features = 39\n",
            "ACC: 0.882981356850004\n",
            "---- n features = 40\n",
            "ACC: 0.8915886645522292\n",
            "---- n features = 41\n",
            "ACC: 0.8815038291947088\n",
            "---- n features = 42\n",
            "ACC: 0.8858513189448441\n",
            "---- n features = 43\n",
            "ACC: 0.8815708723343905\n",
            "---- n features = 44\n",
            "ACC: 0.8916196075397747\n",
            "---- n features = 45\n",
            "ACC: 0.8901240298084112\n",
            "---- n features = 46\n",
            "ACC: 0.8887625383564115\n",
            "---- n features = 47\n",
            "ACC: 0.8844073128593898\n",
            "---- n features = 48\n",
            "ACC: 0.8808333977978908\n",
            "---- n features = 49\n",
            "ACC: 0.8887264382042753\n",
            "---- n features = 50\n",
            "ACC: 0.8872953250302983\n",
            "---- n features = 51\n",
            "ACC: 0.8894587555761844\n",
            "---- n features = 52\n",
            "ACC: 0.8901781800366159\n",
            "---- n features = 53\n",
            "ACC: 0.8958974755679329\n",
            "---- n features = 54\n",
            "ACC: 0.8916041360460019\n",
            "---- n features = 55\n",
            "ACC: 0.89162218612207\n",
            "Optimal number of features:  53\n"
          ]
        },
        {
          "output_type": "display_data",
          "data": {
            "text/plain": [
              "<Figure size 640x480 with 1 Axes>"
            ],
            "image/png": "[encoded data removed]"
          },
          "metadata": {}
        },
        {
          "output_type": "stream",
          "name": "stdout",
          "text": [
            "Selected features:  ['x1' 'x2' 'x3' 'x4' 'x5' 'x6' 'x7' 'x8' 'x9' 'x10' 'x11' 'x12' 'x13'\n",
            " 'x14' 'x15' 'x16' 'x17' 'x18' 'x19' 'x20' 'x21' 'x22' 'x23' 'x24' 'x25'\n",
            " 'x26' 'x27' 'x28' 'x29' 'x30' 'x32' 'x33' 'x34' 'x35' 'x36' 'x37' 'x38'\n",
            " 'x39' 'x40' 'x41' 'x42' 'x43' 'x44' 'x45' 'x46' 'x47' 'x48' 'x49' 'x50'\n",
            " 'x51' 'x52' 'x53' 'x55']\n"
          ]
        }
      ]
    },
    {
      "cell_type": "code",
      "source": [
        "X = pd.DataFrame(x)\n",
        "X = X.loc[:, [1,2,3,4,5,6,7,8,9,10,11,12,13,14,15,16,17,18,21,25,26,27,28,29,32,33,34,35,36,37,40,41,42,43,44,45,46,47,48,49,50,51,52]]\n",
        "x = X.to_numpy()"
      ],
      "metadata": {
        "id": "SthtFXjCqFFm"
      },
      "execution_count": null,
      "outputs": []
    },
    {
      "cell_type": "markdown",
      "source": [
        "Ajuste del modelo SVM lineal"
      ],
      "metadata": {
        "id": "Gr3EHk4yrOQf"
      }
    },
    {
      "cell_type": "code",
      "source": [
        "kf = StratifiedKFold(n_splits=5, shuffle = True)\n",
        "\n",
        "cv_y_test = []\n",
        "cv_y_pred = []"
      ],
      "metadata": {
        "id": "qTQpkE_7sb_q"
      },
      "execution_count": null,
      "outputs": []
    },
    {
      "cell_type": "code",
      "source": [
        "for train_index, test_index in kf.split(x, y):\n",
        "\n",
        "    x_train = x[train_index, :]\n",
        "    y_train = y[train_index]\n",
        "\n",
        "    x_test = x[test_index, :]\n",
        "    y_test = y[test_index]\n",
        "\n",
        "    x1 = x_train[y_train==1, :]\n",
        "    y1 = y_train[y_train==1]\n",
        "    n1 = len(y1)\n",
        "\n",
        "    x2 = x_train[y_train==2, :]\n",
        "    y2 = y_train[y_train==2]\n",
        "    n2 = len(y2)\n",
        "\n",
        "    ind = random.choices([i for i in range(n1)], k = n2)\n",
        "    x_sub = np.concatenate((x1[ind,:], x2), axis=0)\n",
        "    y_sub = np.concatenate((y1[ind], y2), axis=0)\n",
        "\n",
        "    clf = SVC(kernel = 'linear')\n",
        "    clf.fit(x_sub, y_sub)\n",
        "\n",
        "    y_pred = clf.predict(x_test)\n",
        "\n",
        "    cv_y_test.append(y_test)\n",
        "    cv_y_pred.append(y_pred)\n",
        "\n",
        "print(classification_report(np.concatenate(cv_y_test), np.concatenate(cv_y_pred)))"
      ],
      "metadata": {
        "colab": {
          "base_uri": "https://localhost:8080/"
        },
        "id": "sp0TOKRqqslp",
        "outputId": "73034926-06f5-4d3a-9628-a593ec7dd7a3"
      },
      "execution_count": null,
      "outputs": [
        {
          "output_type": "stream",
          "name": "stdout",
          "text": [
            "              precision    recall  f1-score   support\n",
            "\n",
            "         1.0       0.68      0.88      0.77       278\n",
            "         2.0       0.97      0.90      0.93      1115\n",
            "\n",
            "    accuracy                           0.89      1393\n",
            "   macro avg       0.82      0.89      0.85      1393\n",
            "weighted avg       0.91      0.89      0.90      1393\n",
            "\n"
          ]
        }
      ]
    },
    {
      "cell_type": "markdown",
      "source": [
        "¿Qué pasa si no se considera el problema de tener datos desbalanceados para este caso? ¿Por qué?\n",
        "\n",
        "**Si se llega a omitir el desbalanceo de los datos puede tener diferentes efectos en el renddimiento del modelo y en la interpretación de los resultados, esto es debido a que una de las clases tiene muchas más instancias que la otra u otras, entre los problemas más comunes se tienen, la dificultad al evaluar el rendimiento del modelo, un sesgo hacia la clase mayoritaria o un rendimiento deficiente en la clase minoritaria**\n",
        "\n",
        "De todos los clasificadores, ¿cuál o cuales consideras que son adecuados para los datos? ¿Qué propiedades tienen dichos modelos que los hacen apropiados para los datos? Argumenta tu respuesta.\n",
        "\n",
        "**Entre todos los clasificadores revisados opino que el clasificador SVM se ajusta de la mejor forma, creo que esto se debe a que los SVM pueden funcionar bien en conjuntos de datos con un gran número de características debido a su capacidad para separar datos en un espacio con muchas dimensiones. Esta capcidad de separación ayuda a que el algoritmo pueda maximizar la distancia entre los puntos de datos de diferentes clases, lo que ayuda a clasificarlos de la mejor manera posible.**\n",
        "\n",
        "¿Es posibles reducir la dimensionalidad del problema sin perder rendimiento en el modelo? ¿Por qué?\n",
        "\n",
        "**Si es posible, siempre y cuando se realice una selección de características o una reducción de dimensionalidad de manera cuidadosa y estratégica, como: eliminación de características irrelevantes o redundantes o haciendo una reducción del riesgo de sobreajuste.**\n",
        "\n",
        "¿Qué método de selección de características consideras el más adecuado para este caso? ¿Por qué?\n",
        "\n",
        "**Para este caso considero que el clasificador de maquinas de soporte vectorial es el mas adecuado, esto es debido a loque se explico previamente, ya que pocos modelos pueden trabajar bien cuando se cuantan con muchos parametros.**\n",
        "\n",
        "Si quisieras mejorar el rendimiento de tus modelos, ¿qué más se podría hacer?\n",
        "\n",
        "**Creo que un area que se podria mejorar en estte caso podria ser la selección de hiperparametros, ya que al obtener el valor optimo la eficiencia del modelo puede ser elevada considerablemente.**"
      ],
      "metadata": {
        "id": "1hDtg7DwxX4Q"
      }
    },
    {
      "cell_type": "markdown",
      "source": [
        "<h2>Ejercicio 2\n",
        "\n",
        "En este ejercicio trabajarás con datos que vienen de un experimento en el que se midió actividad muscular con la técnica de la Electromiografía en el brazo derecho de varios participantes cuando éstos realizaban un movimiento con la mano entre siete posible (Flexionar hacia arriba, Flexionar hacia abajo, Cerrar la mano, Estirar la mano, Abrir la mano, Coger un objeto, No moverse)."
      ],
      "metadata": {
        "id": "X_q6kvywuXqa"
      }
    },
    {
      "cell_type": "code",
      "source": [
        "data = np.loadtxt('/content/M_5.txt')\n",
        "df = pd.DataFrame(data)"
      ],
      "metadata": {
        "id": "rmFxodsdc03F"
      },
      "execution_count": null,
      "outputs": []
    },
    {
      "cell_type": "markdown",
      "source": [
        "Distribución de los datos"
      ],
      "metadata": {
        "id": "F8jpDLY8dE12"
      }
    },
    {
      "cell_type": "code",
      "source": [
        "distribucion_porcentaje = df[0].value_counts(normalize=True) * 100\n",
        "\n",
        "print(\"Distribución de clases en porcentaje:\")\n",
        "print(distribucion_porcentaje)"
      ],
      "metadata": {
        "colab": {
          "base_uri": "https://localhost:8080/"
        },
        "id": "LEmVptXTdHth",
        "outputId": "e1ffd274-c8c6-40d7-b616-2e4f1be1bb47"
      },
      "execution_count": null,
      "outputs": [
        {
          "output_type": "stream",
          "name": "stdout",
          "text": [
            "Distribución de clases en porcentaje:\n",
            "1.0    14.308426\n",
            "2.0    14.308426\n",
            "3.0    14.308426\n",
            "4.0    14.308426\n",
            "5.0    14.308426\n",
            "6.0    14.308426\n",
            "7.0    14.149444\n",
            "Name: 0, dtype: float64\n"
          ]
        }
      ]
    },
    {
      "cell_type": "code",
      "source": [
        "plt.figure(figsize=(4, 3))\n",
        "sns.barplot(x=distribucion_porcentaje.index, y=distribucion_porcentaje.values)\n",
        "plt.title('Distribución de Clases en Porcentaje')\n",
        "plt.ylabel('Porcentaje (%)')\n",
        "plt.show()"
      ],
      "metadata": {
        "colab": {
          "base_uri": "https://localhost:8080/",
          "height": 314
        },
        "id": "Z42pgb-adGvy",
        "outputId": "6f767032-07c6-4c5f-ef47-bf57d43d7d14"
      },
      "execution_count": null,
      "outputs": [
        {
          "output_type": "display_data",
          "data": {
            "text/plain": [
              "<Figure size 400x300 with 1 Axes>"
            ],
            "image/png": "[encoded data removed]"
          },
          "metadata": {}
        }
      ]
    },
    {
      "cell_type": "markdown",
      "source": [
        "Analizando los datos se determina que los datos se encuentran balanceados"
      ],
      "metadata": {
        "id": "1pBSHv3blnCJ"
      }
    },
    {
      "cell_type": "markdown",
      "source": [
        "Clasificadores"
      ],
      "metadata": {
        "id": "jCPaXiv5dlGq"
      }
    },
    {
      "cell_type": "code",
      "source": [
        "y = df[0]\n",
        "x = df.iloc[:,2:]\n",
        "\n",
        "x = x.to_numpy()\n",
        "y = y.to_numpy()"
      ],
      "metadata": {
        "id": "2I6KB7-Qd1pt"
      },
      "execution_count": null,
      "outputs": []
    },
    {
      "cell_type": "markdown",
      "source": [
        "1. Árbol de decisiones"
      ],
      "metadata": {
        "id": "vuafl-KTdm9v"
      }
    },
    {
      "cell_type": "code",
      "source": [
        "kf = StratifiedKFold(n_splits=5, shuffle = True)\n",
        "\n",
        "cv_y_test = []\n",
        "cv_y_pred = []\n",
        "\n",
        "for train_index, test_index in kf.split(x, y):\n",
        "\n",
        "    x_train = x[train_index, :]\n",
        "    y_train = y[train_index]\n",
        "\n",
        "    x_test = x[test_index, :]\n",
        "    y_test = y[test_index]\n",
        "\n",
        "    clf = DecisionTreeClassifier()\n",
        "    clf.fit(x_train, y_train)\n",
        "\n",
        "    y_pred = clf.predict(x_test)\n",
        "\n",
        "    cv_y_test.append(y_test)\n",
        "    cv_y_pred.append(y_pred)\n",
        "\n",
        "print(classification_report(np.concatenate(cv_y_test), np.concatenate(cv_y_pred)))"
      ],
      "metadata": {
        "colab": {
          "base_uri": "https://localhost:8080/"
        },
        "id": "qTGN9I2LdJt1",
        "outputId": "b42b5b40-8650-4918-f45e-d97fc5e1de0b"
      },
      "execution_count": null,
      "outputs": [
        {
          "output_type": "stream",
          "name": "stdout",
          "text": [
            "              precision    recall  f1-score   support\n",
            "\n",
            "         1.0       0.78      0.77      0.77        90\n",
            "         2.0       0.50      0.57      0.53        90\n",
            "         3.0       0.93      0.88      0.90        90\n",
            "         4.0       0.83      0.88      0.85        90\n",
            "         5.0       0.74      0.68      0.71        90\n",
            "         6.0       0.57      0.56      0.56        90\n",
            "         7.0       0.98      0.98      0.98        89\n",
            "\n",
            "    accuracy                           0.76       629\n",
            "   macro avg       0.76      0.76      0.76       629\n",
            "weighted avg       0.76      0.76      0.76       629\n",
            "\n"
          ]
        }
      ]
    },
    {
      "cell_type": "markdown",
      "source": [
        "2. Maquina de soporte vectorial lineal (SVM)"
      ],
      "metadata": {
        "id": "eUmGQGHyd-VI"
      }
    },
    {
      "cell_type": "code",
      "source": [
        "kf = StratifiedKFold(n_splits=5, shuffle = True)\n",
        "\n",
        "cv_y_test = []\n",
        "cv_y_pred = []\n",
        "\n",
        "for train_index, test_index in kf.split(x, y):\n",
        "\n",
        "    x_train = x[train_index, :]\n",
        "    y_train = y[train_index]\n",
        "\n",
        "    x_test = x[test_index, :]\n",
        "    y_test = y[test_index]\n",
        "\n",
        "    clf = SVC(kernel = 'linear')\n",
        "    clf.fit(x_train, y_train)\n",
        "\n",
        "    y_pred = clf.predict(x_test)\n",
        "\n",
        "    cv_y_test.append(y_test)\n",
        "    cv_y_pred.append(y_pred)\n",
        "\n",
        "print(classification_report(np.concatenate(cv_y_test), np.concatenate(cv_y_pred)))"
      ],
      "metadata": {
        "colab": {
          "base_uri": "https://localhost:8080/"
        },
        "id": "DSkQF7nnd9mu",
        "outputId": "258bcfdf-b136-41a3-ed62-0bf8388a9372"
      },
      "execution_count": null,
      "outputs": [
        {
          "output_type": "stream",
          "name": "stdout",
          "text": [
            "              precision    recall  f1-score   support\n",
            "\n",
            "         1.0       0.99      0.92      0.95        90\n",
            "         2.0       0.68      0.70      0.69        90\n",
            "         3.0       0.97      0.97      0.97        90\n",
            "         4.0       0.99      0.99      0.99        90\n",
            "         5.0       0.95      0.98      0.96        90\n",
            "         6.0       0.72      0.71      0.72        90\n",
            "         7.0       0.98      0.99      0.98        89\n",
            "\n",
            "    accuracy                           0.89       629\n",
            "   macro avg       0.89      0.89      0.89       629\n",
            "weighted avg       0.89      0.89      0.89       629\n",
            "\n"
          ]
        }
      ]
    },
    {
      "cell_type": "markdown",
      "source": [
        "3. Random Forest"
      ],
      "metadata": {
        "id": "sc9_L-lxevQU"
      }
    },
    {
      "cell_type": "code",
      "source": [
        "kf = StratifiedKFold(n_splits=5, shuffle = True)\n",
        "\n",
        "cv_y_test = []\n",
        "cv_y_pred = []\n",
        "\n",
        "for train_index, test_index in kf.split(x, y):\n",
        "\n",
        "    x_train = x[train_index, :]\n",
        "    y_train = y[train_index]\n",
        "\n",
        "    x_test = x[test_index, :]\n",
        "    y_test = y[test_index]\n",
        "\n",
        "    clf = RandomForestClassifier()\n",
        "    clf.fit(x_train, y_train)\n",
        "\n",
        "    y_pred = clf.predict(x_test)\n",
        "\n",
        "    cv_y_test.append(y_test)\n",
        "    cv_y_pred.append(y_pred)\n",
        "\n",
        "print(classification_report(np.concatenate(cv_y_test), np.concatenate(cv_y_pred)))"
      ],
      "metadata": {
        "colab": {
          "base_uri": "https://localhost:8080/"
        },
        "id": "9eBQghQremGY",
        "outputId": "81832cab-a005-4f5d-f23e-9a0b765ac3d1"
      },
      "execution_count": null,
      "outputs": [
        {
          "output_type": "stream",
          "name": "stdout",
          "text": [
            "              precision    recall  f1-score   support\n",
            "\n",
            "         1.0       0.96      0.88      0.92        90\n",
            "         2.0       0.68      0.70      0.69        90\n",
            "         3.0       0.95      0.93      0.94        90\n",
            "         4.0       0.97      0.93      0.95        90\n",
            "         5.0       0.89      0.96      0.92        90\n",
            "         6.0       0.71      0.72      0.71        90\n",
            "         7.0       0.98      1.00      0.99        89\n",
            "\n",
            "    accuracy                           0.87       629\n",
            "   macro avg       0.88      0.87      0.88       629\n",
            "weighted avg       0.88      0.87      0.88       629\n",
            "\n"
          ]
        }
      ]
    },
    {
      "cell_type": "markdown",
      "source": [
        "4. K Vecinos más cercanos (KNN)"
      ],
      "metadata": {
        "id": "Wo9uusI8e7t7"
      }
    },
    {
      "cell_type": "code",
      "source": [
        "kf = StratifiedKFold(n_splits=5, shuffle = True)\n",
        "\n",
        "cv_y_test = []\n",
        "cv_y_pred = []\n",
        "\n",
        "for train_index, test_index in kf.split(x, y):\n",
        "\n",
        "    x_train = x[train_index, :]\n",
        "    y_train = y[train_index]\n",
        "\n",
        "    x_test = x[test_index, :]\n",
        "    y_test = y[test_index]\n",
        "\n",
        "    clf = KNeighborsClassifier(n_neighbors=3)\n",
        "    clf.fit(x_train, y_train)\n",
        "\n",
        "    y_pred = clf.predict(x_test)\n",
        "\n",
        "    cv_y_test.append(y_test)\n",
        "    cv_y_pred.append(y_pred)\n",
        "\n",
        "print(classification_report(np.concatenate(cv_y_test), np.concatenate(cv_y_pred)))"
      ],
      "metadata": {
        "colab": {
          "base_uri": "https://localhost:8080/"
        },
        "id": "00uBohLWfGSa",
        "outputId": "5bbae0a6-100f-4c1b-bf5f-73b164c768b8"
      },
      "execution_count": null,
      "outputs": [
        {
          "output_type": "stream",
          "name": "stdout",
          "text": [
            "              precision    recall  f1-score   support\n",
            "\n",
            "         1.0       0.97      0.92      0.94        90\n",
            "         2.0       0.67      0.66      0.66        90\n",
            "         3.0       1.00      0.92      0.96        90\n",
            "         4.0       1.00      0.94      0.97        90\n",
            "         5.0       0.93      0.94      0.94        90\n",
            "         6.0       0.67      0.79      0.72        90\n",
            "         7.0       0.98      0.99      0.98        89\n",
            "\n",
            "    accuracy                           0.88       629\n",
            "   macro avg       0.89      0.88      0.88       629\n",
            "weighted avg       0.89      0.88      0.88       629\n",
            "\n"
          ]
        }
      ]
    },
    {
      "cell_type": "markdown",
      "source": [
        "5. Analisis de discriminante lineal"
      ],
      "metadata": {
        "id": "LgZIeVjjfVEn"
      }
    },
    {
      "cell_type": "code",
      "source": [
        "kf = StratifiedKFold(n_splits=5, shuffle = True)\n",
        "\n",
        "cv_y_test = []\n",
        "cv_y_pred = []\n",
        "\n",
        "for train_index, test_index in kf.split(x, y):\n",
        "\n",
        "    x_train = x[train_index, :]\n",
        "    y_train = y[train_index]\n",
        "\n",
        "    x_test = x[test_index, :]\n",
        "    y_test = y[test_index]\n",
        "\n",
        "    clf = LinearDiscriminantAnalysis()\n",
        "    clf.fit(x_train, y_train)\n",
        "\n",
        "    y_pred = clf.predict(x_test)\n",
        "\n",
        "    cv_y_test.append(y_test)\n",
        "    cv_y_pred.append(y_pred)\n",
        "\n",
        "print(classification_report(np.concatenate(cv_y_test), np.concatenate(cv_y_pred)))"
      ],
      "metadata": {
        "colab": {
          "base_uri": "https://localhost:8080/"
        },
        "id": "YFTiEZotfWs5",
        "outputId": "7223613d-61d3-4566-ba6d-77029ecff5e4"
      },
      "execution_count": null,
      "outputs": [
        {
          "output_type": "stream",
          "name": "stdout",
          "text": [
            "              precision    recall  f1-score   support\n",
            "\n",
            "         1.0       0.82      0.86      0.84        90\n",
            "         2.0       0.51      0.51      0.51        90\n",
            "         3.0       0.93      0.91      0.92        90\n",
            "         4.0       0.87      0.87      0.87        90\n",
            "         5.0       0.80      0.79      0.79        90\n",
            "         6.0       0.58      0.57      0.57        90\n",
            "         7.0       0.98      0.98      0.98        89\n",
            "\n",
            "    accuracy                           0.78       629\n",
            "   macro avg       0.78      0.78      0.78       629\n",
            "weighted avg       0.78      0.78      0.78       629\n",
            "\n"
          ]
        }
      ]
    },
    {
      "cell_type": "markdown",
      "source": [
        "Obtención de hiperparámetros"
      ],
      "metadata": {
        "id": "6RzPeWWUn_yZ"
      }
    },
    {
      "cell_type": "markdown",
      "source": [
        "SVM"
      ],
      "metadata": {
        "id": "2PL1Ipj8oCAx"
      }
    },
    {
      "cell_type": "code",
      "source": [
        "# Define una cuadrícula de hiperparámetros que se quieren probar para SVM\n",
        "param_grid = {'C': [0.1, 1, 10, 100],'kernel': ['linear']}"
      ],
      "metadata": {
        "id": "AecgEfihlt5v"
      },
      "execution_count": null,
      "outputs": []
    },
    {
      "cell_type": "code",
      "source": [
        "# Define una cuadrícula de hiperparámetros que se quieren probar para SVM\n",
        "param_grid = {'C': [0.1, 1, 10, 100],'kernel': ['linear']}\n",
        "\n",
        "kf = StratifiedKFold(n_splits=5, shuffle=True)\n",
        "\n",
        "cv_y_test = []\n",
        "cv_y_pred = []\n",
        "cv_best_params = []\n",
        "\n",
        "for train_index, test_index in kf.split(x, y):\n",
        "\n",
        "    x_train = x[train_index, :]\n",
        "    y_train = y[train_index]\n",
        "\n",
        "    x_test = x[test_index, :]\n",
        "    y_test = y[test_index]\n",
        "\n",
        "    svm = SVC()\n",
        "    grid_search = GridSearchCV(estimator=svm, param_grid=param_grid, cv=3)\n",
        "\n",
        "    grid_search.fit(x_train, y_train)\n",
        "\n",
        "    # Encuentra los hiperparámetros óptimos\n",
        "    best_svm = grid_search.best_estimator_\n",
        "    best_params = grid_search.best_params_\n",
        "    cv_best_params.append(best_params)\n",
        "\n",
        "    y_pred = best_svm.predict(x_test)\n",
        "\n",
        "    cv_y_test.append(y_test)\n",
        "    cv_y_pred.append(y_pred)\n",
        "\n",
        "print(\"Hiperparámetros Óptimos Seleccionados para Cada Partición:\")\n",
        "for i, params in enumerate(cv_best_params):\n",
        "    print(f\"Partición {i+1}: {params}\")\n",
        "\n",
        "print('\\n')\n",
        "print(classification_report(np.concatenate(cv_y_test), np.concatenate(cv_y_pred)))"
      ],
      "metadata": {
        "colab": {
          "base_uri": "https://localhost:8080/"
        },
        "id": "thb84jBnoSBP",
        "outputId": "6078046b-95dc-4ee5-b4af-885dbd0e4594"
      },
      "execution_count": null,
      "outputs": [
        {
          "output_type": "stream",
          "name": "stdout",
          "text": [
            "Hiperparámetros Óptimos Seleccionados para Cada Partición:\n",
            "Partición 1: {'C': 0.1, 'kernel': 'linear'}\n",
            "Partición 2: {'C': 0.1, 'kernel': 'linear'}\n",
            "Partición 3: {'C': 0.1, 'kernel': 'linear'}\n",
            "Partición 4: {'C': 0.1, 'kernel': 'linear'}\n",
            "Partición 5: {'C': 0.1, 'kernel': 'linear'}\n",
            "\n",
            "\n",
            "              precision    recall  f1-score   support\n",
            "\n",
            "         1.0       0.99      0.94      0.97        90\n",
            "         2.0       0.64      0.66      0.65        90\n",
            "         3.0       0.98      0.97      0.97        90\n",
            "         4.0       0.99      0.98      0.98        90\n",
            "         5.0       0.97      0.98      0.97        90\n",
            "         6.0       0.67      0.68      0.67        90\n",
            "         7.0       0.98      1.00      0.99        89\n",
            "\n",
            "    accuracy                           0.89       629\n",
            "   macro avg       0.89      0.89      0.89       629\n",
            "weighted avg       0.89      0.89      0.89       629\n",
            "\n"
          ]
        }
      ]
    },
    {
      "cell_type": "markdown",
      "source": [
        "KNN"
      ],
      "metadata": {
        "id": "4KngYWYhpxvj"
      }
    },
    {
      "cell_type": "code",
      "source": [
        "# Define una cuadrícula de hiperparámetros que se quiere probar para KNN\n",
        "param_grid = {'n_neighbors': [1, 3, 5, 7],'weights': ['uniform', 'distance']}"
      ],
      "metadata": {
        "id": "mD4rujN2qJ9l"
      },
      "execution_count": null,
      "outputs": []
    },
    {
      "cell_type": "code",
      "source": [
        "kf = StratifiedKFold(n_splits=5, shuffle=True)\n",
        "\n",
        "cv_y_test = []\n",
        "cv_y_pred = []\n",
        "cv_best_params = []\n",
        "\n",
        "for train_index, test_index in kf.split(x, y):\n",
        "\n",
        "    x_train = x[train_index, :]\n",
        "    y_train = y[train_index]\n",
        "\n",
        "    x_test = x[test_index, :]\n",
        "    y_test = y[test_index]\n",
        "\n",
        "    knn = KNeighborsClassifier()\n",
        "    grid_search = GridSearchCV(estimator=knn, param_grid=param_grid, cv=5)\n",
        "\n",
        "    grid_search.fit(x_train, y_train)\n",
        "\n",
        "    # Encuentra los hiperparámetros óptimos\n",
        "    best_knn = grid_search.best_estimator_\n",
        "    best_params = grid_search.best_params_\n",
        "    cv_best_params.append(best_params)\n",
        "\n",
        "    y_pred = best_knn.predict(x_test)\n",
        "\n",
        "    cv_y_test.append(y_test)\n",
        "    cv_y_pred.append(y_pred)\n",
        "\n",
        "print(\"Hiperparámetros Óptimos Seleccionados para Cada Partición:\")\n",
        "for i, params in enumerate(cv_best_params):\n",
        "    print(f\"Partición {i+1}: {params}\")\n",
        "\n",
        "print('\\n')\n",
        "print(classification_report(np.concatenate(cv_y_test), np.concatenate(cv_y_pred)))"
      ],
      "metadata": {
        "colab": {
          "base_uri": "https://localhost:8080/"
        },
        "id": "5j49gh9UpyQ3",
        "outputId": "ba50ab10-6ee7-4bfc-e18e-ddf5d53d2200"
      },
      "execution_count": null,
      "outputs": [
        {
          "output_type": "stream",
          "name": "stdout",
          "text": [
            "Hiperparámetros Óptimos Seleccionados para Cada Partición:\n",
            "Partición 1: {'n_neighbors': 5, 'weights': 'uniform'}\n",
            "Partición 2: {'n_neighbors': 3, 'weights': 'uniform'}\n",
            "Partición 3: {'n_neighbors': 7, 'weights': 'distance'}\n",
            "Partición 4: {'n_neighbors': 7, 'weights': 'uniform'}\n",
            "Partición 5: {'n_neighbors': 5, 'weights': 'distance'}\n",
            "\n",
            "\n",
            "              precision    recall  f1-score   support\n",
            "\n",
            "         1.0       0.99      0.92      0.95        90\n",
            "         2.0       0.63      0.54      0.58        90\n",
            "         3.0       1.00      0.92      0.96        90\n",
            "         4.0       1.00      0.96      0.98        90\n",
            "         5.0       0.96      0.94      0.95        90\n",
            "         6.0       0.61      0.80      0.69        90\n",
            "         7.0       0.98      1.00      0.99        89\n",
            "\n",
            "    accuracy                           0.87       629\n",
            "   macro avg       0.88      0.87      0.87       629\n",
            "weighted avg       0.88      0.87      0.87       629\n",
            "\n"
          ]
        }
      ]
    },
    {
      "cell_type": "markdown",
      "source": [
        "Modelo de producción"
      ],
      "metadata": {
        "id": "Xe68qGS9Tcop"
      }
    },
    {
      "cell_type": "code",
      "source": [
        "print(\"----- Production model -----\")\n",
        "clf = GridSearchCV(KNeighborsClassifier(), {'n_neighbors': np.arange(1, 100)}, cv =\n",
        "5)\n",
        "clf.fit(x, y)\n",
        "print(clf.best_estimator_)"
      ],
      "metadata": {
        "id": "pSKuQTd8qQ7U",
        "colab": {
          "base_uri": "https://localhost:8080/"
        },
        "outputId": "2bb53fa1-9b8c-4363-eb10-9bfab791bf4f"
      },
      "execution_count": null,
      "outputs": [
        {
          "output_type": "stream",
          "name": "stdout",
          "text": [
            "----- Production model -----\n",
            "KNeighborsClassifier(n_neighbors=18)\n"
          ]
        }
      ]
    },
    {
      "cell_type": "markdown",
      "source": [
        "¿Observas un problema en cuanto al balanceo de las clases? ¿Por qué?\n",
        "\n",
        "**No, en este caso se realizo una prueba para poder observar la distribución de las clases y se noto que cuentan con una distribución casi perfecta. Esto puede ser debido a que se cuentan con más clases que en el caso anterior, por lo que puede llevar a que exista un equilibrio más notable a cuando solo se tenian dos.**\n",
        "\n",
        "¿Qué modelo o modelos fueron efectivos para clasificar tus datos? ¿Observas algo especial sobre los modelos? Argumenta tu respuesta.\n",
        "\n",
        "**Observe que los dos modelos que resultaron más efectivos fueron k-vecinos más cercanos (KNN) y Maquinas de soporte Vectorial (SVM), creo que por parte de SVM se debe a la facilidad que tiene para poder adaptarse a casi cualquier tipo de datos, no obstante opino que la razón por la cual KNN tuvo un buen desempeño se debe a la distribución casi perfecta de los datos, ya que cuando se trata de conjuntos de datos altamente desbalanceados, puede ser necesario ajustar el valor de k y aplicar técnicas de ponderación de clases**\n",
        "\n",
        "¿Observas alguna mejora importante al optimizar hiperparámetros? ¿Es el resultado que esperabas? Argumenta tu respuesta.\n",
        "\n",
        "**Mientras que si se pude notar un mejoramiento en ambas KNN y SVM cuando se optimizaron los hiperparametros, se puede observar que no es un aumento excesivo, sin embargo esto puede ser argumentado debido a que si se analizan los hiperparametros optimos con los que se usaron por defecto, no hay una gran diferencia.**\n",
        "\n",
        "¿Qué inconvenientes hay al encontrar hiperparámetros? ¿Por qué?\n",
        "\n",
        "**Desde un punto de vista computacional, realizar una optimización de hiperparametros puede generar un costo computacional el cual puede no valer la pena si el modelo no presenta una notable mejora, a demas de que este ajuste de hiperparametros podria llegar a provocar un sobreajuste en el modelo.**\n",
        "\n",
        "**Desde un punto de vista personal creo que el tener que hacer validación cruzada anidada debido a que mientras que lo puedo visualizar, implementarlo puede llegar a ser un poco confuso.**"
      ],
      "metadata": {
        "id": "QJwJ-42kfxzg"
      }
    }
  ]
}