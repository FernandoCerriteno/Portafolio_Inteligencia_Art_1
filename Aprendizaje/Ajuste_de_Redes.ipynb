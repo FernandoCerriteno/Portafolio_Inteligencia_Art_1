{
  "nbformat": 4,
  "nbformat_minor": 0,
  "metadata": {
    "colab": {
      "provenance": []
    },
    "kernelspec": {
      "name": "python3",
      "display_name": "Python 3"
    },
    "language_info": {
      "name": "python"
    }
  },
  "cells": [
    {
      "cell_type": "markdown",
      "source": [
        "Fernando Cerriteño Magaña - A01702790"
      ],
      "metadata": {
        "id": "6fwEjek8uaHB"
      }
    },
    {
      "cell_type": "code",
      "execution_count": 1,
      "metadata": {
        "id": "ss2J9IgkovHD"
      },
      "outputs": [],
      "source": [
        "import numpy as np\n",
        "import pandas as pd\n",
        "import matplotlib.pyplot as plt\n",
        "import seaborn as sns\n",
        "\n",
        "from sklearn.neural_network import MLPRegressor\n",
        "from sklearn.model_selection import KFold, GridSearchCV, cross_val_predict\n",
        "from sklearn.metrics import mean_squared_error, mean_absolute_error\n",
        "\n",
        "from sklearn.neural_network import MLPClassifier\n",
        "from sklearn.model_selection import StratifiedKFold, train_test_split\n",
        "from sklearn.metrics import classification_report\n",
        "from sklearn.neighbors import KNeighborsClassifier"
      ]
    },
    {
      "cell_type": "markdown",
      "source": [
        "<h2>Parte 1\n",
        "\n",
        "El conjunto de datos de criminalidad Download datos de criminalidadde Estados Unidos publicado en el año 1993 consiste de 51 registros para los que se tienen las siguientes variables:\n",
        "\n",
        "* $VR$  = Crímenes violentos por cada 100000 habitantes\n",
        "* $MR$  = Asesinatos por cada 100000 habitantes\n",
        "* $M$   = Porcentaje de áreas metropolitanas\n",
        "* $W$   = Porcentaje de gente blanca\n",
        "* $H$   = Porcentaje de personas con preparatoria terminada\n",
        "* $P$   = Porcentaje con ingresos por debajo del nivel de pobreza\n",
        "* $S$   = Porcentaje de familias con solo un miembro adulto como tutor"
      ],
      "metadata": {
        "id": "NoXSn4AbB8aq"
      }
    },
    {
      "cell_type": "code",
      "source": [
        "df = pd.read_csv('/content/crime_data.csv')"
      ],
      "metadata": {
        "id": "-8Fpto0_o6G8"
      },
      "execution_count": 2,
      "outputs": []
    },
    {
      "cell_type": "code",
      "source": [
        "df = df.drop(['State'],axis=1)\n",
        "df = df.drop(['MR'],axis=1)\n",
        "df = df.drop(['S'],axis=1)"
      ],
      "metadata": {
        "id": "qh-lPaY4uAr3"
      },
      "execution_count": 3,
      "outputs": []
    },
    {
      "cell_type": "code",
      "source": [
        "y = df.VR\n",
        "x = df.iloc[:,1:]"
      ],
      "metadata": {
        "id": "mOFppytXunZ9"
      },
      "execution_count": 4,
      "outputs": []
    },
    {
      "cell_type": "code",
      "source": [
        "df.isnull().sum()"
      ],
      "metadata": {
        "colab": {
          "base_uri": "https://localhost:8080/"
        },
        "id": "w9xAwAP4u58g",
        "outputId": "0579a200-b843-426b-aee8-b0c52a4fa5e9"
      },
      "execution_count": 5,
      "outputs": [
        {
          "output_type": "execute_result",
          "data": {
            "text/plain": [
              "VR    0\n",
              "M     0\n",
              "W     0\n",
              "H     0\n",
              "P     0\n",
              "dtype: int64"
            ]
          },
          "metadata": {},
          "execution_count": 5
        }
      ]
    },
    {
      "cell_type": "code",
      "source": [
        "x = x.to_numpy()\n",
        "y = y.to_numpy()"
      ],
      "metadata": {
        "id": "m9ks5q297EsI"
      },
      "execution_count": 6,
      "outputs": []
    },
    {
      "cell_type": "markdown",
      "source": [
        "Validación cruzada"
      ],
      "metadata": {
        "id": "AqoHYe5s9Bgv"
      }
    },
    {
      "cell_type": "code",
      "source": [
        "n_folds = 5\n",
        "kf = KFold(n_splits=n_folds, shuffle = True)\n",
        "\n",
        "mse_cv = []\n",
        "mae_cv = []\n",
        "for train_index, test_index in kf.split(x):\n",
        "\n",
        "    # Training phase\n",
        "    x_train = x[train_index, :]\n",
        "    y_train = y[train_index]\n",
        "\n",
        "    regr_cv = MLPRegressor(hidden_layer_sizes=(20, 20), max_iter=20000)\n",
        "    regr_cv.fit(x_train, y_train)\n",
        "\n",
        "    # Test phase\n",
        "    x_test = x[test_index, :]\n",
        "    y_test = y[test_index]\n",
        "\n",
        "    y_pred = regr_cv.predict(x_test)\n",
        "\n",
        "    # Calculate MSE and MAE\n",
        "\n",
        "    mse_i = mean_squared_error(y_test, y_pred)\n",
        "    mse_cv.append(mse_i)\n",
        "\n",
        "    mae_i = mean_absolute_error(y_test, y_pred)\n",
        "    mae_cv.append(mae_i)\n",
        "\n",
        "\n",
        "print('MSE:', np.average(mse_cv), '  MAE:', np.average(mae_cv))\n"
      ],
      "metadata": {
        "colab": {
          "base_uri": "https://localhost:8080/"
        },
        "id": "rYKZWu229Dc-",
        "outputId": "6d3a4313-f2ad-45aa-878f-2d783f1d5956"
      },
      "execution_count": 7,
      "outputs": [
        {
          "output_type": "stream",
          "name": "stdout",
          "text": [
            "MSE: 173345.9181168463   MAE: 226.64356831457562\n"
          ]
        }
      ]
    },
    {
      "cell_type": "markdown",
      "source": [
        "Adición de variables independientes"
      ],
      "metadata": {
        "id": "g9m4uHhD-MgW"
      }
    },
    {
      "cell_type": "code",
      "source": [
        "df2 = df.copy()"
      ],
      "metadata": {
        "id": "ovN9ROi29lEG"
      },
      "execution_count": 8,
      "outputs": []
    },
    {
      "cell_type": "code",
      "source": [
        "df2['M^2'] = df.M**2\n",
        "df2['W^2'] = df.W**2\n",
        "df2['H^2'] = df.H**2\n",
        "df2['P^2'] = df.P**2\n",
        "df2['MxW'] = df.M*df.W\n",
        "df2['MxH'] = df.M*df.H\n",
        "df2['MxP'] = df.M*df.P\n",
        "df2['WxH'] = df.W*df.H\n",
        "df2['WxP'] = df.W*df.P\n",
        "df2['HxP'] = df.H*df.P"
      ],
      "metadata": {
        "id": "r_UTCCBm9qyf"
      },
      "execution_count": 9,
      "outputs": []
    },
    {
      "cell_type": "code",
      "source": [
        "x = df2.iloc[:,1:].to_numpy()\n",
        "y = df2.VR.to_numpy()"
      ],
      "metadata": {
        "id": "IJEBjVf--H0G"
      },
      "execution_count": 10,
      "outputs": []
    },
    {
      "cell_type": "code",
      "source": [
        "n_folds = 5\n",
        "kf = KFold(n_splits=n_folds, shuffle = True)\n",
        "\n",
        "mse_cv = []\n",
        "mae_cv = []\n",
        "for train_index, test_index in kf.split(x):\n",
        "\n",
        "    # Training phase\n",
        "    x_train = x[train_index, :]\n",
        "    y_train = y[train_index]\n",
        "\n",
        "    regr_cv = MLPRegressor(hidden_layer_sizes=(20, 20), max_iter=20000)\n",
        "    regr_cv.fit(x_train, y_train)\n",
        "\n",
        "    # Test phase\n",
        "    x_test = x[test_index, :]\n",
        "    y_test = y[test_index]\n",
        "\n",
        "    y_pred = regr_cv.predict(x_test)\n",
        "\n",
        "    # Calculate MSE and MAE\n",
        "\n",
        "    mse_i = mean_squared_error(y_test, y_pred)\n",
        "    mse_cv.append(mse_i)\n",
        "\n",
        "    mae_i = mean_absolute_error(y_test, y_pred)\n",
        "    mae_cv.append(mae_i)\n",
        "\n",
        "\n",
        "print('MSE:', np.average(mse_cv), '  MAE:', np.average(mae_cv))"
      ],
      "metadata": {
        "colab": {
          "base_uri": "https://localhost:8080/"
        },
        "id": "PUd6_8d4-bZ7",
        "outputId": "8496b55d-2d5f-4585-e1bf-d9c9ddadc081"
      },
      "execution_count": 11,
      "outputs": [
        {
          "output_type": "stream",
          "name": "stdout",
          "text": [
            "MSE: 298270.51579787943   MAE: 373.334598698018\n"
          ]
        }
      ]
    },
    {
      "cell_type": "markdown",
      "source": [
        "A.  ¿Consideras que el modelo perceptrón multicapa es efectivo para modelar los datos del problema? ¿Por qué?\n",
        "\n",
        "**Opino que el modelo percetrón no es efectivo para el modelado de estos datos, ya que analizando el $MSE$ y el $MAE$ se puede notar como el resultado es exageradamente grande aun con validación cruzada, por lo que no creo que sea una buena opción usar el modelo $MLP$.**\n",
        "\n",
        "B.  ¿Qué modelo es mejor para los datos de criminalidad, el lineal o el perceptrón multicapa? ¿Por qué?\n",
        "\n",
        "**Creo que para estos datos el modelo de regresión lineal es más apto, esto es debido a que el modelo de regresión lineal cuenta con un $MSE$ y $MAE$ más bajo a comparación del modelo perceptron multicapa**"
      ],
      "metadata": {
        "id": "Jkv2tkuj-k_k"
      }
    },
    {
      "cell_type": "markdown",
      "source": [
        "<h2>Ejercicio 2\n",
        "\n",
        "En este ejercicio trabajarás con datos que vienen de un experimento en el que se midió actividad muscular con la técnica de la Electromiografía en el brazo derecho de varios participantes cuando éstos realizaban un movimiento con la mano entre siete posible (Flexionar hacia arriba, Flexionar hacia abajo, Cerrar la mano, Estirar la mano, Abrir la mano, Coger un objeto, No moverse)."
      ],
      "metadata": {
        "id": "Pm-HQRPc8kQq"
      }
    },
    {
      "cell_type": "code",
      "source": [
        "data = np.loadtxt('/content/M_5.txt')\n",
        "df = pd.DataFrame(data)"
      ],
      "metadata": {
        "id": "t5VErjHMCMTt"
      },
      "execution_count": 12,
      "outputs": []
    },
    {
      "cell_type": "code",
      "source": [
        "y = df[0]\n",
        "x = df.iloc[:,2:]\n",
        "\n",
        "x = x.to_numpy()\n",
        "y = y.to_numpy()"
      ],
      "metadata": {
        "id": "cr-Wg_4ICmcK"
      },
      "execution_count": 13,
      "outputs": []
    },
    {
      "cell_type": "markdown",
      "source": [
        "Validación cruzada"
      ],
      "metadata": {
        "id": "xWlxdodS5KKJ"
      }
    },
    {
      "cell_type": "code",
      "source": [
        "kf = StratifiedKFold(n_splits=5, shuffle = True)\n",
        "\n",
        "cv_y_test = []\n",
        "cv_y_pred = []\n",
        "\n",
        "for train_index, test_index in kf.split(x, y):\n",
        "\n",
        "    # Training phase\n",
        "    x_train = x[train_index, :]\n",
        "    y_train = y[train_index]\n",
        "\n",
        "    clf_cv = MLPClassifier(hidden_layer_sizes=((20, 20, 20, 20, 20)), max_iter=10000)\n",
        "    clf_cv.fit(x_train, y_train)\n",
        "\n",
        "    # Test phase\n",
        "    x_test = x[test_index, :]\n",
        "    y_test = y[test_index]\n",
        "    y_pred = clf_cv.predict(x_test)\n",
        "\n",
        "    cv_y_test.append(y_test)\n",
        "    cv_y_pred.append(y_pred)\n",
        "\n",
        "print(classification_report(np.concatenate(cv_y_test), np.concatenate(cv_y_pred)))\n"
      ],
      "metadata": {
        "colab": {
          "base_uri": "https://localhost:8080/"
        },
        "id": "Fd6uS0yH5NSJ",
        "outputId": "ef347920-bc4d-44af-ac9d-b168aa0f8ad2"
      },
      "execution_count": 14,
      "outputs": [
        {
          "output_type": "stream",
          "name": "stdout",
          "text": [
            "              precision    recall  f1-score   support\n",
            "\n",
            "         1.0       0.98      0.92      0.95        90\n",
            "         2.0       0.68      0.72      0.70        90\n",
            "         3.0       0.99      0.93      0.96        90\n",
            "         4.0       0.94      0.92      0.93        90\n",
            "         5.0       0.95      0.96      0.95        90\n",
            "         6.0       0.71      0.72      0.71        90\n",
            "         7.0       0.97      1.00      0.98        89\n",
            "\n",
            "    accuracy                           0.88       629\n",
            "   macro avg       0.89      0.88      0.88       629\n",
            "weighted avg       0.89      0.88      0.88       629\n",
            "\n"
          ]
        }
      ]
    },
    {
      "cell_type": "markdown",
      "source": [
        "Número optimo de capas y neuronas"
      ],
      "metadata": {
        "id": "uLiN8LReD3vx"
      }
    },
    {
      "cell_type": "code",
      "source": [
        "num_layers = np.arange(1, 20, 5)\n",
        "num_neurons = np.arange(10, 110, 20)\n",
        "layers = []\n",
        "for l in num_layers:\n",
        "  for n in num_neurons:\n",
        "    layers.append(l*[n])\n",
        "clf = GridSearchCV(MLPClassifier(max_iter=10000), {'hidden_layer_sizes': layers},\n",
        "cv = 5)\n",
        "clf.fit(x, y)\n",
        "print(clf.best_estimator_)"
      ],
      "metadata": {
        "colab": {
          "base_uri": "https://localhost:8080/"
        },
        "id": "KemJ7Nz9D4CX",
        "outputId": "c9da9400-c24e-4c0f-9383-b362f957cdc5"
      },
      "execution_count": 15,
      "outputs": [
        {
          "output_type": "stream",
          "name": "stdout",
          "text": [
            "MLPClassifier(hidden_layer_sizes=[90], max_iter=10000)\n"
          ]
        }
      ]
    },
    {
      "cell_type": "code",
      "source": [
        "layers"
      ],
      "metadata": {
        "colab": {
          "base_uri": "https://localhost:8080/"
        },
        "id": "nbqC7FueoxGe",
        "outputId": "7476eac8-dd7b-41ba-b9ec-8e51c356fa75"
      },
      "execution_count": 16,
      "outputs": [
        {
          "output_type": "execute_result",
          "data": {
            "text/plain": [
              "[[10],\n",
              " [30],\n",
              " [50],\n",
              " [70],\n",
              " [90],\n",
              " [10, 10, 10, 10, 10, 10],\n",
              " [30, 30, 30, 30, 30, 30],\n",
              " [50, 50, 50, 50, 50, 50],\n",
              " [70, 70, 70, 70, 70, 70],\n",
              " [90, 90, 90, 90, 90, 90],\n",
              " [10, 10, 10, 10, 10, 10, 10, 10, 10, 10, 10],\n",
              " [30, 30, 30, 30, 30, 30, 30, 30, 30, 30, 30],\n",
              " [50, 50, 50, 50, 50, 50, 50, 50, 50, 50, 50],\n",
              " [70, 70, 70, 70, 70, 70, 70, 70, 70, 70, 70],\n",
              " [90, 90, 90, 90, 90, 90, 90, 90, 90, 90, 90],\n",
              " [10, 10, 10, 10, 10, 10, 10, 10, 10, 10, 10, 10, 10, 10, 10, 10],\n",
              " [30, 30, 30, 30, 30, 30, 30, 30, 30, 30, 30, 30, 30, 30, 30, 30],\n",
              " [50, 50, 50, 50, 50, 50, 50, 50, 50, 50, 50, 50, 50, 50, 50, 50],\n",
              " [70, 70, 70, 70, 70, 70, 70, 70, 70, 70, 70, 70, 70, 70, 70, 70],\n",
              " [90, 90, 90, 90, 90, 90, 90, 90, 90, 90, 90, 90, 90, 90, 90, 90]]"
            ]
          },
          "metadata": {},
          "execution_count": 16
        }
      ]
    },
    {
      "cell_type": "code",
      "source": [
        "clf = GridSearchCV(MLPClassifier(max_iter=10000), {'hidden_layer_sizes': layers}, cv = 5)\n",
        "y_pred = cross_val_predict(clf, x, y, cv = 5)\n",
        "print(classification_report(y, y_pred))"
      ],
      "metadata": {
        "colab": {
          "base_uri": "https://localhost:8080/"
        },
        "id": "RxL9hqVNESfY",
        "outputId": "c1462580-df62-437e-8d00-0bbb6547f9f3"
      },
      "execution_count": 17,
      "outputs": [
        {
          "output_type": "stream",
          "name": "stdout",
          "text": [
            "              precision    recall  f1-score   support\n",
            "\n",
            "         1.0       0.95      0.90      0.93        90\n",
            "         2.0       0.66      0.71      0.68        90\n",
            "         3.0       0.99      0.96      0.97        90\n",
            "         4.0       0.97      0.99      0.98        90\n",
            "         5.0       0.90      0.96      0.92        90\n",
            "         6.0       0.74      0.68      0.71        90\n",
            "         7.0       0.97      0.98      0.97        89\n",
            "\n",
            "    accuracy                           0.88       629\n",
            "   macro avg       0.88      0.88      0.88       629\n",
            "weighted avg       0.88      0.88      0.88       629\n",
            "\n"
          ]
        }
      ]
    },
    {
      "cell_type": "markdown",
      "source": [
        "Obtención de los hiperparámetros óptimos de capas y neuronas de la red"
      ],
      "metadata": {
        "id": "eKiDSUrJAGh5"
      }
    },
    {
      "cell_type": "code",
      "source": [
        "print(\"----- Production model -----\")\n",
        "clf = GridSearchCV(MLPClassifier(max_iter=10000), {'hidden_layer_sizes': layers},cv = 5)\n",
        "clf.fit(x, y)\n",
        "print(clf.best_estimator_)"
      ],
      "metadata": {
        "colab": {
          "base_uri": "https://localhost:8080/"
        },
        "id": "ZmHJkM9Auj4a",
        "outputId": "9b86e212-1fdd-43d9-a70d-13352d552e19"
      },
      "execution_count": 18,
      "outputs": [
        {
          "output_type": "stream",
          "name": "stdout",
          "text": [
            "----- Production model -----\n",
            "MLPClassifier(hidden_layer_sizes=[90], max_iter=10000)\n"
          ]
        }
      ]
    },
    {
      "cell_type": "markdown",
      "source": [
        "Ajuste del modelo con todos los datos e hipeparametros óptimos"
      ],
      "metadata": {
        "id": "u6sbzEdpR1bE"
      }
    },
    {
      "cell_type": "code",
      "source": [
        "clf_cv = MLPClassifier(hidden_layer_sizes=(50), max_iter=10000)\n",
        "clf_cv.fit(x, y)"
      ],
      "metadata": {
        "colab": {
          "base_uri": "https://localhost:8080/",
          "height": 74
        },
        "id": "w7fn4nguR2Dp",
        "outputId": "42ec960c-a029-4922-bfb9-c3a926f2a2a3"
      },
      "execution_count": 19,
      "outputs": [
        {
          "output_type": "execute_result",
          "data": {
            "text/plain": [
              "MLPClassifier(hidden_layer_sizes=50, max_iter=10000)"
            ],
            "text/html": [
              "<style>#sk-container-id-1 {color: black;background-color: white;}#sk-container-id-1 pre{padding: 0;}#sk-container-id-1 div.sk-toggleable {background-color: white;}#sk-container-id-1 label.sk-toggleable__label {cursor: pointer;display: block;width: 100%;margin-bottom: 0;padding: 0.3em;box-sizing: border-box;text-align: center;}#sk-container-id-1 label.sk-toggleable__label-arrow:before {content: \"▸\";float: left;margin-right: 0.25em;color: #696969;}#sk-container-id-1 label.sk-toggleable__label-arrow:hover:before {color: black;}#sk-container-id-1 div.sk-estimator:hover label.sk-toggleable__label-arrow:before {color: black;}#sk-container-id-1 div.sk-toggleable__content {max-height: 0;max-width: 0;overflow: hidden;text-align: left;background-color: #f0f8ff;}#sk-container-id-1 div.sk-toggleable__content pre {margin: 0.2em;color: black;border-radius: 0.25em;background-color: #f0f8ff;}#sk-container-id-1 input.sk-toggleable__control:checked~div.sk-toggleable__content {max-height: 200px;max-width: 100%;overflow: auto;}#sk-container-id-1 input.sk-toggleable__control:checked~label.sk-toggleable__label-arrow:before {content: \"▾\";}#sk-container-id-1 div.sk-estimator input.sk-toggleable__control:checked~label.sk-toggleable__label {background-color: #d4ebff;}#sk-container-id-1 div.sk-label input.sk-toggleable__control:checked~label.sk-toggleable__label {background-color: #d4ebff;}#sk-container-id-1 input.sk-hidden--visually {border: 0;clip: rect(1px 1px 1px 1px);clip: rect(1px, 1px, 1px, 1px);height: 1px;margin: -1px;overflow: hidden;padding: 0;position: absolute;width: 1px;}#sk-container-id-1 div.sk-estimator {font-family: monospace;background-color: #f0f8ff;border: 1px dotted black;border-radius: 0.25em;box-sizing: border-box;margin-bottom: 0.5em;}#sk-container-id-1 div.sk-estimator:hover {background-color: #d4ebff;}#sk-container-id-1 div.sk-parallel-item::after {content: \"\";width: 100%;border-bottom: 1px solid gray;flex-grow: 1;}#sk-container-id-1 div.sk-label:hover label.sk-toggleable__label {background-color: #d4ebff;}#sk-container-id-1 div.sk-serial::before {content: \"\";position: absolute;border-left: 1px solid gray;box-sizing: border-box;top: 0;bottom: 0;left: 50%;z-index: 0;}#sk-container-id-1 div.sk-serial {display: flex;flex-direction: column;align-items: center;background-color: white;padding-right: 0.2em;padding-left: 0.2em;position: relative;}#sk-container-id-1 div.sk-item {position: relative;z-index: 1;}#sk-container-id-1 div.sk-parallel {display: flex;align-items: stretch;justify-content: center;background-color: white;position: relative;}#sk-container-id-1 div.sk-item::before, #sk-container-id-1 div.sk-parallel-item::before {content: \"\";position: absolute;border-left: 1px solid gray;box-sizing: border-box;top: 0;bottom: 0;left: 50%;z-index: -1;}#sk-container-id-1 div.sk-parallel-item {display: flex;flex-direction: column;z-index: 1;position: relative;background-color: white;}#sk-container-id-1 div.sk-parallel-item:first-child::after {align-self: flex-end;width: 50%;}#sk-container-id-1 div.sk-parallel-item:last-child::after {align-self: flex-start;width: 50%;}#sk-container-id-1 div.sk-parallel-item:only-child::after {width: 0;}#sk-container-id-1 div.sk-dashed-wrapped {border: 1px dashed gray;margin: 0 0.4em 0.5em 0.4em;box-sizing: border-box;padding-bottom: 0.4em;background-color: white;}#sk-container-id-1 div.sk-label label {font-family: monospace;font-weight: bold;display: inline-block;line-height: 1.2em;}#sk-container-id-1 div.sk-label-container {text-align: center;}#sk-container-id-1 div.sk-container {/* jupyter's `normalize.less` sets `[hidden] { display: none; }` but bootstrap.min.css set `[hidden] { display: none !important; }` so we also need the `!important` here to be able to override the default hidden behavior on the sphinx rendered scikit-learn.org. See: https://github.com/scikit-learn/scikit-learn/issues/21755 */display: inline-block !important;position: relative;}#sk-container-id-1 div.sk-text-repr-fallback {display: none;}</style><div id=\"sk-container-id-1\" class=\"sk-top-container\"><div class=\"sk-text-repr-fallback\"><pre>MLPClassifier(hidden_layer_sizes=50, max_iter=10000)</pre><b>In a Jupyter environment, please rerun this cell to show the HTML representation or trust the notebook. <br />On GitHub, the HTML representation is unable to render, please try loading this page with nbviewer.org.</b></div><div class=\"sk-container\" hidden><div class=\"sk-item\"><div class=\"sk-estimator sk-toggleable\"><input class=\"sk-toggleable__control sk-hidden--visually\" id=\"sk-estimator-id-1\" type=\"checkbox\" checked><label for=\"sk-estimator-id-1\" class=\"sk-toggleable__label sk-toggleable__label-arrow\">MLPClassifier</label><div class=\"sk-toggleable__content\"><pre>MLPClassifier(hidden_layer_sizes=50, max_iter=10000)</pre></div></div></div></div></div>"
            ]
          },
          "metadata": {},
          "execution_count": 19
        }
      ]
    },
    {
      "cell_type": "markdown",
      "source": [
        "A. ¿Observas alguna mejora importante al optimizar el tamaño de la red? ¿Es el resultado que esperabas? Argumenta tu respuesta.\n",
        "\n",
        "**Creo que una forma de mejorar el modelo podria ser encontrando el número optimo de caracteristicas y descartando las caracteristicas que no sirvan para el modelo.**\n",
        "\n",
        "B.  ¿Qué inconvenientes hay al encontrar el tamaño óptimo de la red? ¿Por qué?\n",
        "\n",
        "**El mayor inconveniente con el que me tope fue el timepo que tarda la red en ajustarse, debido a que se esta probando con diferentes hiperparametros y debido a la cantidad de datos con los que se cuenta.**"
      ],
      "metadata": {
        "id": "CqkWfBME47eu"
      }
    }
  ]
}