{
  "nbformat": 4,
  "nbformat_minor": 0,
  "metadata": {
    "colab": {
      "provenance": []
    },
    "kernelspec": {
      "name": "python3",
      "display_name": "Python 3"
    },
    "language_info": {
      "name": "python"
    }
  },
  "cells": [
    {
      "cell_type": "markdown",
      "source": [
        "Fernando Cerriteño Magaña A01702790\n",
        "\n",
        "<h2>Parte 1\n",
        "\n",
        "El conjunto de datos de criminalidad Download datos de criminalidadde Estados Unidos publicado en el año 1993 consiste de 51 registros para los que se tienen las siguientes variables:\n",
        "\n",
        "* $VR$  = Crímenes violentos por cada 100000 habitantes\n",
        "* $MR$  = Asesinatos por cada 100000 habitantes\n",
        "* $M$   = Porcentaje de áreas metropolitanas\n",
        "* $W$   = Porcentaje de gente blanca\n",
        "* $H$   = Porcentaje de personas con preparatoria terminada\n",
        "* $P$   = Porcentaje con ingresos por debajo del nivel de pobreza\n",
        "* $S$   = Porcentaje de familias con solo un miembro adulto como tutor"
      ],
      "metadata": {
        "id": "fXP_JY_SDyna"
      }
    },
    {
      "cell_type": "code",
      "execution_count": null,
      "metadata": {
        "id": "F8XM1CUHaoVf"
      },
      "outputs": [],
      "source": [
        "import numpy as np\n",
        "import pandas as pd\n",
        "import numpy.linalg\n",
        "import matplotlib.pyplot as plt\n",
        "from sklearn.linear_model import Lasso, LassoCV, LinearRegression\n",
        "from sklearn.model_selection import KFold, cross_val_score, train_test_split, cross_val_predict\n",
        "from sklearn.metrics import mean_squared_error, mean_absolute_error, r2_score\n",
        "\n",
        "from sklearn import linear_model\n",
        "from sklearn.impute import SimpleImputer\n",
        "from sklearn.preprocessing import OneHotEncoder\n",
        "from sklearn.feature_selection import SelectKBest, r_regression, SequentialFeatureSelector, RFE\n",
        "from sklearn.neighbors import KNeighborsClassifier\n",
        "from sklearn.tree import DecisionTreeRegressor\n",
        "from sklearn.feature_selection import f_regression\n",
        "from sklearn.neighbors import KNeighborsRegressor"
      ]
    },
    {
      "cell_type": "markdown",
      "source": [
        "Funciónes predictoras y de ajuste"
      ],
      "metadata": {
        "id": "66GEj_dyFMF7"
      }
    },
    {
      "cell_type": "code",
      "source": [
        "def predict(X, beta):\n",
        "  return X @ beta\n",
        "\n",
        "def fit_model(X, y):\n",
        "  return np.linalg.inv(X.transpose() @ X) @ X.transpose() @ y\n",
        "\n",
        "# Error function (it evaluates the mean squared error function for the specified model and data set).\n",
        "def mse(X, y, beta):\n",
        "  y_pred = X @ beta\n",
        "  return (y - y_pred).sum()\n",
        "\n",
        "# Gradient of error function (it evaluates the gradient of the mean squared error function for the specified model and data set).\n",
        "def grad(X, y, beta, lambd):\n",
        "  n = len(y)\n",
        "  y_pred = X @ beta\n",
        "  res = y - y_pred\n",
        "  tmp = res*X.transpose()\n",
        "  return -(2/n)*tmp.sum(axis = 1) + 2 *lambd*beta\n",
        "\n",
        "# Fit model function (it fits a linear model using the specified data set).\n",
        "def fit_model_Ridge(X, y, lambd=0.1, alpha = 0.0005, maxit = 100000):\n",
        "  # Number of predictors\n",
        "  npredictors = X.shape[1]\n",
        "\n",
        "  # Initialize beta\n",
        "  beta = 2*np.random.rand(npredictors) - 1.0\n",
        "\n",
        "  # Optimization algorithm\n",
        "  it = 0\n",
        "\n",
        "  while (np.linalg.norm(grad(X, y, beta, lambd)) > 2e-4) and (it < maxit):\n",
        "    beta = beta - alpha*grad(X, y, beta, lambd)\n",
        "    it = it + 1\n",
        "\n",
        "  return beta"
      ],
      "metadata": {
        "id": "te1Diw4bFLiD"
      },
      "execution_count": null,
      "outputs": []
    },
    {
      "cell_type": "code",
      "source": [
        "df = pd.read_csv('/content/crime_data.csv')"
      ],
      "metadata": {
        "id": "ZQ9Q_UPLlHBH"
      },
      "execution_count": null,
      "outputs": []
    },
    {
      "cell_type": "code",
      "source": [
        "df = df.drop(['State'],axis=1)\n",
        "df = df.drop(['MR'],axis=1)\n",
        "df = df.drop(['S'],axis=1)"
      ],
      "metadata": {
        "id": "bE94RADnlfkN"
      },
      "execution_count": null,
      "outputs": []
    },
    {
      "cell_type": "code",
      "source": [
        "df.head()"
      ],
      "metadata": {
        "colab": {
          "base_uri": "https://localhost:8080/",
          "height": 206
        },
        "id": "daZ0OLl7creI",
        "outputId": "6de301dc-5a32-4430-97df-53f51c27e44d"
      },
      "execution_count": null,
      "outputs": [
        {
          "output_type": "execute_result",
          "data": {
            "text/plain": [
              "     VR     M     W     H     P\n",
              "0   761  41.8  75.2  86.6   9.1\n",
              "1   780  67.4  73.5  66.9  17.4\n",
              "2   593  44.7  82.9  66.3  20.0\n",
              "3   715  84.7  88.6  78.7  15.4\n",
              "4  1078  96.7  79.3  76.2  18.2"
            ],
            "text/html": [
              "\n",
              "  <div id=\"df-b8deed6a-ba48-46b4-9d31-b8d20a020208\" class=\"colab-df-container\">\n",
              "    <div>\n",
              "<style scoped>\n",
              "    .dataframe tbody tr th:only-of-type {\n",
              "        vertical-align: middle;\n",
              "    }\n",
              "\n",
              "    .dataframe tbody tr th {\n",
              "        vertical-align: top;\n",
              "    }\n",
              "\n",
              "    .dataframe thead th {\n",
              "        text-align: right;\n",
              "    }\n",
              "</style>\n",
              "<table border=\"1\" class=\"dataframe\">\n",
              "  <thead>\n",
              "    <tr style=\"text-align: right;\">\n",
              "      <th></th>\n",
              "      <th>VR</th>\n",
              "      <th>M</th>\n",
              "      <th>W</th>\n",
              "      <th>H</th>\n",
              "      <th>P</th>\n",
              "    </tr>\n",
              "  </thead>\n",
              "  <tbody>\n",
              "    <tr>\n",
              "      <th>0</th>\n",
              "      <td>761</td>\n",
              "      <td>41.8</td>\n",
              "      <td>75.2</td>\n",
              "      <td>86.6</td>\n",
              "      <td>9.1</td>\n",
              "    </tr>\n",
              "    <tr>\n",
              "      <th>1</th>\n",
              "      <td>780</td>\n",
              "      <td>67.4</td>\n",
              "      <td>73.5</td>\n",
              "      <td>66.9</td>\n",
              "      <td>17.4</td>\n",
              "    </tr>\n",
              "    <tr>\n",
              "      <th>2</th>\n",
              "      <td>593</td>\n",
              "      <td>44.7</td>\n",
              "      <td>82.9</td>\n",
              "      <td>66.3</td>\n",
              "      <td>20.0</td>\n",
              "    </tr>\n",
              "    <tr>\n",
              "      <th>3</th>\n",
              "      <td>715</td>\n",
              "      <td>84.7</td>\n",
              "      <td>88.6</td>\n",
              "      <td>78.7</td>\n",
              "      <td>15.4</td>\n",
              "    </tr>\n",
              "    <tr>\n",
              "      <th>4</th>\n",
              "      <td>1078</td>\n",
              "      <td>96.7</td>\n",
              "      <td>79.3</td>\n",
              "      <td>76.2</td>\n",
              "      <td>18.2</td>\n",
              "    </tr>\n",
              "  </tbody>\n",
              "</table>\n",
              "</div>\n",
              "    <div class=\"colab-df-buttons\">\n",
              "\n",
              "  <div class=\"colab-df-container\">\n",
              "    <button class=\"colab-df-convert\" onclick=\"convertToInteractive('df-b8deed6a-ba48-46b4-9d31-b8d20a020208')\"\n",
              "            title=\"Convert this dataframe to an interactive table.\"\n",
              "            style=\"display:none;\">\n",
              "\n",
              "  <svg xmlns=\"http://www.w3.org/2000/svg\" height=\"24px\" viewBox=\"0 -960 960 960\">\n",
              "    <path d=\"M120-120v-720h720v720H120Zm60-500h600v-160H180v160Zm220 220h160v-160H400v160Zm0 220h160v-160H400v160ZM180-400h160v-160H180v160Zm440 0h160v-160H620v160ZM180-180h160v-160H180v160Zm440 0h160v-160H620v160Z\"/>\n",
              "  </svg>\n",
              "    </button>\n",
              "\n",
              "  <style>\n",
              "    .colab-df-container {\n",
              "      display:flex;\n",
              "      gap: 12px;\n",
              "    }\n",
              "\n",
              "    .colab-df-convert {\n",
              "      background-color: #E8F0FE;\n",
              "      border: none;\n",
              "      border-radius: 50%;\n",
              "      cursor: pointer;\n",
              "      display: none;\n",
              "      fill: #1967D2;\n",
              "      height: 32px;\n",
              "      padding: 0 0 0 0;\n",
              "      width: 32px;\n",
              "    }\n",
              "\n",
              "    .colab-df-convert:hover {\n",
              "      background-color: #E2EBFA;\n",
              "      box-shadow: 0px 1px 2px rgba(60, 64, 67, 0.3), 0px 1px 3px 1px rgba(60, 64, 67, 0.15);\n",
              "      fill: #174EA6;\n",
              "    }\n",
              "\n",
              "    .colab-df-buttons div {\n",
              "      margin-bottom: 4px;\n",
              "    }\n",
              "\n",
              "    [theme=dark] .colab-df-convert {\n",
              "      background-color: #3B4455;\n",
              "      fill: #D2E3FC;\n",
              "    }\n",
              "\n",
              "    [theme=dark] .colab-df-convert:hover {\n",
              "      background-color: #434B5C;\n",
              "      box-shadow: 0px 1px 3px 1px rgba(0, 0, 0, 0.15);\n",
              "      filter: drop-shadow(0px 1px 2px rgba(0, 0, 0, 0.3));\n",
              "      fill: #FFFFFF;\n",
              "    }\n",
              "  </style>\n",
              "\n",
              "    <script>\n",
              "      const buttonEl =\n",
              "        document.querySelector('#df-b8deed6a-ba48-46b4-9d31-b8d20a020208 button.colab-df-convert');\n",
              "      buttonEl.style.display =\n",
              "        google.colab.kernel.accessAllowed ? 'block' : 'none';\n",
              "\n",
              "      async function convertToInteractive(key) {\n",
              "        const element = document.querySelector('#df-b8deed6a-ba48-46b4-9d31-b8d20a020208');\n",
              "        const dataTable =\n",
              "          await google.colab.kernel.invokeFunction('convertToInteractive',\n",
              "                                                    [key], {});\n",
              "        if (!dataTable) return;\n",
              "\n",
              "        const docLinkHtml = 'Like what you see? Visit the ' +\n",
              "          '<a target=\"_blank\" href=https://colab.research.google.com/notebooks/data_table.ipynb>data table notebook</a>'\n",
              "          + ' to learn more about interactive tables.';\n",
              "        element.innerHTML = '';\n",
              "        dataTable['output_type'] = 'display_data';\n",
              "        await google.colab.output.renderOutput(dataTable, element);\n",
              "        const docLink = document.createElement('div');\n",
              "        docLink.innerHTML = docLinkHtml;\n",
              "        element.appendChild(docLink);\n",
              "      }\n",
              "    </script>\n",
              "  </div>\n",
              "\n",
              "\n",
              "<div id=\"df-2628ab93-f98f-4e6e-927e-927fab04a632\">\n",
              "  <button class=\"colab-df-quickchart\" onclick=\"quickchart('df-2628ab93-f98f-4e6e-927e-927fab04a632')\"\n",
              "            title=\"Suggest charts.\"\n",
              "            style=\"display:none;\">\n",
              "\n",
              "<svg xmlns=\"http://www.w3.org/2000/svg\" height=\"24px\"viewBox=\"0 0 24 24\"\n",
              "     width=\"24px\">\n",
              "    <g>\n",
              "        <path d=\"M19 3H5c-1.1 0-2 .9-2 2v14c0 1.1.9 2 2 2h14c1.1 0 2-.9 2-2V5c0-1.1-.9-2-2-2zM9 17H7v-7h2v7zm4 0h-2V7h2v10zm4 0h-2v-4h2v4z\"/>\n",
              "    </g>\n",
              "</svg>\n",
              "  </button>\n",
              "\n",
              "<style>\n",
              "  .colab-df-quickchart {\n",
              "    background-color: #E8F0FE;\n",
              "    border: none;\n",
              "    border-radius: 50%;\n",
              "    cursor: pointer;\n",
              "    display: none;\n",
              "    fill: #1967D2;\n",
              "    height: 32px;\n",
              "    padding: 0 0 0 0;\n",
              "    width: 32px;\n",
              "  }\n",
              "\n",
              "  .colab-df-quickchart:hover {\n",
              "    background-color: #E2EBFA;\n",
              "    box-shadow: 0px 1px 2px rgba(60, 64, 67, 0.3), 0px 1px 3px 1px rgba(60, 64, 67, 0.15);\n",
              "    fill: #174EA6;\n",
              "  }\n",
              "\n",
              "  [theme=dark] .colab-df-quickchart {\n",
              "    background-color: #3B4455;\n",
              "    fill: #D2E3FC;\n",
              "  }\n",
              "\n",
              "  [theme=dark] .colab-df-quickchart:hover {\n",
              "    background-color: #434B5C;\n",
              "    box-shadow: 0px 1px 3px 1px rgba(0, 0, 0, 0.15);\n",
              "    filter: drop-shadow(0px 1px 2px rgba(0, 0, 0, 0.3));\n",
              "    fill: #FFFFFF;\n",
              "  }\n",
              "</style>\n",
              "\n",
              "  <script>\n",
              "    async function quickchart(key) {\n",
              "      const charts = await google.colab.kernel.invokeFunction(\n",
              "          'suggestCharts', [key], {});\n",
              "    }\n",
              "    (() => {\n",
              "      let quickchartButtonEl =\n",
              "        document.querySelector('#df-2628ab93-f98f-4e6e-927e-927fab04a632 button');\n",
              "      quickchartButtonEl.style.display =\n",
              "        google.colab.kernel.accessAllowed ? 'block' : 'none';\n",
              "    })();\n",
              "  </script>\n",
              "</div>\n",
              "    </div>\n",
              "  </div>\n"
            ]
          },
          "metadata": {},
          "execution_count": 151
        }
      ]
    },
    {
      "cell_type": "code",
      "source": [
        "df.isnull().sum()"
      ],
      "metadata": {
        "colab": {
          "base_uri": "https://localhost:8080/"
        },
        "id": "Apd41rzPcs9_",
        "outputId": "679e8836-e3a5-4963-ad6e-d5f3b3899e00"
      },
      "execution_count": null,
      "outputs": [
        {
          "output_type": "execute_result",
          "data": {
            "text/plain": [
              "VR    0\n",
              "M     0\n",
              "W     0\n",
              "H     0\n",
              "P     0\n",
              "dtype: int64"
            ]
          },
          "metadata": {},
          "execution_count": 152
        }
      ]
    },
    {
      "cell_type": "code",
      "source": [
        "correlacion = df.corr()\n",
        "alta_corr = np.where((correlacion>0.95)&(correlacion<1))\n",
        "baja_corr = np.where((correlacion<-0.95)&(correlacion>-1))\n",
        "if alta_corr[0].size == 0 and baja_corr[0].size == 0:\n",
        "  print('Los datos no cuentan con correlación')\n",
        "else:\n",
        "  print('Los datos cuentan con correlación')"
      ],
      "metadata": {
        "colab": {
          "base_uri": "https://localhost:8080/"
        },
        "id": "RbDs6iGHdCwd",
        "outputId": "61de190a-3db7-4dba-e267-6764ac752f97"
      },
      "execution_count": null,
      "outputs": [
        {
          "output_type": "stream",
          "name": "stdout",
          "text": [
            "Los datos no cuentan con correlación\n"
          ]
        }
      ]
    },
    {
      "cell_type": "code",
      "source": [
        "df.head()"
      ],
      "metadata": {
        "colab": {
          "base_uri": "https://localhost:8080/",
          "height": 206
        },
        "id": "H9BpR5WFuGPa",
        "outputId": "2306bddd-32fd-41e5-e657-2d7bb2235f96"
      },
      "execution_count": null,
      "outputs": [
        {
          "output_type": "execute_result",
          "data": {
            "text/plain": [
              "     VR     M     W     H     P\n",
              "0   761  41.8  75.2  86.6   9.1\n",
              "1   780  67.4  73.5  66.9  17.4\n",
              "2   593  44.7  82.9  66.3  20.0\n",
              "3   715  84.7  88.6  78.7  15.4\n",
              "4  1078  96.7  79.3  76.2  18.2"
            ],
            "text/html": [
              "\n",
              "  <div id=\"df-6d4c4359-e926-4355-92be-8a89dbb89928\" class=\"colab-df-container\">\n",
              "    <div>\n",
              "<style scoped>\n",
              "    .dataframe tbody tr th:only-of-type {\n",
              "        vertical-align: middle;\n",
              "    }\n",
              "\n",
              "    .dataframe tbody tr th {\n",
              "        vertical-align: top;\n",
              "    }\n",
              "\n",
              "    .dataframe thead th {\n",
              "        text-align: right;\n",
              "    }\n",
              "</style>\n",
              "<table border=\"1\" class=\"dataframe\">\n",
              "  <thead>\n",
              "    <tr style=\"text-align: right;\">\n",
              "      <th></th>\n",
              "      <th>VR</th>\n",
              "      <th>M</th>\n",
              "      <th>W</th>\n",
              "      <th>H</th>\n",
              "      <th>P</th>\n",
              "    </tr>\n",
              "  </thead>\n",
              "  <tbody>\n",
              "    <tr>\n",
              "      <th>0</th>\n",
              "      <td>761</td>\n",
              "      <td>41.8</td>\n",
              "      <td>75.2</td>\n",
              "      <td>86.6</td>\n",
              "      <td>9.1</td>\n",
              "    </tr>\n",
              "    <tr>\n",
              "      <th>1</th>\n",
              "      <td>780</td>\n",
              "      <td>67.4</td>\n",
              "      <td>73.5</td>\n",
              "      <td>66.9</td>\n",
              "      <td>17.4</td>\n",
              "    </tr>\n",
              "    <tr>\n",
              "      <th>2</th>\n",
              "      <td>593</td>\n",
              "      <td>44.7</td>\n",
              "      <td>82.9</td>\n",
              "      <td>66.3</td>\n",
              "      <td>20.0</td>\n",
              "    </tr>\n",
              "    <tr>\n",
              "      <th>3</th>\n",
              "      <td>715</td>\n",
              "      <td>84.7</td>\n",
              "      <td>88.6</td>\n",
              "      <td>78.7</td>\n",
              "      <td>15.4</td>\n",
              "    </tr>\n",
              "    <tr>\n",
              "      <th>4</th>\n",
              "      <td>1078</td>\n",
              "      <td>96.7</td>\n",
              "      <td>79.3</td>\n",
              "      <td>76.2</td>\n",
              "      <td>18.2</td>\n",
              "    </tr>\n",
              "  </tbody>\n",
              "</table>\n",
              "</div>\n",
              "    <div class=\"colab-df-buttons\">\n",
              "\n",
              "  <div class=\"colab-df-container\">\n",
              "    <button class=\"colab-df-convert\" onclick=\"convertToInteractive('df-6d4c4359-e926-4355-92be-8a89dbb89928')\"\n",
              "            title=\"Convert this dataframe to an interactive table.\"\n",
              "            style=\"display:none;\">\n",
              "\n",
              "  <svg xmlns=\"http://www.w3.org/2000/svg\" height=\"24px\" viewBox=\"0 -960 960 960\">\n",
              "    <path d=\"M120-120v-720h720v720H120Zm60-500h600v-160H180v160Zm220 220h160v-160H400v160Zm0 220h160v-160H400v160ZM180-400h160v-160H180v160Zm440 0h160v-160H620v160ZM180-180h160v-160H180v160Zm440 0h160v-160H620v160Z\"/>\n",
              "  </svg>\n",
              "    </button>\n",
              "\n",
              "  <style>\n",
              "    .colab-df-container {\n",
              "      display:flex;\n",
              "      gap: 12px;\n",
              "    }\n",
              "\n",
              "    .colab-df-convert {\n",
              "      background-color: #E8F0FE;\n",
              "      border: none;\n",
              "      border-radius: 50%;\n",
              "      cursor: pointer;\n",
              "      display: none;\n",
              "      fill: #1967D2;\n",
              "      height: 32px;\n",
              "      padding: 0 0 0 0;\n",
              "      width: 32px;\n",
              "    }\n",
              "\n",
              "    .colab-df-convert:hover {\n",
              "      background-color: #E2EBFA;\n",
              "      box-shadow: 0px 1px 2px rgba(60, 64, 67, 0.3), 0px 1px 3px 1px rgba(60, 64, 67, 0.15);\n",
              "      fill: #174EA6;\n",
              "    }\n",
              "\n",
              "    .colab-df-buttons div {\n",
              "      margin-bottom: 4px;\n",
              "    }\n",
              "\n",
              "    [theme=dark] .colab-df-convert {\n",
              "      background-color: #3B4455;\n",
              "      fill: #D2E3FC;\n",
              "    }\n",
              "\n",
              "    [theme=dark] .colab-df-convert:hover {\n",
              "      background-color: #434B5C;\n",
              "      box-shadow: 0px 1px 3px 1px rgba(0, 0, 0, 0.15);\n",
              "      filter: drop-shadow(0px 1px 2px rgba(0, 0, 0, 0.3));\n",
              "      fill: #FFFFFF;\n",
              "    }\n",
              "  </style>\n",
              "\n",
              "    <script>\n",
              "      const buttonEl =\n",
              "        document.querySelector('#df-6d4c4359-e926-4355-92be-8a89dbb89928 button.colab-df-convert');\n",
              "      buttonEl.style.display =\n",
              "        google.colab.kernel.accessAllowed ? 'block' : 'none';\n",
              "\n",
              "      async function convertToInteractive(key) {\n",
              "        const element = document.querySelector('#df-6d4c4359-e926-4355-92be-8a89dbb89928');\n",
              "        const dataTable =\n",
              "          await google.colab.kernel.invokeFunction('convertToInteractive',\n",
              "                                                    [key], {});\n",
              "        if (!dataTable) return;\n",
              "\n",
              "        const docLinkHtml = 'Like what you see? Visit the ' +\n",
              "          '<a target=\"_blank\" href=https://colab.research.google.com/notebooks/data_table.ipynb>data table notebook</a>'\n",
              "          + ' to learn more about interactive tables.';\n",
              "        element.innerHTML = '';\n",
              "        dataTable['output_type'] = 'display_data';\n",
              "        await google.colab.output.renderOutput(dataTable, element);\n",
              "        const docLink = document.createElement('div');\n",
              "        docLink.innerHTML = docLinkHtml;\n",
              "        element.appendChild(docLink);\n",
              "      }\n",
              "    </script>\n",
              "  </div>\n",
              "\n",
              "\n",
              "<div id=\"df-73083462-6dc8-464b-bcfb-899f861749cf\">\n",
              "  <button class=\"colab-df-quickchart\" onclick=\"quickchart('df-73083462-6dc8-464b-bcfb-899f861749cf')\"\n",
              "            title=\"Suggest charts.\"\n",
              "            style=\"display:none;\">\n",
              "\n",
              "<svg xmlns=\"http://www.w3.org/2000/svg\" height=\"24px\"viewBox=\"0 0 24 24\"\n",
              "     width=\"24px\">\n",
              "    <g>\n",
              "        <path d=\"M19 3H5c-1.1 0-2 .9-2 2v14c0 1.1.9 2 2 2h14c1.1 0 2-.9 2-2V5c0-1.1-.9-2-2-2zM9 17H7v-7h2v7zm4 0h-2V7h2v10zm4 0h-2v-4h2v4z\"/>\n",
              "    </g>\n",
              "</svg>\n",
              "  </button>\n",
              "\n",
              "<style>\n",
              "  .colab-df-quickchart {\n",
              "    background-color: #E8F0FE;\n",
              "    border: none;\n",
              "    border-radius: 50%;\n",
              "    cursor: pointer;\n",
              "    display: none;\n",
              "    fill: #1967D2;\n",
              "    height: 32px;\n",
              "    padding: 0 0 0 0;\n",
              "    width: 32px;\n",
              "  }\n",
              "\n",
              "  .colab-df-quickchart:hover {\n",
              "    background-color: #E2EBFA;\n",
              "    box-shadow: 0px 1px 2px rgba(60, 64, 67, 0.3), 0px 1px 3px 1px rgba(60, 64, 67, 0.15);\n",
              "    fill: #174EA6;\n",
              "  }\n",
              "\n",
              "  [theme=dark] .colab-df-quickchart {\n",
              "    background-color: #3B4455;\n",
              "    fill: #D2E3FC;\n",
              "  }\n",
              "\n",
              "  [theme=dark] .colab-df-quickchart:hover {\n",
              "    background-color: #434B5C;\n",
              "    box-shadow: 0px 1px 3px 1px rgba(0, 0, 0, 0.15);\n",
              "    filter: drop-shadow(0px 1px 2px rgba(0, 0, 0, 0.3));\n",
              "    fill: #FFFFFF;\n",
              "  }\n",
              "</style>\n",
              "\n",
              "  <script>\n",
              "    async function quickchart(key) {\n",
              "      const charts = await google.colab.kernel.invokeFunction(\n",
              "          'suggestCharts', [key], {});\n",
              "    }\n",
              "    (() => {\n",
              "      let quickchartButtonEl =\n",
              "        document.querySelector('#df-73083462-6dc8-464b-bcfb-899f861749cf button');\n",
              "      quickchartButtonEl.style.display =\n",
              "        google.colab.kernel.accessAllowed ? 'block' : 'none';\n",
              "    })();\n",
              "  </script>\n",
              "</div>\n",
              "    </div>\n",
              "  </div>\n"
            ]
          },
          "metadata": {},
          "execution_count": 154
        }
      ]
    },
    {
      "cell_type": "markdown",
      "source": [
        "Gráfica de las variables independientes contra la variable dependiente"
      ],
      "metadata": {
        "id": "K2khqozomJyY"
      }
    },
    {
      "cell_type": "code",
      "source": [
        "columnas=['Porcentaje de áreas metropolitanas','Porcentaje de gente blanca','Porcentaje de personas con preparatoria terminada','Porcentaje con ingresos por debajo del nivel de pobreza']\n",
        "for i in range(1,5):\n",
        "  plt.scatter(df.iloc[:,i], df.iloc[:,0])\n",
        "  plt.xlabel(df.columns[i])\n",
        "  plt.ylabel('Variables independientes')\n",
        "  plt.legend(columnas)\n",
        "  # title=columnas[i],'vs',columnas[0]\n",
        "  plt.grid()\n",
        "  plt.title('Gráfica de las variables independientes contra la variable dependiente')\n",
        "plt.show()"
      ],
      "metadata": {
        "colab": {
          "base_uri": "https://localhost:8080/",
          "height": 472
        },
        "id": "W5gfvXaVmXdU",
        "outputId": "fe60ab1a-8622-49d3-b45d-7dd6243c17ad"
      },
      "execution_count": null,
      "outputs": [
        {
          "output_type": "display_data",
          "data": {
            "text/plain": [
              "<Figure size 640x480 with 1 Axes>"
            ],
            "image/png": "[encoded data removed]"
          },
          "metadata": {}
        }
      ]
    },
    {
      "cell_type": "markdown",
      "source": [
        "Obtención de los coeficientes de un modelo de regresión lineal por formula directa"
      ],
      "metadata": {
        "id": "b0UTb8Kj_49c"
      }
    },
    {
      "cell_type": "code",
      "source": [
        "X = np.column_stack((np.ones(df.iloc[:,1].shape), df.iloc[:,1:]))\n",
        "beta = np.linalg.inv(X.transpose() @ X) @ X.transpose() @ df.VR"
      ],
      "metadata": {
        "id": "P5mTM5giFUWV"
      },
      "execution_count": null,
      "outputs": []
    },
    {
      "cell_type": "code",
      "source": [
        "print(\"Coeficiente de intersección (β0):\", beta[0])\n",
        "for i, coef in enumerate(beta[1:], start=1):\n",
        "    print(f\"Coeficiente de β{i}: {coef}\")"
      ],
      "metadata": {
        "id": "9XTWA_M0_aBt",
        "colab": {
          "base_uri": "https://localhost:8080/"
        },
        "outputId": "4eac654b-54ec-48e3-9692-69c01dafc04c"
      },
      "execution_count": null,
      "outputs": [
        {
          "output_type": "stream",
          "name": "stdout",
          "text": [
            "Coeficiente de intersección (β0): -2014.1247107147858\n",
            "Coeficiente de β1: 9.094241163066735\n",
            "Coeficiente de β2: -13.081500654727689\n",
            "Coeficiente de β3: 29.020389388187134\n",
            "Coeficiente de β4: 63.28190063796451\n"
          ]
        }
      ]
    },
    {
      "cell_type": "code",
      "source": [
        "y_pred = predict(X, beta)\n",
        "y = df.VR\n",
        "# Calculo de MSE, MAE y R^2 con el modelo de entrenamiento\n",
        "print('MSE: ', mean_squared_error(y, y_pred))\n",
        "print(\"MAE: \", mean_absolute_error(y, y_pred))\n",
        "print(\"R^2: \", r2_score(y, y_pred))"
      ],
      "metadata": {
        "id": "wD0K2nfi4dZ8",
        "colab": {
          "base_uri": "https://localhost:8080/"
        },
        "outputId": "99563325-b5d0-4cdf-cd28-b4ffb9d49bd9"
      },
      "execution_count": null,
      "outputs": [
        {
          "output_type": "stream",
          "name": "stdout",
          "text": [
            "MSE:  47045.06868763569\n",
            "MAE:  165.2833108376553\n",
            "R^2:  0.7533736206409568\n"
          ]
        }
      ]
    },
    {
      "cell_type": "markdown",
      "source": [
        "Evaluación del modelo con validación cruzada k-folds"
      ],
      "metadata": {
        "id": "d6rsqLRjDfDk"
      }
    },
    {
      "cell_type": "code",
      "source": [
        "n_folds = 21\n",
        "kf = KFold(n_splits=n_folds, shuffle = True)\n",
        "\n",
        "mse_cv = []\n",
        "mae_cv = []\n",
        "r2_cv = []\n",
        "\n",
        "x = df.iloc[:,1:].to_numpy()\n",
        "y = df.VR.to_numpy()\n",
        "\n",
        "for train_index, test_index in kf.split(x):\n",
        "\n",
        "    #Fase de entrenamiento\n",
        "    x_train = x[train_index, :]\n",
        "    y_train = y[train_index]\n",
        "\n",
        "    beta_cv = fit_model(x_train, y_train)\n",
        "\n",
        "    # Fase de prueba\n",
        "    x_test = x[test_index, :]\n",
        "    y_test = y[test_index]\n",
        "\n",
        "    y_pred = predict(x_test, beta_cv)\n",
        "\n",
        "    # Calculo de MSE, MAE y R^2\n",
        "    mse_i = mean_squared_error(y_test, y_pred)\n",
        "    mse_cv.append(mse_i)\n",
        "\n",
        "    mae_i = mean_absolute_error(y_test, y_pred)\n",
        "    mae_cv.append(mae_i)\n",
        "\n",
        "    r2_i = r2_score(y_test, y_pred)\n",
        "    r2_cv.append(r2_i)\n",
        "\n",
        "print('MSE:', np.average(mse_cv), '  MAE:', np.average(mae_cv),'  R^2:', np.average(r2_cv))\n"
      ],
      "metadata": {
        "id": "47kF_F35IOS0",
        "colab": {
          "base_uri": "https://localhost:8080/"
        },
        "outputId": "b4e5ed94-aa9d-44da-96b3-f2451226c893"
      },
      "execution_count": null,
      "outputs": [
        {
          "output_type": "stream",
          "name": "stdout",
          "text": [
            "MSE: 89159.14112445351   MAE: 173.40858699600233   R^2: -3.4377835291197663\n"
          ]
        }
      ]
    },
    {
      "cell_type": "markdown",
      "source": [
        "Histograma de $R^2$ por metodo Monte Carlo"
      ],
      "metadata": {
        "id": "df80_kGdUHyd"
      }
    },
    {
      "cell_type": "code",
      "source": [
        "# Generar datos de ejemplo\n",
        "np.random.seed(42)\n",
        "x = df.iloc[:,1:].to_numpy()\n",
        "y = df.VR.to_numpy()\n",
        "\n",
        "# Parámetros de la validación cruzada Monte Carlo\n",
        "num_iterations = 100\n",
        "test_size = 0.2\n",
        "\n",
        "r2_scores = []\n",
        "MSE_scores = []\n",
        "MAE_scores = []\n",
        "\n",
        "# Realizar la validación cruzada Monte Carlo\n",
        "for _ in range(num_iterations):\n",
        "    X_train, X_test, y_train, y_test = train_test_split(X, y, test_size=test_size)\n",
        "    model = LinearRegression()\n",
        "    model.fit(X_train, y_train)\n",
        "    y_pred = model.predict(X_test)\n",
        "    r2_MC = r2_score(y_test, y_pred)\n",
        "    mse_MC = mean_squared_error(y_test, y_pred)\n",
        "    mae_MC = mean_absolute_error(y_test, y_pred)\n",
        "    r2_scores.append(r2_MC)\n",
        "    MSE_scores.append(mse_MC)\n",
        "    MAE_scores.append(mae_MC)\n",
        "\n",
        "# Mostrar histogramas\n",
        "plt.hist(r2_scores, bins=20, edgecolor='black')\n",
        "plt.xlabel('Coeficiente de Determinación (R2)')\n",
        "plt.ylabel('Frecuencia')\n",
        "plt.title('Histograma de R2 en Validación Cruzada Monte Carlo')\n",
        "plt.show()\n",
        "\n",
        "plt.hist(MSE_scores, bins=20, edgecolor='black',color='green')\n",
        "plt.xlabel('MSE')\n",
        "plt.ylabel('Frecuencia')\n",
        "plt.title('Histograma de MSE en Validación Cruzada Monte Carlo')\n",
        "plt.show()\n",
        "\n",
        "plt.hist(MAE_scores, bins=20, edgecolor='black',color='red')\n",
        "plt.xlabel('MAE')\n",
        "plt.ylabel('Frecuencia')\n",
        "plt.title('Histograma de MAE en Validación Cruzada Monte Carlo')\n",
        "plt.show()"
      ],
      "metadata": {
        "id": "NdY53XVKLaga",
        "colab": {
          "base_uri": "https://localhost:8080/",
          "height": 1000
        },
        "outputId": "92bb2a47-d41a-4967-8eb2-8b110ff51383"
      },
      "execution_count": null,
      "outputs": [
        {
          "output_type": "display_data",
          "data": {
            "text/plain": [
              "<Figure size 640x480 with 1 Axes>"
            ],
            "image/png": "[encoded data removed]"
          },
          "metadata": {}
        },
        {
          "output_type": "display_data",
          "data": {
            "text/plain": [
              "<Figure size 640x480 with 1 Axes>"
            ],
            "image/png": "[encoded data removed]"
          },
          "metadata": {}
        },
        {
          "output_type": "display_data",
          "data": {
            "text/plain": [
              "<Figure size 640x480 with 1 Axes>"
            ],
            "image/png": "[encoded data removed]"
          },
          "metadata": {}
        }
      ]
    },
    {
      "cell_type": "markdown",
      "source": [
        "Adición de columnas que representen los cuadrados de las variables predictoras, así como los productos entre pares de variables"
      ],
      "metadata": {
        "id": "-5pYcrBFiBYj"
      }
    },
    {
      "cell_type": "code",
      "source": [
        "df['M^2'] = df.M**2\n",
        "df['W^2'] = df.W**2\n",
        "df['H^2'] = df.H**2\n",
        "df['P^2'] = df.P**2\n",
        "df['MxW'] = df.M*df.W\n",
        "df['MxH'] = df.M*df.H\n",
        "df['MxP'] = df.M*df.P\n",
        "df['WxH'] = df.W*df.H\n",
        "df['WxP'] = df.W*df.P\n",
        "df['HxP'] = df.H*df.P"
      ],
      "metadata": {
        "id": "-4XX2r-ogRX7"
      },
      "execution_count": null,
      "outputs": []
    },
    {
      "cell_type": "code",
      "source": [
        "df.head()"
      ],
      "metadata": {
        "id": "yfy6F0EJiYxd",
        "colab": {
          "base_uri": "https://localhost:8080/",
          "height": 206
        },
        "outputId": "161332be-3401-4377-d334-1ee121e30596"
      },
      "execution_count": null,
      "outputs": [
        {
          "output_type": "execute_result",
          "data": {
            "text/plain": [
              "     VR     M     W     H     P      M^2      W^2      H^2     P^2      MxW  \\\n",
              "0   761  41.8  75.2  86.6   9.1  1747.24  5655.04  7499.56   82.81  3143.36   \n",
              "1   780  67.4  73.5  66.9  17.4  4542.76  5402.25  4475.61  302.76  4953.90   \n",
              "2   593  44.7  82.9  66.3  20.0  1998.09  6872.41  4395.69  400.00  3705.63   \n",
              "3   715  84.7  88.6  78.7  15.4  7174.09  7849.96  6193.69  237.16  7504.42   \n",
              "4  1078  96.7  79.3  76.2  18.2  9350.89  6288.49  5806.44  331.24  7668.31   \n",
              "\n",
              "       MxH      MxP      WxH      WxP      HxP  \n",
              "0  3619.88   380.38  6512.32   684.32   788.06  \n",
              "1  4509.06  1172.76  4917.15  1278.90  1164.06  \n",
              "2  2963.61   894.00  5496.27  1658.00  1326.00  \n",
              "3  6665.89  1304.38  6972.82  1364.44  1211.98  \n",
              "4  7368.54  1759.94  6042.66  1443.26  1386.84  "
            ],
            "text/html": [
              "\n",
              "  <div id=\"df-f82342dc-c2e4-4e4f-90e7-296e9ef0cfd3\" class=\"colab-df-container\">\n",
              "    <div>\n",
              "<style scoped>\n",
              "    .dataframe tbody tr th:only-of-type {\n",
              "        vertical-align: middle;\n",
              "    }\n",
              "\n",
              "    .dataframe tbody tr th {\n",
              "        vertical-align: top;\n",
              "    }\n",
              "\n",
              "    .dataframe thead th {\n",
              "        text-align: right;\n",
              "    }\n",
              "</style>\n",
              "<table border=\"1\" class=\"dataframe\">\n",
              "  <thead>\n",
              "    <tr style=\"text-align: right;\">\n",
              "      <th></th>\n",
              "      <th>VR</th>\n",
              "      <th>M</th>\n",
              "      <th>W</th>\n",
              "      <th>H</th>\n",
              "      <th>P</th>\n",
              "      <th>M^2</th>\n",
              "      <th>W^2</th>\n",
              "      <th>H^2</th>\n",
              "      <th>P^2</th>\n",
              "      <th>MxW</th>\n",
              "      <th>MxH</th>\n",
              "      <th>MxP</th>\n",
              "      <th>WxH</th>\n",
              "      <th>WxP</th>\n",
              "      <th>HxP</th>\n",
              "    </tr>\n",
              "  </thead>\n",
              "  <tbody>\n",
              "    <tr>\n",
              "      <th>0</th>\n",
              "      <td>761</td>\n",
              "      <td>41.8</td>\n",
              "      <td>75.2</td>\n",
              "      <td>86.6</td>\n",
              "      <td>9.1</td>\n",
              "      <td>1747.24</td>\n",
              "      <td>5655.04</td>\n",
              "      <td>7499.56</td>\n",
              "      <td>82.81</td>\n",
              "      <td>3143.36</td>\n",
              "      <td>3619.88</td>\n",
              "      <td>380.38</td>\n",
              "      <td>6512.32</td>\n",
              "      <td>684.32</td>\n",
              "      <td>788.06</td>\n",
              "    </tr>\n",
              "    <tr>\n",
              "      <th>1</th>\n",
              "      <td>780</td>\n",
              "      <td>67.4</td>\n",
              "      <td>73.5</td>\n",
              "      <td>66.9</td>\n",
              "      <td>17.4</td>\n",
              "      <td>4542.76</td>\n",
              "      <td>5402.25</td>\n",
              "      <td>4475.61</td>\n",
              "      <td>302.76</td>\n",
              "      <td>4953.90</td>\n",
              "      <td>4509.06</td>\n",
              "      <td>1172.76</td>\n",
              "      <td>4917.15</td>\n",
              "      <td>1278.90</td>\n",
              "      <td>1164.06</td>\n",
              "    </tr>\n",
              "    <tr>\n",
              "      <th>2</th>\n",
              "      <td>593</td>\n",
              "      <td>44.7</td>\n",
              "      <td>82.9</td>\n",
              "      <td>66.3</td>\n",
              "      <td>20.0</td>\n",
              "      <td>1998.09</td>\n",
              "      <td>6872.41</td>\n",
              "      <td>4395.69</td>\n",
              "      <td>400.00</td>\n",
              "      <td>3705.63</td>\n",
              "      <td>2963.61</td>\n",
              "      <td>894.00</td>\n",
              "      <td>5496.27</td>\n",
              "      <td>1658.00</td>\n",
              "      <td>1326.00</td>\n",
              "    </tr>\n",
              "    <tr>\n",
              "      <th>3</th>\n",
              "      <td>715</td>\n",
              "      <td>84.7</td>\n",
              "      <td>88.6</td>\n",
              "      <td>78.7</td>\n",
              "      <td>15.4</td>\n",
              "      <td>7174.09</td>\n",
              "      <td>7849.96</td>\n",
              "      <td>6193.69</td>\n",
              "      <td>237.16</td>\n",
              "      <td>7504.42</td>\n",
              "      <td>6665.89</td>\n",
              "      <td>1304.38</td>\n",
              "      <td>6972.82</td>\n",
              "      <td>1364.44</td>\n",
              "      <td>1211.98</td>\n",
              "    </tr>\n",
              "    <tr>\n",
              "      <th>4</th>\n",
              "      <td>1078</td>\n",
              "      <td>96.7</td>\n",
              "      <td>79.3</td>\n",
              "      <td>76.2</td>\n",
              "      <td>18.2</td>\n",
              "      <td>9350.89</td>\n",
              "      <td>6288.49</td>\n",
              "      <td>5806.44</td>\n",
              "      <td>331.24</td>\n",
              "      <td>7668.31</td>\n",
              "      <td>7368.54</td>\n",
              "      <td>1759.94</td>\n",
              "      <td>6042.66</td>\n",
              "      <td>1443.26</td>\n",
              "      <td>1386.84</td>\n",
              "    </tr>\n",
              "  </tbody>\n",
              "</table>\n",
              "</div>\n",
              "    <div class=\"colab-df-buttons\">\n",
              "\n",
              "  <div class=\"colab-df-container\">\n",
              "    <button class=\"colab-df-convert\" onclick=\"convertToInteractive('df-f82342dc-c2e4-4e4f-90e7-296e9ef0cfd3')\"\n",
              "            title=\"Convert this dataframe to an interactive table.\"\n",
              "            style=\"display:none;\">\n",
              "\n",
              "  <svg xmlns=\"http://www.w3.org/2000/svg\" height=\"24px\" viewBox=\"0 -960 960 960\">\n",
              "    <path d=\"M120-120v-720h720v720H120Zm60-500h600v-160H180v160Zm220 220h160v-160H400v160Zm0 220h160v-160H400v160ZM180-400h160v-160H180v160Zm440 0h160v-160H620v160ZM180-180h160v-160H180v160Zm440 0h160v-160H620v160Z\"/>\n",
              "  </svg>\n",
              "    </button>\n",
              "\n",
              "  <style>\n",
              "    .colab-df-container {\n",
              "      display:flex;\n",
              "      gap: 12px;\n",
              "    }\n",
              "\n",
              "    .colab-df-convert {\n",
              "      background-color: #E8F0FE;\n",
              "      border: none;\n",
              "      border-radius: 50%;\n",
              "      cursor: pointer;\n",
              "      display: none;\n",
              "      fill: #1967D2;\n",
              "      height: 32px;\n",
              "      padding: 0 0 0 0;\n",
              "      width: 32px;\n",
              "    }\n",
              "\n",
              "    .colab-df-convert:hover {\n",
              "      background-color: #E2EBFA;\n",
              "      box-shadow: 0px 1px 2px rgba(60, 64, 67, 0.3), 0px 1px 3px 1px rgba(60, 64, 67, 0.15);\n",
              "      fill: #174EA6;\n",
              "    }\n",
              "\n",
              "    .colab-df-buttons div {\n",
              "      margin-bottom: 4px;\n",
              "    }\n",
              "\n",
              "    [theme=dark] .colab-df-convert {\n",
              "      background-color: #3B4455;\n",
              "      fill: #D2E3FC;\n",
              "    }\n",
              "\n",
              "    [theme=dark] .colab-df-convert:hover {\n",
              "      background-color: #434B5C;\n",
              "      box-shadow: 0px 1px 3px 1px rgba(0, 0, 0, 0.15);\n",
              "      filter: drop-shadow(0px 1px 2px rgba(0, 0, 0, 0.3));\n",
              "      fill: #FFFFFF;\n",
              "    }\n",
              "  </style>\n",
              "\n",
              "    <script>\n",
              "      const buttonEl =\n",
              "        document.querySelector('#df-f82342dc-c2e4-4e4f-90e7-296e9ef0cfd3 button.colab-df-convert');\n",
              "      buttonEl.style.display =\n",
              "        google.colab.kernel.accessAllowed ? 'block' : 'none';\n",
              "\n",
              "      async function convertToInteractive(key) {\n",
              "        const element = document.querySelector('#df-f82342dc-c2e4-4e4f-90e7-296e9ef0cfd3');\n",
              "        const dataTable =\n",
              "          await google.colab.kernel.invokeFunction('convertToInteractive',\n",
              "                                                    [key], {});\n",
              "        if (!dataTable) return;\n",
              "\n",
              "        const docLinkHtml = 'Like what you see? Visit the ' +\n",
              "          '<a target=\"_blank\" href=https://colab.research.google.com/notebooks/data_table.ipynb>data table notebook</a>'\n",
              "          + ' to learn more about interactive tables.';\n",
              "        element.innerHTML = '';\n",
              "        dataTable['output_type'] = 'display_data';\n",
              "        await google.colab.output.renderOutput(dataTable, element);\n",
              "        const docLink = document.createElement('div');\n",
              "        docLink.innerHTML = docLinkHtml;\n",
              "        element.appendChild(docLink);\n",
              "      }\n",
              "    </script>\n",
              "  </div>\n",
              "\n",
              "\n",
              "<div id=\"df-12acb075-004a-4314-b156-216b8ac79272\">\n",
              "  <button class=\"colab-df-quickchart\" onclick=\"quickchart('df-12acb075-004a-4314-b156-216b8ac79272')\"\n",
              "            title=\"Suggest charts.\"\n",
              "            style=\"display:none;\">\n",
              "\n",
              "<svg xmlns=\"http://www.w3.org/2000/svg\" height=\"24px\"viewBox=\"0 0 24 24\"\n",
              "     width=\"24px\">\n",
              "    <g>\n",
              "        <path d=\"M19 3H5c-1.1 0-2 .9-2 2v14c0 1.1.9 2 2 2h14c1.1 0 2-.9 2-2V5c0-1.1-.9-2-2-2zM9 17H7v-7h2v7zm4 0h-2V7h2v10zm4 0h-2v-4h2v4z\"/>\n",
              "    </g>\n",
              "</svg>\n",
              "  </button>\n",
              "\n",
              "<style>\n",
              "  .colab-df-quickchart {\n",
              "    background-color: #E8F0FE;\n",
              "    border: none;\n",
              "    border-radius: 50%;\n",
              "    cursor: pointer;\n",
              "    display: none;\n",
              "    fill: #1967D2;\n",
              "    height: 32px;\n",
              "    padding: 0 0 0 0;\n",
              "    width: 32px;\n",
              "  }\n",
              "\n",
              "  .colab-df-quickchart:hover {\n",
              "    background-color: #E2EBFA;\n",
              "    box-shadow: 0px 1px 2px rgba(60, 64, 67, 0.3), 0px 1px 3px 1px rgba(60, 64, 67, 0.15);\n",
              "    fill: #174EA6;\n",
              "  }\n",
              "\n",
              "  [theme=dark] .colab-df-quickchart {\n",
              "    background-color: #3B4455;\n",
              "    fill: #D2E3FC;\n",
              "  }\n",
              "\n",
              "  [theme=dark] .colab-df-quickchart:hover {\n",
              "    background-color: #434B5C;\n",
              "    box-shadow: 0px 1px 3px 1px rgba(0, 0, 0, 0.15);\n",
              "    filter: drop-shadow(0px 1px 2px rgba(0, 0, 0, 0.3));\n",
              "    fill: #FFFFFF;\n",
              "  }\n",
              "</style>\n",
              "\n",
              "  <script>\n",
              "    async function quickchart(key) {\n",
              "      const charts = await google.colab.kernel.invokeFunction(\n",
              "          'suggestCharts', [key], {});\n",
              "    }\n",
              "    (() => {\n",
              "      let quickchartButtonEl =\n",
              "        document.querySelector('#df-12acb075-004a-4314-b156-216b8ac79272 button');\n",
              "      quickchartButtonEl.style.display =\n",
              "        google.colab.kernel.accessAllowed ? 'block' : 'none';\n",
              "    })();\n",
              "  </script>\n",
              "</div>\n",
              "    </div>\n",
              "  </div>\n"
            ]
          },
          "metadata": {},
          "execution_count": 162
        }
      ]
    },
    {
      "cell_type": "markdown",
      "source": [
        "Gráfica de las variables independientes contra la variable dependiente"
      ],
      "metadata": {
        "id": "m48vOxeaiM8T"
      }
    },
    {
      "cell_type": "code",
      "source": [
        "for i in range(1,15):\n",
        "  plt.scatter(df.iloc[:,i], df.iloc[:,0])\n",
        "  plt.xlabel(df.columns[i])\n",
        "  plt.legend(df.columns[1:])\n",
        "  plt.ylabel('Variables independientes')\n",
        "  plt.title('Gráfica de las variables independientes contra la variable dependiente')\n",
        "  plt.grid()"
      ],
      "metadata": {
        "id": "1SClzhyviQ_t",
        "colab": {
          "base_uri": "https://localhost:8080/",
          "height": 472
        },
        "outputId": "5ba4812d-016f-482c-b9f3-c7a4491a8988"
      },
      "execution_count": null,
      "outputs": [
        {
          "output_type": "display_data",
          "data": {
            "text/plain": [
              "<Figure size 640x480 with 1 Axes>"
            ],
            "image/png": "[encoded data removed]"
          },
          "metadata": {}
        }
      ]
    },
    {
      "cell_type": "markdown",
      "source": [
        "Obtención de los coeficientes de un modelo de regresión lineal por formula directa"
      ],
      "metadata": {
        "id": "U5MGjzixjMPf"
      }
    },
    {
      "cell_type": "code",
      "source": [
        "X = np.column_stack((np.ones(df.iloc[:,1].shape), df.iloc[:,1:]))\n",
        "beta = np.linalg.inv(X.transpose() @ X) @ X.transpose() @ df.VR\n",
        "print(\"Coeficiente de intersección (β0):\", beta[0])\n",
        "for i, coef in enumerate(beta[1:], start=1):\n",
        "    print(f\"Coeficiente de β{i}: {coef}\")"
      ],
      "metadata": {
        "id": "64Rs1yCojYxW",
        "colab": {
          "base_uri": "https://localhost:8080/"
        },
        "outputId": "015f8af7-1866-45d7-94f6-8fca9dbe2eb5"
      },
      "execution_count": null,
      "outputs": [
        {
          "output_type": "stream",
          "name": "stdout",
          "text": [
            "Coeficiente de intersección (β0): -44237.9959749628\n",
            "Coeficiente de β1: 73.05981242170091\n",
            "Coeficiente de β2: 315.4178289287905\n",
            "Coeficiente de β3: 537.3753597314703\n",
            "Coeficiente de β4: 1203.9790787276581\n",
            "Coeficiente de β5: -0.038316006238021304\n",
            "Coeficiente de β6: -0.4375140733040536\n",
            "Coeficiente de β7: -1.2255563390933881\n",
            "Coeficiente de β8: -9.490285720327362\n",
            "Coeficiente de β9: -0.4395355469045994\n",
            "Coeficiente de β10: -0.2577330304780111\n",
            "Coeficiente de β11: -0.26722840274909987\n",
            "Coeficiente de β12: -2.449539340419568\n",
            "Coeficiente de β13: -3.586436949683706\n",
            "Coeficiente de β14: -7.558797621704613\n"
          ]
        }
      ]
    },
    {
      "cell_type": "markdown",
      "source": [
        "Evaluación del modelo con validación cruzada k-folds"
      ],
      "metadata": {
        "id": "IrZaSwrljYSm"
      }
    },
    {
      "cell_type": "code",
      "source": [
        "n_folds = 21\n",
        "kf = KFold(n_splits=n_folds, shuffle = True)\n",
        "\n",
        "mse_cv = []\n",
        "mae_cv = []\n",
        "r2_cv = []\n",
        "\n",
        "x = df.iloc[:,1:].to_numpy()\n",
        "y = df.VR.to_numpy()\n",
        "\n",
        "for train_index, test_index in kf.split(x):\n",
        "\n",
        "    #Fase de entrenamiento\n",
        "    x_train = x[train_index, :]\n",
        "    y_train = y[train_index]\n",
        "\n",
        "    beta_cv = fit_model(x_train, y_train)\n",
        "\n",
        "    # Fase de prueba\n",
        "    x_test = x[test_index, :]\n",
        "    y_test = y[test_index]\n",
        "\n",
        "    y_pred = predict(x_test, beta_cv)\n",
        "\n",
        "    # Calculo de MSE, MAE y R^2\n",
        "    mse_i = mean_squared_error(y_test, y_pred)\n",
        "    mse_cv.append(mse_i)\n",
        "\n",
        "    mae_i = mean_absolute_error(y_test, y_pred)\n",
        "    mae_cv.append(mae_i)\n",
        "\n",
        "    r2_i = r2_score(y_test, y_pred)\n",
        "    r2_cv.append(r2_i)\n",
        "\n",
        "print('MSE:', np.average(mse_cv), '  MAE:', np.average(mae_cv),'  R^2:', np.average(r2_cv))\n"
      ],
      "metadata": {
        "id": "OONX5TKRjewA",
        "colab": {
          "base_uri": "https://localhost:8080/"
        },
        "outputId": "4b8d782e-e7d7-47f1-9d4a-588748af2274"
      },
      "execution_count": null,
      "outputs": [
        {
          "output_type": "stream",
          "name": "stdout",
          "text": [
            "MSE: 226985.69184169688   MAE: 243.63587705588685   R^2: -5.938770765908844\n"
          ]
        }
      ]
    },
    {
      "cell_type": "markdown",
      "source": [
        "Regresión Ridge con descenso de gradiente"
      ],
      "metadata": {
        "id": "DsB1r4x5J6QT"
      }
    },
    {
      "cell_type": "code",
      "source": [
        "dfO = pd.read_csv('/content/crime_data.csv')\n",
        "dfO = dfO.drop(['State'],axis=1)\n",
        "dfO = dfO.drop(['MR'],axis=1)\n",
        "dfO = dfO.drop(['S'],axis=1)\n",
        "dfO.head()"
      ],
      "metadata": {
        "id": "WZz1USi9MzCS",
        "colab": {
          "base_uri": "https://localhost:8080/",
          "height": 206
        },
        "outputId": "aeae6d23-3348-4202-9672-cb5721f3999c"
      },
      "execution_count": null,
      "outputs": [
        {
          "output_type": "execute_result",
          "data": {
            "text/plain": [
              "     VR     M     W     H     P\n",
              "0   761  41.8  75.2  86.6   9.1\n",
              "1   780  67.4  73.5  66.9  17.4\n",
              "2   593  44.7  82.9  66.3  20.0\n",
              "3   715  84.7  88.6  78.7  15.4\n",
              "4  1078  96.7  79.3  76.2  18.2"
            ],
            "text/html": [
              "\n",
              "  <div id=\"df-3c915692-a12d-4910-b019-a1946ef620ac\" class=\"colab-df-container\">\n",
              "    <div>\n",
              "<style scoped>\n",
              "    .dataframe tbody tr th:only-of-type {\n",
              "        vertical-align: middle;\n",
              "    }\n",
              "\n",
              "    .dataframe tbody tr th {\n",
              "        vertical-align: top;\n",
              "    }\n",
              "\n",
              "    .dataframe thead th {\n",
              "        text-align: right;\n",
              "    }\n",
              "</style>\n",
              "<table border=\"1\" class=\"dataframe\">\n",
              "  <thead>\n",
              "    <tr style=\"text-align: right;\">\n",
              "      <th></th>\n",
              "      <th>VR</th>\n",
              "      <th>M</th>\n",
              "      <th>W</th>\n",
              "      <th>H</th>\n",
              "      <th>P</th>\n",
              "    </tr>\n",
              "  </thead>\n",
              "  <tbody>\n",
              "    <tr>\n",
              "      <th>0</th>\n",
              "      <td>761</td>\n",
              "      <td>41.8</td>\n",
              "      <td>75.2</td>\n",
              "      <td>86.6</td>\n",
              "      <td>9.1</td>\n",
              "    </tr>\n",
              "    <tr>\n",
              "      <th>1</th>\n",
              "      <td>780</td>\n",
              "      <td>67.4</td>\n",
              "      <td>73.5</td>\n",
              "      <td>66.9</td>\n",
              "      <td>17.4</td>\n",
              "    </tr>\n",
              "    <tr>\n",
              "      <th>2</th>\n",
              "      <td>593</td>\n",
              "      <td>44.7</td>\n",
              "      <td>82.9</td>\n",
              "      <td>66.3</td>\n",
              "      <td>20.0</td>\n",
              "    </tr>\n",
              "    <tr>\n",
              "      <th>3</th>\n",
              "      <td>715</td>\n",
              "      <td>84.7</td>\n",
              "      <td>88.6</td>\n",
              "      <td>78.7</td>\n",
              "      <td>15.4</td>\n",
              "    </tr>\n",
              "    <tr>\n",
              "      <th>4</th>\n",
              "      <td>1078</td>\n",
              "      <td>96.7</td>\n",
              "      <td>79.3</td>\n",
              "      <td>76.2</td>\n",
              "      <td>18.2</td>\n",
              "    </tr>\n",
              "  </tbody>\n",
              "</table>\n",
              "</div>\n",
              "    <div class=\"colab-df-buttons\">\n",
              "\n",
              "  <div class=\"colab-df-container\">\n",
              "    <button class=\"colab-df-convert\" onclick=\"convertToInteractive('df-3c915692-a12d-4910-b019-a1946ef620ac')\"\n",
              "            title=\"Convert this dataframe to an interactive table.\"\n",
              "            style=\"display:none;\">\n",
              "\n",
              "  <svg xmlns=\"http://www.w3.org/2000/svg\" height=\"24px\" viewBox=\"0 -960 960 960\">\n",
              "    <path d=\"M120-120v-720h720v720H120Zm60-500h600v-160H180v160Zm220 220h160v-160H400v160Zm0 220h160v-160H400v160ZM180-400h160v-160H180v160Zm440 0h160v-160H620v160ZM180-180h160v-160H180v160Zm440 0h160v-160H620v160Z\"/>\n",
              "  </svg>\n",
              "    </button>\n",
              "\n",
              "  <style>\n",
              "    .colab-df-container {\n",
              "      display:flex;\n",
              "      gap: 12px;\n",
              "    }\n",
              "\n",
              "    .colab-df-convert {\n",
              "      background-color: #E8F0FE;\n",
              "      border: none;\n",
              "      border-radius: 50%;\n",
              "      cursor: pointer;\n",
              "      display: none;\n",
              "      fill: #1967D2;\n",
              "      height: 32px;\n",
              "      padding: 0 0 0 0;\n",
              "      width: 32px;\n",
              "    }\n",
              "\n",
              "    .colab-df-convert:hover {\n",
              "      background-color: #E2EBFA;\n",
              "      box-shadow: 0px 1px 2px rgba(60, 64, 67, 0.3), 0px 1px 3px 1px rgba(60, 64, 67, 0.15);\n",
              "      fill: #174EA6;\n",
              "    }\n",
              "\n",
              "    .colab-df-buttons div {\n",
              "      margin-bottom: 4px;\n",
              "    }\n",
              "\n",
              "    [theme=dark] .colab-df-convert {\n",
              "      background-color: #3B4455;\n",
              "      fill: #D2E3FC;\n",
              "    }\n",
              "\n",
              "    [theme=dark] .colab-df-convert:hover {\n",
              "      background-color: #434B5C;\n",
              "      box-shadow: 0px 1px 3px 1px rgba(0, 0, 0, 0.15);\n",
              "      filter: drop-shadow(0px 1px 2px rgba(0, 0, 0, 0.3));\n",
              "      fill: #FFFFFF;\n",
              "    }\n",
              "  </style>\n",
              "\n",
              "    <script>\n",
              "      const buttonEl =\n",
              "        document.querySelector('#df-3c915692-a12d-4910-b019-a1946ef620ac button.colab-df-convert');\n",
              "      buttonEl.style.display =\n",
              "        google.colab.kernel.accessAllowed ? 'block' : 'none';\n",
              "\n",
              "      async function convertToInteractive(key) {\n",
              "        const element = document.querySelector('#df-3c915692-a12d-4910-b019-a1946ef620ac');\n",
              "        const dataTable =\n",
              "          await google.colab.kernel.invokeFunction('convertToInteractive',\n",
              "                                                    [key], {});\n",
              "        if (!dataTable) return;\n",
              "\n",
              "        const docLinkHtml = 'Like what you see? Visit the ' +\n",
              "          '<a target=\"_blank\" href=https://colab.research.google.com/notebooks/data_table.ipynb>data table notebook</a>'\n",
              "          + ' to learn more about interactive tables.';\n",
              "        element.innerHTML = '';\n",
              "        dataTable['output_type'] = 'display_data';\n",
              "        await google.colab.output.renderOutput(dataTable, element);\n",
              "        const docLink = document.createElement('div');\n",
              "        docLink.innerHTML = docLinkHtml;\n",
              "        element.appendChild(docLink);\n",
              "      }\n",
              "    </script>\n",
              "  </div>\n",
              "\n",
              "\n",
              "<div id=\"df-81c9847a-8a0c-4a1f-b668-5e1cce759b78\">\n",
              "  <button class=\"colab-df-quickchart\" onclick=\"quickchart('df-81c9847a-8a0c-4a1f-b668-5e1cce759b78')\"\n",
              "            title=\"Suggest charts.\"\n",
              "            style=\"display:none;\">\n",
              "\n",
              "<svg xmlns=\"http://www.w3.org/2000/svg\" height=\"24px\"viewBox=\"0 0 24 24\"\n",
              "     width=\"24px\">\n",
              "    <g>\n",
              "        <path d=\"M19 3H5c-1.1 0-2 .9-2 2v14c0 1.1.9 2 2 2h14c1.1 0 2-.9 2-2V5c0-1.1-.9-2-2-2zM9 17H7v-7h2v7zm4 0h-2V7h2v10zm4 0h-2v-4h2v4z\"/>\n",
              "    </g>\n",
              "</svg>\n",
              "  </button>\n",
              "\n",
              "<style>\n",
              "  .colab-df-quickchart {\n",
              "    background-color: #E8F0FE;\n",
              "    border: none;\n",
              "    border-radius: 50%;\n",
              "    cursor: pointer;\n",
              "    display: none;\n",
              "    fill: #1967D2;\n",
              "    height: 32px;\n",
              "    padding: 0 0 0 0;\n",
              "    width: 32px;\n",
              "  }\n",
              "\n",
              "  .colab-df-quickchart:hover {\n",
              "    background-color: #E2EBFA;\n",
              "    box-shadow: 0px 1px 2px rgba(60, 64, 67, 0.3), 0px 1px 3px 1px rgba(60, 64, 67, 0.15);\n",
              "    fill: #174EA6;\n",
              "  }\n",
              "\n",
              "  [theme=dark] .colab-df-quickchart {\n",
              "    background-color: #3B4455;\n",
              "    fill: #D2E3FC;\n",
              "  }\n",
              "\n",
              "  [theme=dark] .colab-df-quickchart:hover {\n",
              "    background-color: #434B5C;\n",
              "    box-shadow: 0px 1px 3px 1px rgba(0, 0, 0, 0.15);\n",
              "    filter: drop-shadow(0px 1px 2px rgba(0, 0, 0, 0.3));\n",
              "    fill: #FFFFFF;\n",
              "  }\n",
              "</style>\n",
              "\n",
              "  <script>\n",
              "    async function quickchart(key) {\n",
              "      const charts = await google.colab.kernel.invokeFunction(\n",
              "          'suggestCharts', [key], {});\n",
              "    }\n",
              "    (() => {\n",
              "      let quickchartButtonEl =\n",
              "        document.querySelector('#df-81c9847a-8a0c-4a1f-b668-5e1cce759b78 button');\n",
              "      quickchartButtonEl.style.display =\n",
              "        google.colab.kernel.accessAllowed ? 'block' : 'none';\n",
              "    })();\n",
              "  </script>\n",
              "</div>\n",
              "    </div>\n",
              "  </div>\n"
            ]
          },
          "metadata": {},
          "execution_count": 166
        }
      ]
    },
    {
      "cell_type": "markdown",
      "source": [
        "Parametros para Ridge y Lasso"
      ],
      "metadata": {
        "id": "O64_T4vuXcEu"
      }
    },
    {
      "cell_type": "code",
      "source": [
        "x = dfO.iloc[:,1:]\n",
        "y = dfO.VR\n",
        "X_train, X_test, y_train, y_test = train_test_split(x, y, train_size = 0.5, random_state = 1234,shuffle= True)"
      ],
      "metadata": {
        "id": "3gFE0De0aSaG"
      },
      "execution_count": null,
      "outputs": []
    },
    {
      "cell_type": "markdown",
      "source": [
        "Ridge"
      ],
      "metadata": {
        "id": "qIrXYB_6C9Av"
      }
    },
    {
      "cell_type": "code",
      "source": [
        "X = x.copy()\n",
        "X.insert(loc=0, column='O', value=np.ones(df.iloc[:,1].shape))\n",
        "y = df.VR\n",
        "X = x.to_numpy()\n",
        "y = y.to_numpy()"
      ],
      "metadata": {
        "id": "PCeFogFUsy27"
      },
      "execution_count": null,
      "outputs": []
    },
    {
      "cell_type": "code",
      "source": [
        "coefs_R = []\n",
        "alphas_R = np.logspace(-10, -6, 50)\n",
        "\n",
        "#Ajuste del modelo Ridge\n",
        "for alpha in alphas_R:\n",
        "    beta = fit_model_Ridge(X, y, alpha=alpha)\n",
        "    coefs_R.append(beta)"
      ],
      "metadata": {
        "id": "gqyah3ANbAM9"
      },
      "execution_count": null,
      "outputs": []
    },
    {
      "cell_type": "code",
      "source": [
        "fig, ax = plt.subplots(figsize=(7, 3.84))\n",
        "ax.plot(alphas_R, coefs_R[::-1])\n",
        "ax.legend(x.columns)\n",
        "ax.set_xscale('log')\n",
        "ax.set_xlabel('alpha')\n",
        "ax.set_ylabel('coeficientes')\n",
        "ax.grid()\n",
        "ax.set_title('Coeficientes del modelo en función de la regularización');\n",
        "plt.axis('tight')\n",
        "plt.show()"
      ],
      "metadata": {
        "colab": {
          "base_uri": "https://localhost:8080/",
          "height": 403
        },
        "id": "tFBfFSllh0lJ",
        "outputId": "be50c136-6b3a-4a43-ad09-bc9810d6c920"
      },
      "execution_count": null,
      "outputs": [
        {
          "output_type": "display_data",
          "data": {
            "text/plain": [
              "<Figure size 700x384 with 1 Axes>"
            ],
            "image/png": "[encoded data removed]"
          },
          "metadata": {}
        }
      ]
    },
    {
      "cell_type": "markdown",
      "source": [
        "Ridge con libreria sklearn"
      ],
      "metadata": {
        "id": "UkmEwT9zpL2q"
      }
    },
    {
      "cell_type": "code",
      "source": [
        "#Ridge por sklearn\n",
        "from sklearn.linear_model import RidgeCV, Ridge\n",
        "\n",
        "alphas = np.logspace(-1, 8, 200)\n",
        "coefs = []\n",
        "\n",
        "for alpha in alphas:\n",
        "    modelo_temp = Ridge(alpha=alpha, fit_intercept=False)\n",
        "    modelo_temp.fit(x, y)\n",
        "    coefs.append(modelo_temp.coef_.flatten())\n",
        "\n",
        "fig, ax = plt.subplots(figsize=(7, 3.84))\n",
        "ax.plot(alphas, coefs)\n",
        "ax.set_xscale('log')\n",
        "ax.set_xlabel('alpha')\n",
        "ax.set_ylabel('coeficientes')\n",
        "ax.set_title('Coeficientes del modelo en función de la regularización');\n",
        "plt.axis('tight')\n",
        "plt.show()"
      ],
      "metadata": {
        "id": "qO0fILvqd8s5",
        "colab": {
          "base_uri": "https://localhost:8080/",
          "height": 403
        },
        "outputId": "5ec029d3-8796-43fa-a739-84db1d5ce6c6"
      },
      "execution_count": null,
      "outputs": [
        {
          "output_type": "display_data",
          "data": {
            "text/plain": [
              "<Figure size 700x384 with 1 Axes>"
            ],
            "image/png": "[encoded data removed]"
          },
          "metadata": {}
        }
      ]
    },
    {
      "cell_type": "markdown",
      "source": [
        "Lasso"
      ],
      "metadata": {
        "id": "9oqmGGp3gPxn"
      }
    },
    {
      "cell_type": "code",
      "source": [
        "modelo = LassoCV(alphas= np.logspace(-1,5,200),cv= 10)\n",
        "_ = modelo.fit(X = x, y = y)\n",
        "\n",
        "alphas = modelo.alphas_\n",
        "coefs = []\n",
        "\n",
        "for alpha in alphas:\n",
        "    modelo_temp = Lasso(alpha=alpha, fit_intercept=False)\n",
        "    modelo_temp.fit(X_train, y_train)\n",
        "    coefs.append(modelo_temp.coef_.flatten())\n",
        "\n",
        "fig, ax = plt.subplots(figsize=(7, 3.84))\n",
        "ax.plot(alphas, coefs)\n",
        "ax.grid()\n",
        "ax.set_xscale('log')\n",
        "ax.set_ylim([-15,None])\n",
        "ax.legend(x.columns)\n",
        "ax.set_xlabel('alpha')\n",
        "ax.set_ylabel('coeficientes')\n",
        "ax.set_title('Coeficientes del modelo en función de la regularización');"
      ],
      "metadata": {
        "id": "86whH4jya61n",
        "colab": {
          "base_uri": "https://localhost:8080/",
          "height": 403
        },
        "outputId": "74c7bee2-76ae-4291-96fe-3ce96c62583b"
      },
      "execution_count": null,
      "outputs": [
        {
          "output_type": "display_data",
          "data": {
            "text/plain": [
              "<Figure size 700x384 with 1 Axes>"
            ],
            "image/png": "[encoded data removed]"
          },
          "metadata": {}
        }
      ]
    },
    {
      "cell_type": "code",
      "source": [
        "dfO[dfO.VR>1000]"
      ],
      "metadata": {
        "colab": {
          "base_uri": "https://localhost:8080/",
          "height": 237
        },
        "id": "gAHqnkDxTsf4",
        "outputId": "bb7ae5dc-cb7c-49dc-d667-1b920c19621d"
      },
      "execution_count": null,
      "outputs": [
        {
          "output_type": "execute_result",
          "data": {
            "text/plain": [
              "      VR      M     W     H     P\n",
              "4   1078   96.7  79.3  76.2  18.2\n",
              "8   1206   93.0  83.5  74.4  17.8\n",
              "17  1062   75.0  66.7  68.3  26.4\n",
              "33  1074   91.7  77.2  74.8  16.4\n",
              "39  1023   69.8  68.6  68.3  18.7\n",
              "50  2922  100.0  31.8  73.1  26.4"
            ],
            "text/html": [
              "\n",
              "  <div id=\"df-f11af305-e4e5-48fd-8e75-627c6339384d\" class=\"colab-df-container\">\n",
              "    <div>\n",
              "<style scoped>\n",
              "    .dataframe tbody tr th:only-of-type {\n",
              "        vertical-align: middle;\n",
              "    }\n",
              "\n",
              "    .dataframe tbody tr th {\n",
              "        vertical-align: top;\n",
              "    }\n",
              "\n",
              "    .dataframe thead th {\n",
              "        text-align: right;\n",
              "    }\n",
              "</style>\n",
              "<table border=\"1\" class=\"dataframe\">\n",
              "  <thead>\n",
              "    <tr style=\"text-align: right;\">\n",
              "      <th></th>\n",
              "      <th>VR</th>\n",
              "      <th>M</th>\n",
              "      <th>W</th>\n",
              "      <th>H</th>\n",
              "      <th>P</th>\n",
              "    </tr>\n",
              "  </thead>\n",
              "  <tbody>\n",
              "    <tr>\n",
              "      <th>4</th>\n",
              "      <td>1078</td>\n",
              "      <td>96.7</td>\n",
              "      <td>79.3</td>\n",
              "      <td>76.2</td>\n",
              "      <td>18.2</td>\n",
              "    </tr>\n",
              "    <tr>\n",
              "      <th>8</th>\n",
              "      <td>1206</td>\n",
              "      <td>93.0</td>\n",
              "      <td>83.5</td>\n",
              "      <td>74.4</td>\n",
              "      <td>17.8</td>\n",
              "    </tr>\n",
              "    <tr>\n",
              "      <th>17</th>\n",
              "      <td>1062</td>\n",
              "      <td>75.0</td>\n",
              "      <td>66.7</td>\n",
              "      <td>68.3</td>\n",
              "      <td>26.4</td>\n",
              "    </tr>\n",
              "    <tr>\n",
              "      <th>33</th>\n",
              "      <td>1074</td>\n",
              "      <td>91.7</td>\n",
              "      <td>77.2</td>\n",
              "      <td>74.8</td>\n",
              "      <td>16.4</td>\n",
              "    </tr>\n",
              "    <tr>\n",
              "      <th>39</th>\n",
              "      <td>1023</td>\n",
              "      <td>69.8</td>\n",
              "      <td>68.6</td>\n",
              "      <td>68.3</td>\n",
              "      <td>18.7</td>\n",
              "    </tr>\n",
              "    <tr>\n",
              "      <th>50</th>\n",
              "      <td>2922</td>\n",
              "      <td>100.0</td>\n",
              "      <td>31.8</td>\n",
              "      <td>73.1</td>\n",
              "      <td>26.4</td>\n",
              "    </tr>\n",
              "  </tbody>\n",
              "</table>\n",
              "</div>\n",
              "    <div class=\"colab-df-buttons\">\n",
              "\n",
              "  <div class=\"colab-df-container\">\n",
              "    <button class=\"colab-df-convert\" onclick=\"convertToInteractive('df-f11af305-e4e5-48fd-8e75-627c6339384d')\"\n",
              "            title=\"Convert this dataframe to an interactive table.\"\n",
              "            style=\"display:none;\">\n",
              "\n",
              "  <svg xmlns=\"http://www.w3.org/2000/svg\" height=\"24px\" viewBox=\"0 -960 960 960\">\n",
              "    <path d=\"M120-120v-720h720v720H120Zm60-500h600v-160H180v160Zm220 220h160v-160H400v160Zm0 220h160v-160H400v160ZM180-400h160v-160H180v160Zm440 0h160v-160H620v160ZM180-180h160v-160H180v160Zm440 0h160v-160H620v160Z\"/>\n",
              "  </svg>\n",
              "    </button>\n",
              "\n",
              "  <style>\n",
              "    .colab-df-container {\n",
              "      display:flex;\n",
              "      gap: 12px;\n",
              "    }\n",
              "\n",
              "    .colab-df-convert {\n",
              "      background-color: #E8F0FE;\n",
              "      border: none;\n",
              "      border-radius: 50%;\n",
              "      cursor: pointer;\n",
              "      display: none;\n",
              "      fill: #1967D2;\n",
              "      height: 32px;\n",
              "      padding: 0 0 0 0;\n",
              "      width: 32px;\n",
              "    }\n",
              "\n",
              "    .colab-df-convert:hover {\n",
              "      background-color: #E2EBFA;\n",
              "      box-shadow: 0px 1px 2px rgba(60, 64, 67, 0.3), 0px 1px 3px 1px rgba(60, 64, 67, 0.15);\n",
              "      fill: #174EA6;\n",
              "    }\n",
              "\n",
              "    .colab-df-buttons div {\n",
              "      margin-bottom: 4px;\n",
              "    }\n",
              "\n",
              "    [theme=dark] .colab-df-convert {\n",
              "      background-color: #3B4455;\n",
              "      fill: #D2E3FC;\n",
              "    }\n",
              "\n",
              "    [theme=dark] .colab-df-convert:hover {\n",
              "      background-color: #434B5C;\n",
              "      box-shadow: 0px 1px 3px 1px rgba(0, 0, 0, 0.15);\n",
              "      filter: drop-shadow(0px 1px 2px rgba(0, 0, 0, 0.3));\n",
              "      fill: #FFFFFF;\n",
              "    }\n",
              "  </style>\n",
              "\n",
              "    <script>\n",
              "      const buttonEl =\n",
              "        document.querySelector('#df-f11af305-e4e5-48fd-8e75-627c6339384d button.colab-df-convert');\n",
              "      buttonEl.style.display =\n",
              "        google.colab.kernel.accessAllowed ? 'block' : 'none';\n",
              "\n",
              "      async function convertToInteractive(key) {\n",
              "        const element = document.querySelector('#df-f11af305-e4e5-48fd-8e75-627c6339384d');\n",
              "        const dataTable =\n",
              "          await google.colab.kernel.invokeFunction('convertToInteractive',\n",
              "                                                    [key], {});\n",
              "        if (!dataTable) return;\n",
              "\n",
              "        const docLinkHtml = 'Like what you see? Visit the ' +\n",
              "          '<a target=\"_blank\" href=https://colab.research.google.com/notebooks/data_table.ipynb>data table notebook</a>'\n",
              "          + ' to learn more about interactive tables.';\n",
              "        element.innerHTML = '';\n",
              "        dataTable['output_type'] = 'display_data';\n",
              "        await google.colab.output.renderOutput(dataTable, element);\n",
              "        const docLink = document.createElement('div');\n",
              "        docLink.innerHTML = docLinkHtml;\n",
              "        element.appendChild(docLink);\n",
              "      }\n",
              "    </script>\n",
              "  </div>\n",
              "\n",
              "\n",
              "<div id=\"df-350f8d9c-39bf-468f-85bd-9a94fa6b5be2\">\n",
              "  <button class=\"colab-df-quickchart\" onclick=\"quickchart('df-350f8d9c-39bf-468f-85bd-9a94fa6b5be2')\"\n",
              "            title=\"Suggest charts.\"\n",
              "            style=\"display:none;\">\n",
              "\n",
              "<svg xmlns=\"http://www.w3.org/2000/svg\" height=\"24px\"viewBox=\"0 0 24 24\"\n",
              "     width=\"24px\">\n",
              "    <g>\n",
              "        <path d=\"M19 3H5c-1.1 0-2 .9-2 2v14c0 1.1.9 2 2 2h14c1.1 0 2-.9 2-2V5c0-1.1-.9-2-2-2zM9 17H7v-7h2v7zm4 0h-2V7h2v10zm4 0h-2v-4h2v4z\"/>\n",
              "    </g>\n",
              "</svg>\n",
              "  </button>\n",
              "\n",
              "<style>\n",
              "  .colab-df-quickchart {\n",
              "    background-color: #E8F0FE;\n",
              "    border: none;\n",
              "    border-radius: 50%;\n",
              "    cursor: pointer;\n",
              "    display: none;\n",
              "    fill: #1967D2;\n",
              "    height: 32px;\n",
              "    padding: 0 0 0 0;\n",
              "    width: 32px;\n",
              "  }\n",
              "\n",
              "  .colab-df-quickchart:hover {\n",
              "    background-color: #E2EBFA;\n",
              "    box-shadow: 0px 1px 2px rgba(60, 64, 67, 0.3), 0px 1px 3px 1px rgba(60, 64, 67, 0.15);\n",
              "    fill: #174EA6;\n",
              "  }\n",
              "\n",
              "  [theme=dark] .colab-df-quickchart {\n",
              "    background-color: #3B4455;\n",
              "    fill: #D2E3FC;\n",
              "  }\n",
              "\n",
              "  [theme=dark] .colab-df-quickchart:hover {\n",
              "    background-color: #434B5C;\n",
              "    box-shadow: 0px 1px 3px 1px rgba(0, 0, 0, 0.15);\n",
              "    filter: drop-shadow(0px 1px 2px rgba(0, 0, 0, 0.3));\n",
              "    fill: #FFFFFF;\n",
              "  }\n",
              "</style>\n",
              "\n",
              "  <script>\n",
              "    async function quickchart(key) {\n",
              "      const charts = await google.colab.kernel.invokeFunction(\n",
              "          'suggestCharts', [key], {});\n",
              "    }\n",
              "    (() => {\n",
              "      let quickchartButtonEl =\n",
              "        document.querySelector('#df-350f8d9c-39bf-468f-85bd-9a94fa6b5be2 button');\n",
              "      quickchartButtonEl.style.display =\n",
              "        google.colab.kernel.accessAllowed ? 'block' : 'none';\n",
              "    })();\n",
              "  </script>\n",
              "</div>\n",
              "    </div>\n",
              "  </div>\n"
            ]
          },
          "metadata": {},
          "execution_count": 173
        }
      ]
    },
    {
      "cell_type": "code",
      "source": [
        "dfO[dfO.VR<250]"
      ],
      "metadata": {
        "colab": {
          "base_uri": "https://localhost:8080/",
          "height": 269
        },
        "id": "UbLFlR7rWC5I",
        "outputId": "f3c46256-24c1-4fbe-c7c3-8c6a2e8ceb88"
      },
      "execution_count": null,
      "outputs": [
        {
          "output_type": "execute_result",
          "data": {
            "text/plain": [
              "     VR     M     W     H     P\n",
              "20  126  35.7  98.5  78.8  10.7\n",
              "25  178  24.0  92.6  81.0  14.9\n",
              "27   82  41.6  94.2  76.7  11.2\n",
              "29  138  59.4  98.0  82.2   9.9\n",
              "40  208  32.6  90.2  77.1  14.2\n",
              "45  114  27.0  98.4  80.8  10.0\n",
              "48  208  41.8  96.3  66.0  22.2"
            ],
            "text/html": [
              "\n",
              "  <div id=\"df-ccb46aae-d0a4-4a84-923b-1d3b4ca99fe9\" class=\"colab-df-container\">\n",
              "    <div>\n",
              "<style scoped>\n",
              "    .dataframe tbody tr th:only-of-type {\n",
              "        vertical-align: middle;\n",
              "    }\n",
              "\n",
              "    .dataframe tbody tr th {\n",
              "        vertical-align: top;\n",
              "    }\n",
              "\n",
              "    .dataframe thead th {\n",
              "        text-align: right;\n",
              "    }\n",
              "</style>\n",
              "<table border=\"1\" class=\"dataframe\">\n",
              "  <thead>\n",
              "    <tr style=\"text-align: right;\">\n",
              "      <th></th>\n",
              "      <th>VR</th>\n",
              "      <th>M</th>\n",
              "      <th>W</th>\n",
              "      <th>H</th>\n",
              "      <th>P</th>\n",
              "    </tr>\n",
              "  </thead>\n",
              "  <tbody>\n",
              "    <tr>\n",
              "      <th>20</th>\n",
              "      <td>126</td>\n",
              "      <td>35.7</td>\n",
              "      <td>98.5</td>\n",
              "      <td>78.8</td>\n",
              "      <td>10.7</td>\n",
              "    </tr>\n",
              "    <tr>\n",
              "      <th>25</th>\n",
              "      <td>178</td>\n",
              "      <td>24.0</td>\n",
              "      <td>92.6</td>\n",
              "      <td>81.0</td>\n",
              "      <td>14.9</td>\n",
              "    </tr>\n",
              "    <tr>\n",
              "      <th>27</th>\n",
              "      <td>82</td>\n",
              "      <td>41.6</td>\n",
              "      <td>94.2</td>\n",
              "      <td>76.7</td>\n",
              "      <td>11.2</td>\n",
              "    </tr>\n",
              "    <tr>\n",
              "      <th>29</th>\n",
              "      <td>138</td>\n",
              "      <td>59.4</td>\n",
              "      <td>98.0</td>\n",
              "      <td>82.2</td>\n",
              "      <td>9.9</td>\n",
              "    </tr>\n",
              "    <tr>\n",
              "      <th>40</th>\n",
              "      <td>208</td>\n",
              "      <td>32.6</td>\n",
              "      <td>90.2</td>\n",
              "      <td>77.1</td>\n",
              "      <td>14.2</td>\n",
              "    </tr>\n",
              "    <tr>\n",
              "      <th>45</th>\n",
              "      <td>114</td>\n",
              "      <td>27.0</td>\n",
              "      <td>98.4</td>\n",
              "      <td>80.8</td>\n",
              "      <td>10.0</td>\n",
              "    </tr>\n",
              "    <tr>\n",
              "      <th>48</th>\n",
              "      <td>208</td>\n",
              "      <td>41.8</td>\n",
              "      <td>96.3</td>\n",
              "      <td>66.0</td>\n",
              "      <td>22.2</td>\n",
              "    </tr>\n",
              "  </tbody>\n",
              "</table>\n",
              "</div>\n",
              "    <div class=\"colab-df-buttons\">\n",
              "\n",
              "  <div class=\"colab-df-container\">\n",
              "    <button class=\"colab-df-convert\" onclick=\"convertToInteractive('df-ccb46aae-d0a4-4a84-923b-1d3b4ca99fe9')\"\n",
              "            title=\"Convert this dataframe to an interactive table.\"\n",
              "            style=\"display:none;\">\n",
              "\n",
              "  <svg xmlns=\"http://www.w3.org/2000/svg\" height=\"24px\" viewBox=\"0 -960 960 960\">\n",
              "    <path d=\"M120-120v-720h720v720H120Zm60-500h600v-160H180v160Zm220 220h160v-160H400v160Zm0 220h160v-160H400v160ZM180-400h160v-160H180v160Zm440 0h160v-160H620v160ZM180-180h160v-160H180v160Zm440 0h160v-160H620v160Z\"/>\n",
              "  </svg>\n",
              "    </button>\n",
              "\n",
              "  <style>\n",
              "    .colab-df-container {\n",
              "      display:flex;\n",
              "      gap: 12px;\n",
              "    }\n",
              "\n",
              "    .colab-df-convert {\n",
              "      background-color: #E8F0FE;\n",
              "      border: none;\n",
              "      border-radius: 50%;\n",
              "      cursor: pointer;\n",
              "      display: none;\n",
              "      fill: #1967D2;\n",
              "      height: 32px;\n",
              "      padding: 0 0 0 0;\n",
              "      width: 32px;\n",
              "    }\n",
              "\n",
              "    .colab-df-convert:hover {\n",
              "      background-color: #E2EBFA;\n",
              "      box-shadow: 0px 1px 2px rgba(60, 64, 67, 0.3), 0px 1px 3px 1px rgba(60, 64, 67, 0.15);\n",
              "      fill: #174EA6;\n",
              "    }\n",
              "\n",
              "    .colab-df-buttons div {\n",
              "      margin-bottom: 4px;\n",
              "    }\n",
              "\n",
              "    [theme=dark] .colab-df-convert {\n",
              "      background-color: #3B4455;\n",
              "      fill: #D2E3FC;\n",
              "    }\n",
              "\n",
              "    [theme=dark] .colab-df-convert:hover {\n",
              "      background-color: #434B5C;\n",
              "      box-shadow: 0px 1px 3px 1px rgba(0, 0, 0, 0.15);\n",
              "      filter: drop-shadow(0px 1px 2px rgba(0, 0, 0, 0.3));\n",
              "      fill: #FFFFFF;\n",
              "    }\n",
              "  </style>\n",
              "\n",
              "    <script>\n",
              "      const buttonEl =\n",
              "        document.querySelector('#df-ccb46aae-d0a4-4a84-923b-1d3b4ca99fe9 button.colab-df-convert');\n",
              "      buttonEl.style.display =\n",
              "        google.colab.kernel.accessAllowed ? 'block' : 'none';\n",
              "\n",
              "      async function convertToInteractive(key) {\n",
              "        const element = document.querySelector('#df-ccb46aae-d0a4-4a84-923b-1d3b4ca99fe9');\n",
              "        const dataTable =\n",
              "          await google.colab.kernel.invokeFunction('convertToInteractive',\n",
              "                                                    [key], {});\n",
              "        if (!dataTable) return;\n",
              "\n",
              "        const docLinkHtml = 'Like what you see? Visit the ' +\n",
              "          '<a target=\"_blank\" href=https://colab.research.google.com/notebooks/data_table.ipynb>data table notebook</a>'\n",
              "          + ' to learn more about interactive tables.';\n",
              "        element.innerHTML = '';\n",
              "        dataTable['output_type'] = 'display_data';\n",
              "        await google.colab.output.renderOutput(dataTable, element);\n",
              "        const docLink = document.createElement('div');\n",
              "        docLink.innerHTML = docLinkHtml;\n",
              "        element.appendChild(docLink);\n",
              "      }\n",
              "    </script>\n",
              "  </div>\n",
              "\n",
              "\n",
              "<div id=\"df-692bb78f-ed50-4694-9419-2205310923ba\">\n",
              "  <button class=\"colab-df-quickchart\" onclick=\"quickchart('df-692bb78f-ed50-4694-9419-2205310923ba')\"\n",
              "            title=\"Suggest charts.\"\n",
              "            style=\"display:none;\">\n",
              "\n",
              "<svg xmlns=\"http://www.w3.org/2000/svg\" height=\"24px\"viewBox=\"0 0 24 24\"\n",
              "     width=\"24px\">\n",
              "    <g>\n",
              "        <path d=\"M19 3H5c-1.1 0-2 .9-2 2v14c0 1.1.9 2 2 2h14c1.1 0 2-.9 2-2V5c0-1.1-.9-2-2-2zM9 17H7v-7h2v7zm4 0h-2V7h2v10zm4 0h-2v-4h2v4z\"/>\n",
              "    </g>\n",
              "</svg>\n",
              "  </button>\n",
              "\n",
              "<style>\n",
              "  .colab-df-quickchart {\n",
              "    background-color: #E8F0FE;\n",
              "    border: none;\n",
              "    border-radius: 50%;\n",
              "    cursor: pointer;\n",
              "    display: none;\n",
              "    fill: #1967D2;\n",
              "    height: 32px;\n",
              "    padding: 0 0 0 0;\n",
              "    width: 32px;\n",
              "  }\n",
              "\n",
              "  .colab-df-quickchart:hover {\n",
              "    background-color: #E2EBFA;\n",
              "    box-shadow: 0px 1px 2px rgba(60, 64, 67, 0.3), 0px 1px 3px 1px rgba(60, 64, 67, 0.15);\n",
              "    fill: #174EA6;\n",
              "  }\n",
              "\n",
              "  [theme=dark] .colab-df-quickchart {\n",
              "    background-color: #3B4455;\n",
              "    fill: #D2E3FC;\n",
              "  }\n",
              "\n",
              "  [theme=dark] .colab-df-quickchart:hover {\n",
              "    background-color: #434B5C;\n",
              "    box-shadow: 0px 1px 3px 1px rgba(0, 0, 0, 0.15);\n",
              "    filter: drop-shadow(0px 1px 2px rgba(0, 0, 0, 0.3));\n",
              "    fill: #FFFFFF;\n",
              "  }\n",
              "</style>\n",
              "\n",
              "  <script>\n",
              "    async function quickchart(key) {\n",
              "      const charts = await google.colab.kernel.invokeFunction(\n",
              "          'suggestCharts', [key], {});\n",
              "    }\n",
              "    (() => {\n",
              "      let quickchartButtonEl =\n",
              "        document.querySelector('#df-692bb78f-ed50-4694-9419-2205310923ba button');\n",
              "      quickchartButtonEl.style.display =\n",
              "        google.colab.kernel.accessAllowed ? 'block' : 'none';\n",
              "    })();\n",
              "  </script>\n",
              "</div>\n",
              "    </div>\n",
              "  </div>\n"
            ]
          },
          "metadata": {},
          "execution_count": 174
        }
      ]
    },
    {
      "cell_type": "markdown",
      "source": [
        "Viendo los resultados de regresión, desarrolla los siguientes puntos:\n",
        "1.  ¿Consideras que el modelo de regresión lineal es efectivo para modelar los datos del problema? ¿Por qué?\n",
        "\n",
        "**Creo que un modelo de regresión lineal podria funcionar pero tendria mucho error, esto debido a que al momento de obtener el valor del coeficiente de determinación $r^2$ por el metodo de validación cruzada, tiene un valor negativo cuando se calcula, aparte analizando los errores cuadraticos medio y absoluto se puede observar que estos se encuentran por encima de las triples cifras.**\n",
        "\n",
        "2.  ¿Observas una variabilidad importante en los valores de R2, MSE y MAE cuando aplicas validación cruzada?\n",
        "\n",
        "**Si, cuando se analiza el valor de $r^2$ con el modelo de entrenamiento nos da un valor positivo de 0.7, mientras que cuando se obtiene por el metodo de validación cruzada, el valor da siempre en los negativos variando normalmente desde -5 hasta -0.4**\n",
        "\n",
        "3.  ¿Qué modelo es mejor para los datos de criminalidad, el lineal o el cuadrático? ¿Por qué?\n",
        "\n",
        "**Creo que para estos datos es mejor una lineal, esto debido a que cuando se analizan la gráfica de disperción original se puede ver como la mayoria de las variables independientes tienden a seguir una recta, solo que los datos cuentan con mucha dispersión**\n",
        "\n",
        "\n",
        "4.  ¿Qué variables son más relevantes para el modelo según Ride y Lasso?\n",
        "\n",
        "**En ambos gráficos se puede observar que el valor del porcentaje de gente blanca (W) empieza siendo un valor negativo, representando que esta característica está contribuyendo negativamente a la predicción del modelo bajo el nivel de regularización específico, por lo tanto se puede asumir que las variables mas relevantes son el porcentaje de áreas metropolitanas (M), porcentaje de personas con preparatoria terminada (H) y porcentaje con ingresos por debajo del nivel de pobreza (P)**\n",
        "\n",
        "5.  ¿Encuentras alguna relación interesante entre la variable de respuesta y los predictores?\n",
        "\n",
        "**Analizando los valores del dataframe, se puede visualizar dos relaciones interesantes:**\n",
        "\n",
        "1. **Los niveles de $VR$ son más elevados cuando el nivel de $M$ son altos.**\n",
        "2. **Los niveles de $W$ son inversos a los valores de $VR$.**\n",
        "\n",
        "**El segundo me hace confirmar lo establecido en la pregunta anterior, la variable $W$ no aporta mucho al modelo**"
      ],
      "metadata": {
        "id": "XDHUfL4dtXm_"
      }
    },
    {
      "cell_type": "markdown",
      "source": [
        "<h2>Parte 2"
      ],
      "metadata": {
        "id": "QyWkf3A9kK6P"
      }
    },
    {
      "cell_type": "markdown",
      "source": [
        "El conjunto de datos de esperanzas de vida (Life Expectancy (WHO)) tiene el registro de la esperanza de vida de 193 países medida en diferentes años, junto con otras variables que se pueden relacionar con riesgos a la salud y la mortalidad.\n",
        "\n",
        "* X1 - Adult mortality\n",
        "*X2 - Infant deaths\n",
        "*X3 - Alcohol\n",
        "*X4 - Percentage expenditure\n",
        "*X5 - Hepatitis B\n",
        "*X6 - Measles\n",
        "*X7 - BMI\n",
        "*X8 - Under-five deaths\n",
        "*X9 - Polio\n",
        "*X10 - Total expenditure\n",
        "*X11 - Diphtheria\n",
        "*X12 - HIV/AIDS   \n",
        "*X13 - GDP\n",
        "*X14 - Population\n",
        "*X15 - Thinness  1-19 years\n",
        "*X16 - Thinness 5-9 years\n",
        "*X17 - Income composition of resources\n",
        "*X18 - Schooling"
      ],
      "metadata": {
        "id": "OPoL-MrDTz1h"
      }
    },
    {
      "cell_type": "code",
      "source": [
        "df = pd.read_csv('/content/life_expectancy_data.csv')"
      ],
      "metadata": {
        "id": "H4CyllW2AqWL"
      },
      "execution_count": null,
      "outputs": []
    },
    {
      "cell_type": "code",
      "source": [
        "df.head()"
      ],
      "metadata": {
        "colab": {
          "base_uri": "https://localhost:8080/",
          "height": 307
        },
        "id": "2j9hkxWVCxQj",
        "outputId": "096f5986-749b-4c33-9e4e-aad4738ab959"
      },
      "execution_count": null,
      "outputs": [
        {
          "output_type": "execute_result",
          "data": {
            "text/plain": [
              "       Country  Year      Status  Life expectancy   Adult Mortality  \\\n",
              "0  Afghanistan  2015  Developing              65.0            263.0   \n",
              "1  Afghanistan  2014  Developing              59.9            271.0   \n",
              "2  Afghanistan  2013  Developing              59.9            268.0   \n",
              "3  Afghanistan  2012  Developing              59.5            272.0   \n",
              "4  Afghanistan  2011  Developing              59.2            275.0   \n",
              "\n",
              "   infant deaths  Alcohol  percentage expenditure  Hepatitis B  Measles   ...  \\\n",
              "0             62     0.01               71.279624         65.0      1154  ...   \n",
              "1             64     0.01               73.523582         62.0       492  ...   \n",
              "2             66     0.01               73.219243         64.0       430  ...   \n",
              "3             69     0.01               78.184215         67.0      2787  ...   \n",
              "4             71     0.01                7.097109         68.0      3013  ...   \n",
              "\n",
              "   Polio  Total expenditure  Diphtheria    HIV/AIDS         GDP  Population  \\\n",
              "0    6.0               8.16         65.0        0.1  584.259210  33736494.0   \n",
              "1   58.0               8.18         62.0        0.1  612.696514    327582.0   \n",
              "2   62.0               8.13         64.0        0.1  631.744976  31731688.0   \n",
              "3   67.0               8.52         67.0        0.1  669.959000   3696958.0   \n",
              "4   68.0               7.87         68.0        0.1   63.537231   2978599.0   \n",
              "\n",
              "    thinness  1-19 years   thinness 5-9 years  \\\n",
              "0                   17.2                 17.3   \n",
              "1                   17.5                 17.5   \n",
              "2                   17.7                 17.7   \n",
              "3                   17.9                 18.0   \n",
              "4                   18.2                 18.2   \n",
              "\n",
              "   Income composition of resources  Schooling  \n",
              "0                            0.479       10.1  \n",
              "1                            0.476       10.0  \n",
              "2                            0.470        9.9  \n",
              "3                            0.463        9.8  \n",
              "4                            0.454        9.5  \n",
              "\n",
              "[5 rows x 22 columns]"
            ],
            "text/html": [
              "\n",
              "  <div id=\"df-3a0cd1da-4f69-4f6a-aa17-27bfdb9690fb\" class=\"colab-df-container\">\n",
              "    <div>\n",
              "<style scoped>\n",
              "    .dataframe tbody tr th:only-of-type {\n",
              "        vertical-align: middle;\n",
              "    }\n",
              "\n",
              "    .dataframe tbody tr th {\n",
              "        vertical-align: top;\n",
              "    }\n",
              "\n",
              "    .dataframe thead th {\n",
              "        text-align: right;\n",
              "    }\n",
              "</style>\n",
              "<table border=\"1\" class=\"dataframe\">\n",
              "  <thead>\n",
              "    <tr style=\"text-align: right;\">\n",
              "      <th></th>\n",
              "      <th>Country</th>\n",
              "      <th>Year</th>\n",
              "      <th>Status</th>\n",
              "      <th>Life expectancy</th>\n",
              "      <th>Adult Mortality</th>\n",
              "      <th>infant deaths</th>\n",
              "      <th>Alcohol</th>\n",
              "      <th>percentage expenditure</th>\n",
              "      <th>Hepatitis B</th>\n",
              "      <th>Measles</th>\n",
              "      <th>...</th>\n",
              "      <th>Polio</th>\n",
              "      <th>Total expenditure</th>\n",
              "      <th>Diphtheria</th>\n",
              "      <th>HIV/AIDS</th>\n",
              "      <th>GDP</th>\n",
              "      <th>Population</th>\n",
              "      <th>thinness  1-19 years</th>\n",
              "      <th>thinness 5-9 years</th>\n",
              "      <th>Income composition of resources</th>\n",
              "      <th>Schooling</th>\n",
              "    </tr>\n",
              "  </thead>\n",
              "  <tbody>\n",
              "    <tr>\n",
              "      <th>0</th>\n",
              "      <td>Afghanistan</td>\n",
              "      <td>2015</td>\n",
              "      <td>Developing</td>\n",
              "      <td>65.0</td>\n",
              "      <td>263.0</td>\n",
              "      <td>62</td>\n",
              "      <td>0.01</td>\n",
              "      <td>71.279624</td>\n",
              "      <td>65.0</td>\n",
              "      <td>1154</td>\n",
              "      <td>...</td>\n",
              "      <td>6.0</td>\n",
              "      <td>8.16</td>\n",
              "      <td>65.0</td>\n",
              "      <td>0.1</td>\n",
              "      <td>584.259210</td>\n",
              "      <td>33736494.0</td>\n",
              "      <td>17.2</td>\n",
              "      <td>17.3</td>\n",
              "      <td>0.479</td>\n",
              "      <td>10.1</td>\n",
              "    </tr>\n",
              "    <tr>\n",
              "      <th>1</th>\n",
              "      <td>Afghanistan</td>\n",
              "      <td>2014</td>\n",
              "      <td>Developing</td>\n",
              "      <td>59.9</td>\n",
              "      <td>271.0</td>\n",
              "      <td>64</td>\n",
              "      <td>0.01</td>\n",
              "      <td>73.523582</td>\n",
              "      <td>62.0</td>\n",
              "      <td>492</td>\n",
              "      <td>...</td>\n",
              "      <td>58.0</td>\n",
              "      <td>8.18</td>\n",
              "      <td>62.0</td>\n",
              "      <td>0.1</td>\n",
              "      <td>612.696514</td>\n",
              "      <td>327582.0</td>\n",
              "      <td>17.5</td>\n",
              "      <td>17.5</td>\n",
              "      <td>0.476</td>\n",
              "      <td>10.0</td>\n",
              "    </tr>\n",
              "    <tr>\n",
              "      <th>2</th>\n",
              "      <td>Afghanistan</td>\n",
              "      <td>2013</td>\n",
              "      <td>Developing</td>\n",
              "      <td>59.9</td>\n",
              "      <td>268.0</td>\n",
              "      <td>66</td>\n",
              "      <td>0.01</td>\n",
              "      <td>73.219243</td>\n",
              "      <td>64.0</td>\n",
              "      <td>430</td>\n",
              "      <td>...</td>\n",
              "      <td>62.0</td>\n",
              "      <td>8.13</td>\n",
              "      <td>64.0</td>\n",
              "      <td>0.1</td>\n",
              "      <td>631.744976</td>\n",
              "      <td>31731688.0</td>\n",
              "      <td>17.7</td>\n",
              "      <td>17.7</td>\n",
              "      <td>0.470</td>\n",
              "      <td>9.9</td>\n",
              "    </tr>\n",
              "    <tr>\n",
              "      <th>3</th>\n",
              "      <td>Afghanistan</td>\n",
              "      <td>2012</td>\n",
              "      <td>Developing</td>\n",
              "      <td>59.5</td>\n",
              "      <td>272.0</td>\n",
              "      <td>69</td>\n",
              "      <td>0.01</td>\n",
              "      <td>78.184215</td>\n",
              "      <td>67.0</td>\n",
              "      <td>2787</td>\n",
              "      <td>...</td>\n",
              "      <td>67.0</td>\n",
              "      <td>8.52</td>\n",
              "      <td>67.0</td>\n",
              "      <td>0.1</td>\n",
              "      <td>669.959000</td>\n",
              "      <td>3696958.0</td>\n",
              "      <td>17.9</td>\n",
              "      <td>18.0</td>\n",
              "      <td>0.463</td>\n",
              "      <td>9.8</td>\n",
              "    </tr>\n",
              "    <tr>\n",
              "      <th>4</th>\n",
              "      <td>Afghanistan</td>\n",
              "      <td>2011</td>\n",
              "      <td>Developing</td>\n",
              "      <td>59.2</td>\n",
              "      <td>275.0</td>\n",
              "      <td>71</td>\n",
              "      <td>0.01</td>\n",
              "      <td>7.097109</td>\n",
              "      <td>68.0</td>\n",
              "      <td>3013</td>\n",
              "      <td>...</td>\n",
              "      <td>68.0</td>\n",
              "      <td>7.87</td>\n",
              "      <td>68.0</td>\n",
              "      <td>0.1</td>\n",
              "      <td>63.537231</td>\n",
              "      <td>2978599.0</td>\n",
              "      <td>18.2</td>\n",
              "      <td>18.2</td>\n",
              "      <td>0.454</td>\n",
              "      <td>9.5</td>\n",
              "    </tr>\n",
              "  </tbody>\n",
              "</table>\n",
              "<p>5 rows × 22 columns</p>\n",
              "</div>\n",
              "    <div class=\"colab-df-buttons\">\n",
              "\n",
              "  <div class=\"colab-df-container\">\n",
              "    <button class=\"colab-df-convert\" onclick=\"convertToInteractive('df-3a0cd1da-4f69-4f6a-aa17-27bfdb9690fb')\"\n",
              "            title=\"Convert this dataframe to an interactive table.\"\n",
              "            style=\"display:none;\">\n",
              "\n",
              "  <svg xmlns=\"http://www.w3.org/2000/svg\" height=\"24px\" viewBox=\"0 -960 960 960\">\n",
              "    <path d=\"M120-120v-720h720v720H120Zm60-500h600v-160H180v160Zm220 220h160v-160H400v160Zm0 220h160v-160H400v160ZM180-400h160v-160H180v160Zm440 0h160v-160H620v160ZM180-180h160v-160H180v160Zm440 0h160v-160H620v160Z\"/>\n",
              "  </svg>\n",
              "    </button>\n",
              "\n",
              "  <style>\n",
              "    .colab-df-container {\n",
              "      display:flex;\n",
              "      gap: 12px;\n",
              "    }\n",
              "\n",
              "    .colab-df-convert {\n",
              "      background-color: #E8F0FE;\n",
              "      border: none;\n",
              "      border-radius: 50%;\n",
              "      cursor: pointer;\n",
              "      display: none;\n",
              "      fill: #1967D2;\n",
              "      height: 32px;\n",
              "      padding: 0 0 0 0;\n",
              "      width: 32px;\n",
              "    }\n",
              "\n",
              "    .colab-df-convert:hover {\n",
              "      background-color: #E2EBFA;\n",
              "      box-shadow: 0px 1px 2px rgba(60, 64, 67, 0.3), 0px 1px 3px 1px rgba(60, 64, 67, 0.15);\n",
              "      fill: #174EA6;\n",
              "    }\n",
              "\n",
              "    .colab-df-buttons div {\n",
              "      margin-bottom: 4px;\n",
              "    }\n",
              "\n",
              "    [theme=dark] .colab-df-convert {\n",
              "      background-color: #3B4455;\n",
              "      fill: #D2E3FC;\n",
              "    }\n",
              "\n",
              "    [theme=dark] .colab-df-convert:hover {\n",
              "      background-color: #434B5C;\n",
              "      box-shadow: 0px 1px 3px 1px rgba(0, 0, 0, 0.15);\n",
              "      filter: drop-shadow(0px 1px 2px rgba(0, 0, 0, 0.3));\n",
              "      fill: #FFFFFF;\n",
              "    }\n",
              "  </style>\n",
              "\n",
              "    <script>\n",
              "      const buttonEl =\n",
              "        document.querySelector('#df-3a0cd1da-4f69-4f6a-aa17-27bfdb9690fb button.colab-df-convert');\n",
              "      buttonEl.style.display =\n",
              "        google.colab.kernel.accessAllowed ? 'block' : 'none';\n",
              "\n",
              "      async function convertToInteractive(key) {\n",
              "        const element = document.querySelector('#df-3a0cd1da-4f69-4f6a-aa17-27bfdb9690fb');\n",
              "        const dataTable =\n",
              "          await google.colab.kernel.invokeFunction('convertToInteractive',\n",
              "                                                    [key], {});\n",
              "        if (!dataTable) return;\n",
              "\n",
              "        const docLinkHtml = 'Like what you see? Visit the ' +\n",
              "          '<a target=\"_blank\" href=https://colab.research.google.com/notebooks/data_table.ipynb>data table notebook</a>'\n",
              "          + ' to learn more about interactive tables.';\n",
              "        element.innerHTML = '';\n",
              "        dataTable['output_type'] = 'display_data';\n",
              "        await google.colab.output.renderOutput(dataTable, element);\n",
              "        const docLink = document.createElement('div');\n",
              "        docLink.innerHTML = docLinkHtml;\n",
              "        element.appendChild(docLink);\n",
              "      }\n",
              "    </script>\n",
              "  </div>\n",
              "\n",
              "\n",
              "<div id=\"df-4b7d1a54-976a-4bdc-90d5-c419ae6a0f7a\">\n",
              "  <button class=\"colab-df-quickchart\" onclick=\"quickchart('df-4b7d1a54-976a-4bdc-90d5-c419ae6a0f7a')\"\n",
              "            title=\"Suggest charts.\"\n",
              "            style=\"display:none;\">\n",
              "\n",
              "<svg xmlns=\"http://www.w3.org/2000/svg\" height=\"24px\"viewBox=\"0 0 24 24\"\n",
              "     width=\"24px\">\n",
              "    <g>\n",
              "        <path d=\"M19 3H5c-1.1 0-2 .9-2 2v14c0 1.1.9 2 2 2h14c1.1 0 2-.9 2-2V5c0-1.1-.9-2-2-2zM9 17H7v-7h2v7zm4 0h-2V7h2v10zm4 0h-2v-4h2v4z\"/>\n",
              "    </g>\n",
              "</svg>\n",
              "  </button>\n",
              "\n",
              "<style>\n",
              "  .colab-df-quickchart {\n",
              "    background-color: #E8F0FE;\n",
              "    border: none;\n",
              "    border-radius: 50%;\n",
              "    cursor: pointer;\n",
              "    display: none;\n",
              "    fill: #1967D2;\n",
              "    height: 32px;\n",
              "    padding: 0 0 0 0;\n",
              "    width: 32px;\n",
              "  }\n",
              "\n",
              "  .colab-df-quickchart:hover {\n",
              "    background-color: #E2EBFA;\n",
              "    box-shadow: 0px 1px 2px rgba(60, 64, 67, 0.3), 0px 1px 3px 1px rgba(60, 64, 67, 0.15);\n",
              "    fill: #174EA6;\n",
              "  }\n",
              "\n",
              "  [theme=dark] .colab-df-quickchart {\n",
              "    background-color: #3B4455;\n",
              "    fill: #D2E3FC;\n",
              "  }\n",
              "\n",
              "  [theme=dark] .colab-df-quickchart:hover {\n",
              "    background-color: #434B5C;\n",
              "    box-shadow: 0px 1px 3px 1px rgba(0, 0, 0, 0.15);\n",
              "    filter: drop-shadow(0px 1px 2px rgba(0, 0, 0, 0.3));\n",
              "    fill: #FFFFFF;\n",
              "  }\n",
              "</style>\n",
              "\n",
              "  <script>\n",
              "    async function quickchart(key) {\n",
              "      const charts = await google.colab.kernel.invokeFunction(\n",
              "          'suggestCharts', [key], {});\n",
              "    }\n",
              "    (() => {\n",
              "      let quickchartButtonEl =\n",
              "        document.querySelector('#df-4b7d1a54-976a-4bdc-90d5-c419ae6a0f7a button');\n",
              "      quickchartButtonEl.style.display =\n",
              "        google.colab.kernel.accessAllowed ? 'block' : 'none';\n",
              "    })();\n",
              "  </script>\n",
              "</div>\n",
              "    </div>\n",
              "  </div>\n"
            ]
          },
          "metadata": {},
          "execution_count": 176
        }
      ]
    },
    {
      "cell_type": "code",
      "source": [
        "df = df.drop(['Hepatitis B'],axis = 1)\n",
        "df = df.drop(['Polio'],axis = 1)\n",
        "df = df.drop(['GDP'],axis = 1)\n",
        "df = df.drop(['Income composition of resources'],axis = 1)"
      ],
      "metadata": {
        "id": "REIosTaLE-Sc"
      },
      "execution_count": null,
      "outputs": []
    },
    {
      "cell_type": "code",
      "source": [
        "df = df.rename(columns={' BMI ': \"BMI\", \" HIV/AIDS\": \"HIV/AIDS\",\"Life expectancy \":\"Life_expectancy\",\" thinness  1-19 years\":\"thinness_1_19_years\",\" thinness 5-9 years\":\"thinness_5_9_years\",\"Adult Mortality\":\"Adult_Mortality\",\"infant deaths\":\"infant_deaths\",\"percentage expenditure\":\"percentage_expenditure\",\"under-five deaths \":\"under_five_deaths\",\"Total expenditure\":\"Total_expenditure\"})"
      ],
      "metadata": {
        "id": "9G7Qir0Kghtw"
      },
      "execution_count": null,
      "outputs": []
    },
    {
      "cell_type": "code",
      "source": [
        "df.describe()"
      ],
      "metadata": {
        "colab": {
          "base_uri": "https://localhost:8080/",
          "height": 320
        },
        "id": "C23G_RB2MBQ5",
        "outputId": "c4d324f9-1764-434f-966f-b52e4a07e033"
      },
      "execution_count": null,
      "outputs": [
        {
          "output_type": "execute_result",
          "data": {
            "text/plain": [
              "              Year  Life_expectancy  Adult_Mortality  infant_deaths  \\\n",
              "count  2938.000000      2928.000000      2928.000000    2938.000000   \n",
              "mean   2007.518720        69.224932       164.796448      30.303948   \n",
              "std       4.613841         9.523867       124.292079     117.926501   \n",
              "min    2000.000000        36.300000         1.000000       0.000000   \n",
              "25%    2004.000000        63.100000        74.000000       0.000000   \n",
              "50%    2008.000000        72.100000       144.000000       3.000000   \n",
              "75%    2012.000000        75.700000       228.000000      22.000000   \n",
              "max    2015.000000        89.000000       723.000000    1800.000000   \n",
              "\n",
              "           Alcohol  percentage_expenditure       Measles           BMI  \\\n",
              "count  2744.000000             2938.000000    2938.000000  2904.000000   \n",
              "mean      4.602861              738.251295    2419.592240    38.321247   \n",
              "std       4.052413             1987.914858   11467.272489    20.044034   \n",
              "min       0.010000                0.000000       0.000000     1.000000   \n",
              "25%       0.877500                4.685343       0.000000    19.300000   \n",
              "50%       3.755000               64.912906      17.000000    43.500000   \n",
              "75%       7.702500              441.534144     360.250000    56.200000   \n",
              "max      17.870000            19479.911610  212183.000000    87.300000   \n",
              "\n",
              "       under_five_deaths  Total_expenditure  Diphtheria      HIV/AIDS  \\\n",
              "count        2938.000000         2712.00000  2919.000000  2938.000000   \n",
              "mean           42.035739            5.93819    82.324084     1.742103   \n",
              "std           160.445548            2.49832    23.716912     5.077785   \n",
              "min             0.000000            0.37000     2.000000     0.100000   \n",
              "25%             0.000000            4.26000    78.000000     0.100000   \n",
              "50%             4.000000            5.75500    93.000000     0.100000   \n",
              "75%            28.000000            7.49250    97.000000     0.800000   \n",
              "max          2500.000000           17.60000    99.000000    50.600000   \n",
              "\n",
              "         Population  thinness_1_19_years  thinness_5_9_years    Schooling  \n",
              "count  2.286000e+03          2904.000000         2904.000000  2775.000000  \n",
              "mean   1.275338e+07             4.839704            4.870317    11.992793  \n",
              "std    6.101210e+07             4.420195            4.508882     3.358920  \n",
              "min    3.400000e+01             0.100000            0.100000     0.000000  \n",
              "25%    1.957932e+05             1.600000            1.500000    10.100000  \n",
              "50%    1.386542e+06             3.300000            3.300000    12.300000  \n",
              "75%    7.420359e+06             7.200000            7.200000    14.300000  \n",
              "max    1.293859e+09            27.700000           28.600000    20.700000  "
            ],
            "text/html": [
              "\n",
              "  <div id=\"df-62e5fa93-0938-4a82-8272-2c77b3741e88\" class=\"colab-df-container\">\n",
              "    <div>\n",
              "<style scoped>\n",
              "    .dataframe tbody tr th:only-of-type {\n",
              "        vertical-align: middle;\n",
              "    }\n",
              "\n",
              "    .dataframe tbody tr th {\n",
              "        vertical-align: top;\n",
              "    }\n",
              "\n",
              "    .dataframe thead th {\n",
              "        text-align: right;\n",
              "    }\n",
              "</style>\n",
              "<table border=\"1\" class=\"dataframe\">\n",
              "  <thead>\n",
              "    <tr style=\"text-align: right;\">\n",
              "      <th></th>\n",
              "      <th>Year</th>\n",
              "      <th>Life_expectancy</th>\n",
              "      <th>Adult_Mortality</th>\n",
              "      <th>infant_deaths</th>\n",
              "      <th>Alcohol</th>\n",
              "      <th>percentage_expenditure</th>\n",
              "      <th>Measles</th>\n",
              "      <th>BMI</th>\n",
              "      <th>under_five_deaths</th>\n",
              "      <th>Total_expenditure</th>\n",
              "      <th>Diphtheria</th>\n",
              "      <th>HIV/AIDS</th>\n",
              "      <th>Population</th>\n",
              "      <th>thinness_1_19_years</th>\n",
              "      <th>thinness_5_9_years</th>\n",
              "      <th>Schooling</th>\n",
              "    </tr>\n",
              "  </thead>\n",
              "  <tbody>\n",
              "    <tr>\n",
              "      <th>count</th>\n",
              "      <td>2938.000000</td>\n",
              "      <td>2928.000000</td>\n",
              "      <td>2928.000000</td>\n",
              "      <td>2938.000000</td>\n",
              "      <td>2744.000000</td>\n",
              "      <td>2938.000000</td>\n",
              "      <td>2938.000000</td>\n",
              "      <td>2904.000000</td>\n",
              "      <td>2938.000000</td>\n",
              "      <td>2712.00000</td>\n",
              "      <td>2919.000000</td>\n",
              "      <td>2938.000000</td>\n",
              "      <td>2.286000e+03</td>\n",
              "      <td>2904.000000</td>\n",
              "      <td>2904.000000</td>\n",
              "      <td>2775.000000</td>\n",
              "    </tr>\n",
              "    <tr>\n",
              "      <th>mean</th>\n",
              "      <td>2007.518720</td>\n",
              "      <td>69.224932</td>\n",
              "      <td>164.796448</td>\n",
              "      <td>30.303948</td>\n",
              "      <td>4.602861</td>\n",
              "      <td>738.251295</td>\n",
              "      <td>2419.592240</td>\n",
              "      <td>38.321247</td>\n",
              "      <td>42.035739</td>\n",
              "      <td>5.93819</td>\n",
              "      <td>82.324084</td>\n",
              "      <td>1.742103</td>\n",
              "      <td>1.275338e+07</td>\n",
              "      <td>4.839704</td>\n",
              "      <td>4.870317</td>\n",
              "      <td>11.992793</td>\n",
              "    </tr>\n",
              "    <tr>\n",
              "      <th>std</th>\n",
              "      <td>4.613841</td>\n",
              "      <td>9.523867</td>\n",
              "      <td>124.292079</td>\n",
              "      <td>117.926501</td>\n",
              "      <td>4.052413</td>\n",
              "      <td>1987.914858</td>\n",
              "      <td>11467.272489</td>\n",
              "      <td>20.044034</td>\n",
              "      <td>160.445548</td>\n",
              "      <td>2.49832</td>\n",
              "      <td>23.716912</td>\n",
              "      <td>5.077785</td>\n",
              "      <td>6.101210e+07</td>\n",
              "      <td>4.420195</td>\n",
              "      <td>4.508882</td>\n",
              "      <td>3.358920</td>\n",
              "    </tr>\n",
              "    <tr>\n",
              "      <th>min</th>\n",
              "      <td>2000.000000</td>\n",
              "      <td>36.300000</td>\n",
              "      <td>1.000000</td>\n",
              "      <td>0.000000</td>\n",
              "      <td>0.010000</td>\n",
              "      <td>0.000000</td>\n",
              "      <td>0.000000</td>\n",
              "      <td>1.000000</td>\n",
              "      <td>0.000000</td>\n",
              "      <td>0.37000</td>\n",
              "      <td>2.000000</td>\n",
              "      <td>0.100000</td>\n",
              "      <td>3.400000e+01</td>\n",
              "      <td>0.100000</td>\n",
              "      <td>0.100000</td>\n",
              "      <td>0.000000</td>\n",
              "    </tr>\n",
              "    <tr>\n",
              "      <th>25%</th>\n",
              "      <td>2004.000000</td>\n",
              "      <td>63.100000</td>\n",
              "      <td>74.000000</td>\n",
              "      <td>0.000000</td>\n",
              "      <td>0.877500</td>\n",
              "      <td>4.685343</td>\n",
              "      <td>0.000000</td>\n",
              "      <td>19.300000</td>\n",
              "      <td>0.000000</td>\n",
              "      <td>4.26000</td>\n",
              "      <td>78.000000</td>\n",
              "      <td>0.100000</td>\n",
              "      <td>1.957932e+05</td>\n",
              "      <td>1.600000</td>\n",
              "      <td>1.500000</td>\n",
              "      <td>10.100000</td>\n",
              "    </tr>\n",
              "    <tr>\n",
              "      <th>50%</th>\n",
              "      <td>2008.000000</td>\n",
              "      <td>72.100000</td>\n",
              "      <td>144.000000</td>\n",
              "      <td>3.000000</td>\n",
              "      <td>3.755000</td>\n",
              "      <td>64.912906</td>\n",
              "      <td>17.000000</td>\n",
              "      <td>43.500000</td>\n",
              "      <td>4.000000</td>\n",
              "      <td>5.75500</td>\n",
              "      <td>93.000000</td>\n",
              "      <td>0.100000</td>\n",
              "      <td>1.386542e+06</td>\n",
              "      <td>3.300000</td>\n",
              "      <td>3.300000</td>\n",
              "      <td>12.300000</td>\n",
              "    </tr>\n",
              "    <tr>\n",
              "      <th>75%</th>\n",
              "      <td>2012.000000</td>\n",
              "      <td>75.700000</td>\n",
              "      <td>228.000000</td>\n",
              "      <td>22.000000</td>\n",
              "      <td>7.702500</td>\n",
              "      <td>441.534144</td>\n",
              "      <td>360.250000</td>\n",
              "      <td>56.200000</td>\n",
              "      <td>28.000000</td>\n",
              "      <td>7.49250</td>\n",
              "      <td>97.000000</td>\n",
              "      <td>0.800000</td>\n",
              "      <td>7.420359e+06</td>\n",
              "      <td>7.200000</td>\n",
              "      <td>7.200000</td>\n",
              "      <td>14.300000</td>\n",
              "    </tr>\n",
              "    <tr>\n",
              "      <th>max</th>\n",
              "      <td>2015.000000</td>\n",
              "      <td>89.000000</td>\n",
              "      <td>723.000000</td>\n",
              "      <td>1800.000000</td>\n",
              "      <td>17.870000</td>\n",
              "      <td>19479.911610</td>\n",
              "      <td>212183.000000</td>\n",
              "      <td>87.300000</td>\n",
              "      <td>2500.000000</td>\n",
              "      <td>17.60000</td>\n",
              "      <td>99.000000</td>\n",
              "      <td>50.600000</td>\n",
              "      <td>1.293859e+09</td>\n",
              "      <td>27.700000</td>\n",
              "      <td>28.600000</td>\n",
              "      <td>20.700000</td>\n",
              "    </tr>\n",
              "  </tbody>\n",
              "</table>\n",
              "</div>\n",
              "    <div class=\"colab-df-buttons\">\n",
              "\n",
              "  <div class=\"colab-df-container\">\n",
              "    <button class=\"colab-df-convert\" onclick=\"convertToInteractive('df-62e5fa93-0938-4a82-8272-2c77b3741e88')\"\n",
              "            title=\"Convert this dataframe to an interactive table.\"\n",
              "            style=\"display:none;\">\n",
              "\n",
              "  <svg xmlns=\"http://www.w3.org/2000/svg\" height=\"24px\" viewBox=\"0 -960 960 960\">\n",
              "    <path d=\"M120-120v-720h720v720H120Zm60-500h600v-160H180v160Zm220 220h160v-160H400v160Zm0 220h160v-160H400v160ZM180-400h160v-160H180v160Zm440 0h160v-160H620v160ZM180-180h160v-160H180v160Zm440 0h160v-160H620v160Z\"/>\n",
              "  </svg>\n",
              "    </button>\n",
              "\n",
              "  <style>\n",
              "    .colab-df-container {\n",
              "      display:flex;\n",
              "      gap: 12px;\n",
              "    }\n",
              "\n",
              "    .colab-df-convert {\n",
              "      background-color: #E8F0FE;\n",
              "      border: none;\n",
              "      border-radius: 50%;\n",
              "      cursor: pointer;\n",
              "      display: none;\n",
              "      fill: #1967D2;\n",
              "      height: 32px;\n",
              "      padding: 0 0 0 0;\n",
              "      width: 32px;\n",
              "    }\n",
              "\n",
              "    .colab-df-convert:hover {\n",
              "      background-color: #E2EBFA;\n",
              "      box-shadow: 0px 1px 2px rgba(60, 64, 67, 0.3), 0px 1px 3px 1px rgba(60, 64, 67, 0.15);\n",
              "      fill: #174EA6;\n",
              "    }\n",
              "\n",
              "    .colab-df-buttons div {\n",
              "      margin-bottom: 4px;\n",
              "    }\n",
              "\n",
              "    [theme=dark] .colab-df-convert {\n",
              "      background-color: #3B4455;\n",
              "      fill: #D2E3FC;\n",
              "    }\n",
              "\n",
              "    [theme=dark] .colab-df-convert:hover {\n",
              "      background-color: #434B5C;\n",
              "      box-shadow: 0px 1px 3px 1px rgba(0, 0, 0, 0.15);\n",
              "      filter: drop-shadow(0px 1px 2px rgba(0, 0, 0, 0.3));\n",
              "      fill: #FFFFFF;\n",
              "    }\n",
              "  </style>\n",
              "\n",
              "    <script>\n",
              "      const buttonEl =\n",
              "        document.querySelector('#df-62e5fa93-0938-4a82-8272-2c77b3741e88 button.colab-df-convert');\n",
              "      buttonEl.style.display =\n",
              "        google.colab.kernel.accessAllowed ? 'block' : 'none';\n",
              "\n",
              "      async function convertToInteractive(key) {\n",
              "        const element = document.querySelector('#df-62e5fa93-0938-4a82-8272-2c77b3741e88');\n",
              "        const dataTable =\n",
              "          await google.colab.kernel.invokeFunction('convertToInteractive',\n",
              "                                                    [key], {});\n",
              "        if (!dataTable) return;\n",
              "\n",
              "        const docLinkHtml = 'Like what you see? Visit the ' +\n",
              "          '<a target=\"_blank\" href=https://colab.research.google.com/notebooks/data_table.ipynb>data table notebook</a>'\n",
              "          + ' to learn more about interactive tables.';\n",
              "        element.innerHTML = '';\n",
              "        dataTable['output_type'] = 'display_data';\n",
              "        await google.colab.output.renderOutput(dataTable, element);\n",
              "        const docLink = document.createElement('div');\n",
              "        docLink.innerHTML = docLinkHtml;\n",
              "        element.appendChild(docLink);\n",
              "      }\n",
              "    </script>\n",
              "  </div>\n",
              "\n",
              "\n",
              "<div id=\"df-c35afac7-8b86-4c97-9151-6b1da309dd56\">\n",
              "  <button class=\"colab-df-quickchart\" onclick=\"quickchart('df-c35afac7-8b86-4c97-9151-6b1da309dd56')\"\n",
              "            title=\"Suggest charts.\"\n",
              "            style=\"display:none;\">\n",
              "\n",
              "<svg xmlns=\"http://www.w3.org/2000/svg\" height=\"24px\"viewBox=\"0 0 24 24\"\n",
              "     width=\"24px\">\n",
              "    <g>\n",
              "        <path d=\"M19 3H5c-1.1 0-2 .9-2 2v14c0 1.1.9 2 2 2h14c1.1 0 2-.9 2-2V5c0-1.1-.9-2-2-2zM9 17H7v-7h2v7zm4 0h-2V7h2v10zm4 0h-2v-4h2v4z\"/>\n",
              "    </g>\n",
              "</svg>\n",
              "  </button>\n",
              "\n",
              "<style>\n",
              "  .colab-df-quickchart {\n",
              "    background-color: #E8F0FE;\n",
              "    border: none;\n",
              "    border-radius: 50%;\n",
              "    cursor: pointer;\n",
              "    display: none;\n",
              "    fill: #1967D2;\n",
              "    height: 32px;\n",
              "    padding: 0 0 0 0;\n",
              "    width: 32px;\n",
              "  }\n",
              "\n",
              "  .colab-df-quickchart:hover {\n",
              "    background-color: #E2EBFA;\n",
              "    box-shadow: 0px 1px 2px rgba(60, 64, 67, 0.3), 0px 1px 3px 1px rgba(60, 64, 67, 0.15);\n",
              "    fill: #174EA6;\n",
              "  }\n",
              "\n",
              "  [theme=dark] .colab-df-quickchart {\n",
              "    background-color: #3B4455;\n",
              "    fill: #D2E3FC;\n",
              "  }\n",
              "\n",
              "  [theme=dark] .colab-df-quickchart:hover {\n",
              "    background-color: #434B5C;\n",
              "    box-shadow: 0px 1px 3px 1px rgba(0, 0, 0, 0.15);\n",
              "    filter: drop-shadow(0px 1px 2px rgba(0, 0, 0, 0.3));\n",
              "    fill: #FFFFFF;\n",
              "  }\n",
              "</style>\n",
              "\n",
              "  <script>\n",
              "    async function quickchart(key) {\n",
              "      const charts = await google.colab.kernel.invokeFunction(\n",
              "          'suggestCharts', [key], {});\n",
              "    }\n",
              "    (() => {\n",
              "      let quickchartButtonEl =\n",
              "        document.querySelector('#df-c35afac7-8b86-4c97-9151-6b1da309dd56 button');\n",
              "      quickchartButtonEl.style.display =\n",
              "        google.colab.kernel.accessAllowed ? 'block' : 'none';\n",
              "    })();\n",
              "  </script>\n",
              "</div>\n",
              "    </div>\n",
              "  </div>\n"
            ]
          },
          "metadata": {},
          "execution_count": 179
        }
      ]
    },
    {
      "cell_type": "code",
      "source": [
        "df.info()"
      ],
      "metadata": {
        "colab": {
          "base_uri": "https://localhost:8080/"
        },
        "id": "4cOxRyRiZ1Vr",
        "outputId": "0537dc24-b108-4b3f-f4aa-066e5790a505"
      },
      "execution_count": null,
      "outputs": [
        {
          "output_type": "stream",
          "name": "stdout",
          "text": [
            "<class 'pandas.core.frame.DataFrame'>\n",
            "RangeIndex: 2938 entries, 0 to 2937\n",
            "Data columns (total 18 columns):\n",
            " #   Column                  Non-Null Count  Dtype  \n",
            "---  ------                  --------------  -----  \n",
            " 0   Country                 2938 non-null   object \n",
            " 1   Year                    2938 non-null   int64  \n",
            " 2   Status                  2938 non-null   object \n",
            " 3   Life_expectancy         2928 non-null   float64\n",
            " 4   Adult_Mortality         2928 non-null   float64\n",
            " 5   infant_deaths           2938 non-null   int64  \n",
            " 6   Alcohol                 2744 non-null   float64\n",
            " 7   percentage_expenditure  2938 non-null   float64\n",
            " 8   Measles                 2938 non-null   int64  \n",
            " 9   BMI                     2904 non-null   float64\n",
            " 10  under_five_deaths       2938 non-null   int64  \n",
            " 11  Total_expenditure       2712 non-null   float64\n",
            " 12  Diphtheria              2919 non-null   float64\n",
            " 13  HIV/AIDS                2938 non-null   float64\n",
            " 14  Population              2286 non-null   float64\n",
            " 15  thinness_1_19_years     2904 non-null   float64\n",
            " 16  thinness_5_9_years      2904 non-null   float64\n",
            " 17  Schooling               2775 non-null   float64\n",
            "dtypes: float64(12), int64(4), object(2)\n",
            "memory usage: 413.3+ KB\n"
          ]
        }
      ]
    },
    {
      "cell_type": "markdown",
      "source": [
        "Preparación de los datos para su uso"
      ],
      "metadata": {
        "id": "xGyV-7ailyZB"
      }
    },
    {
      "cell_type": "code",
      "source": [
        "df = df.astype({\"Country\":'category'})\n",
        "df = df.astype({\"Status\":'category'})"
      ],
      "metadata": {
        "id": "DpJ7Zj7raCez"
      },
      "execution_count": null,
      "outputs": []
    },
    {
      "cell_type": "code",
      "source": [
        "df.isnull().sum()"
      ],
      "metadata": {
        "colab": {
          "base_uri": "https://localhost:8080/"
        },
        "id": "bQpSP8NVLkPC",
        "outputId": "224e06f0-c5f4-4c7e-c57c-1185d80a0280"
      },
      "execution_count": null,
      "outputs": [
        {
          "output_type": "execute_result",
          "data": {
            "text/plain": [
              "Country                     0\n",
              "Year                        0\n",
              "Status                      0\n",
              "Life_expectancy            10\n",
              "Adult_Mortality            10\n",
              "infant_deaths               0\n",
              "Alcohol                   194\n",
              "percentage_expenditure      0\n",
              "Measles                     0\n",
              "BMI                        34\n",
              "under_five_deaths           0\n",
              "Total_expenditure         226\n",
              "Diphtheria                 19\n",
              "HIV/AIDS                    0\n",
              "Population                652\n",
              "thinness_1_19_years        34\n",
              "thinness_5_9_years         34\n",
              "Schooling                 163\n",
              "dtype: int64"
            ]
          },
          "metadata": {},
          "execution_count": 182
        }
      ]
    },
    {
      "cell_type": "markdown",
      "source": [
        "Relleno de los valores nulos con un backward fill"
      ],
      "metadata": {
        "id": "Tve45x-cYoDM"
      }
    },
    {
      "cell_type": "code",
      "source": [
        "df = df.bfill()  # backward fill"
      ],
      "metadata": {
        "id": "Ep2bx_Z6YnKU"
      },
      "execution_count": null,
      "outputs": []
    },
    {
      "cell_type": "code",
      "source": [
        "df.isnull().sum()"
      ],
      "metadata": {
        "colab": {
          "base_uri": "https://localhost:8080/"
        },
        "id": "M_fY269PYv5J",
        "outputId": "53552106-7875-4fef-b827-4729b45e5929"
      },
      "execution_count": null,
      "outputs": [
        {
          "output_type": "execute_result",
          "data": {
            "text/plain": [
              "Country                   0\n",
              "Year                      0\n",
              "Status                    0\n",
              "Life_expectancy           0\n",
              "Adult_Mortality           0\n",
              "infant_deaths             0\n",
              "Alcohol                   0\n",
              "percentage_expenditure    0\n",
              "Measles                   0\n",
              "BMI                       0\n",
              "under_five_deaths         0\n",
              "Total_expenditure         0\n",
              "Diphtheria                0\n",
              "HIV/AIDS                  0\n",
              "Population                0\n",
              "thinness_1_19_years       0\n",
              "thinness_5_9_years        0\n",
              "Schooling                 0\n",
              "dtype: int64"
            ]
          },
          "metadata": {},
          "execution_count": 184
        }
      ]
    },
    {
      "cell_type": "code",
      "source": [
        "first_column = df.pop('Life_expectancy')\n",
        "df.insert(0, 'Life_expectancy', first_column)"
      ],
      "metadata": {
        "id": "1APEbDWXi9lK"
      },
      "execution_count": null,
      "outputs": []
    },
    {
      "cell_type": "code",
      "source": [
        "df['Country'] = df['Country'].str.replace(' ', '_', regex=True)"
      ],
      "metadata": {
        "id": "m6HUMPszkgbD"
      },
      "execution_count": null,
      "outputs": []
    },
    {
      "cell_type": "code",
      "source": [
        "y = df.Life_expectancy\n",
        "x = df.iloc[:,1:]\n",
        "\n",
        "x = x.drop(['Country'],axis = 1)\n",
        "x = x.drop(['Status'],axis = 1)"
      ],
      "metadata": {
        "id": "rqReCK_pR8_3"
      },
      "execution_count": null,
      "outputs": []
    },
    {
      "cell_type": "code",
      "source": [
        "# Convert to arrays\n",
        "x = x.to_numpy()\n",
        "y = y.to_numpy()"
      ],
      "metadata": {
        "id": "99e5pkNHUcyN"
      },
      "execution_count": null,
      "outputs": []
    },
    {
      "cell_type": "markdown",
      "source": [
        "Validación cruzada por k-folds en regresión lineal"
      ],
      "metadata": {
        "id": "rdg33pcNKJzd"
      }
    },
    {
      "cell_type": "code",
      "source": [
        "num_folds = 5\n",
        "kf = KFold(n_splits=num_folds)\n",
        "X_train, X_test, y_train, y_test = train_test_split(x, y, test_size=0.2, random_state=42)"
      ],
      "metadata": {
        "id": "PaFbV68-k6U8"
      },
      "execution_count": null,
      "outputs": []
    },
    {
      "cell_type": "code",
      "source": [
        "model = LinearRegression()\n",
        "model.fit(X_train, y_train)\n",
        "\n",
        "y_pred = model.predict(X_test)"
      ],
      "metadata": {
        "id": "89WuKXK1IGKQ"
      },
      "execution_count": null,
      "outputs": []
    },
    {
      "cell_type": "code",
      "source": [
        "mse = mean_squared_error(y_test, y_pred)\n",
        "mae = mean_absolute_error(y_test, y_pred)\n",
        "r2 = r2_score(y_test, y_pred)\n",
        "\n",
        "print('MSE: ', mse)\n",
        "print(\"MAE: \", mae)\n",
        "print(\"R^2: \", r2)"
      ],
      "metadata": {
        "colab": {
          "base_uri": "https://localhost:8080/"
        },
        "id": "LjyRrUlvk-wc",
        "outputId": "89f9ccef-6487-4a59-b29e-0c3820416b32"
      },
      "execution_count": null,
      "outputs": [
        {
          "output_type": "stream",
          "name": "stdout",
          "text": [
            "MSE:  16.191718427289324\n",
            "MAE:  2.954640609405385\n",
            "R^2:  0.813277811832735\n"
          ]
        }
      ]
    },
    {
      "cell_type": "markdown",
      "source": [
        "Obtención del numero optimo de predictores usando filter y validación cruzada"
      ],
      "metadata": {
        "id": "MA6Gec5jphAB"
      }
    },
    {
      "cell_type": "code",
      "source": [
        "# Find optimal number of features using cross-validation\n",
        "n_feats = list(range(1,10))\n",
        "\n",
        "mse_nfeat = []\n",
        "mae_nfeat = []\n",
        "r2_nfeat = []\n",
        "\n",
        "for n_feat in n_feats:\n",
        "    # print('---- n features =', n_feat)\n",
        "\n",
        "    mse_cv = []\n",
        "    mae_cv = []\n",
        "    r2_cv = []\n",
        "\n",
        "    kf = KFold(n_splits=5, shuffle = True)\n",
        "\n",
        "    for train_index, test_index in kf.split(x):\n",
        "\n",
        "        # Training phase\n",
        "        x_train = x[train_index, :]\n",
        "        y_train = y[train_index]\n",
        "\n",
        "        fselection_cv = SelectKBest(r_regression, k = n_feat)\n",
        "        fselection_cv.fit(x_train, y_train)\n",
        "        x_train = fselection_cv.transform(x_train)\n",
        "\n",
        "        regr_cv = linear_model.LinearRegression()\n",
        "        regr_cv.fit(x_train, y_train)\n",
        "\n",
        "        # Test phase\n",
        "        x_test = fselection_cv.transform(x[test_index, :])\n",
        "        y_test = y[test_index]\n",
        "        y_pred = regr_cv.predict(x_test)\n",
        "\n",
        "        mse_i = mean_squared_error(y_test, y_pred)\n",
        "        mse_cv.append(mse_i)\n",
        "\n",
        "        mae_i = mean_absolute_error(y_test, y_pred)\n",
        "        mae_cv.append(mae_i)\n",
        "\n",
        "        r2_i = r2_score(y_test, y_pred)\n",
        "        r2_cv.append(r2_i)\n",
        "\n",
        "\n",
        "    mse = np.average(mse_cv)\n",
        "    mse_nfeat.append(mse)\n",
        "\n",
        "    mae = np.average(mae_cv)\n",
        "    mae_nfeat.append(mae)\n",
        "\n",
        "    r2 = np.average(r2_cv)\n",
        "    r2_nfeat.append(r2)\n",
        "\n",
        "    print('MSE:', mse, '  MAE:', mae,'  R^2:', r2)\n",
        "\n",
        "fig, axs = plt.subplots(1, 3, tight_layout=True)\n",
        "axs[0].plot(n_feats, mse_nfeat)\n",
        "axs[0].set_xlabel(\"k\")\n",
        "axs[0].set_ylabel(\"MSE\")\n",
        "axs[0].grid()\n",
        "\n",
        "axs[1].plot(n_feats, mae_nfeat)\n",
        "axs[1].set_xlabel(\"k\")\n",
        "axs[1].set_ylabel(\"MAE\")\n",
        "axs[1].grid()\n",
        "\n",
        "axs[2].plot(n_feats, r2_nfeat)\n",
        "axs[2].set_xlabel(\"k\")\n",
        "axs[2].set_ylabel(\"r^2\")\n",
        "axs[2].grid()\n",
        "\n",
        "plt.show()"
      ],
      "metadata": {
        "colab": {
          "base_uri": "https://localhost:8080/",
          "height": 650
        },
        "id": "E8kq8nmtxku-",
        "outputId": "789cfbe2-5d06-4030-9aa4-248a64476ccc"
      },
      "execution_count": null,
      "outputs": [
        {
          "output_type": "stream",
          "name": "stdout",
          "text": [
            "MSE: 49.13915109923574   MAE: 5.095350999838998   R^2: 0.45577949434638027\n",
            "MSE: 42.404045102618774   MAE: 4.803799947628843   R^2: 0.5316484895090848\n",
            "MSE: 38.2523332655589   MAE: 4.60546363701974   R^2: 0.5769127817784069\n",
            "MSE: 38.287355945686755   MAE: 4.621056689604563   R^2: 0.5764809159916636\n",
            "MSE: 36.85916601519138   MAE: 4.551584708336823   R^2: 0.5901091122044999\n",
            "MSE: 36.77732401052793   MAE: 4.542990264458248   R^2: 0.5927560364118809\n",
            "MSE: 36.81414715241471   MAE: 4.550087792713289   R^2: 0.5925010817349217\n",
            "MSE: 36.786383669918294   MAE: 4.5459246780326215   R^2: 0.5914932976915568\n",
            "MSE: 36.78402465306253   MAE: 4.548533861259822   R^2: 0.5917251791963513\n"
          ]
        },
        {
          "output_type": "display_data",
          "data": {
            "text/plain": [
              "<Figure size 640x480 with 3 Axes>"
            ],
            "image/png": "[encoded data removed]"
          },
          "metadata": {}
        }
      ]
    },
    {
      "cell_type": "markdown",
      "source": [
        "Analizando las gráficas, se puede argumentar que el numero optimo de predictores es 5, esto es debido a que obtuvo uno de los resultados más bajos tanto en el MSE como en MAE, tambien cuenta con un $r^2$ elevado a comparación de los otros números de predictores"
      ],
      "metadata": {
        "id": "2tNc9_RnXtUt"
      }
    },
    {
      "cell_type": "markdown",
      "source": [
        "Selección de características secuencial Metodo Wrapper"
      ],
      "metadata": {
        "id": "XvtJKMjczcKO"
      }
    },
    {
      "cell_type": "code",
      "source": [
        "# Find optimal number of features using cross-validation\n",
        "n_feats = list(range(1,9))\n",
        "\n",
        "mse_nfeat = []\n",
        "mae_nfeat = []\n",
        "r2_nfeat = []\n",
        "for n_feat in n_feats:\n",
        "    # print('---- n features =', n_feat)\n",
        "\n",
        "    mse_cv = []\n",
        "    mae_cv = []\n",
        "    r2_cv = []\n",
        "\n",
        "    kf = KFold(n_splits=5, shuffle = True)\n",
        "\n",
        "    for train_index, test_index in kf.split(x):\n",
        "\n",
        "        # Training phase\n",
        "        x_train = x[train_index, :]\n",
        "        y_train = y[train_index]\n",
        "\n",
        "        regr_cv = linear_model.LinearRegression()\n",
        "\n",
        "        fselection_cv = SequentialFeatureSelector(regr_cv, n_features_to_select=n_feat)\n",
        "        fselection_cv.fit(x_train, y_train)\n",
        "        x_train = fselection_cv.transform(x_train)\n",
        "\n",
        "        regr_cv.fit(x_train, y_train)\n",
        "\n",
        "        # Test phase\n",
        "        x_test = fselection_cv.transform(x[test_index, :])\n",
        "        y_test = y[test_index]\n",
        "        y_pred = regr_cv.predict(x_test)\n",
        "\n",
        "        mse_i = mean_squared_error(y_test, y_pred)\n",
        "        mse_cv.append(mse_i)\n",
        "\n",
        "        mae_i = mean_absolute_error(y_test, y_pred)\n",
        "        mae_cv.append(mae_i)\n",
        "\n",
        "        r2_i = r2_score(y_test, y_pred)\n",
        "        r2_cv.append(r2_i)\n",
        "\n",
        "\n",
        "    mse = np.average(mse_cv)\n",
        "    mse_nfeat.append(mse)\n",
        "\n",
        "    mae = np.average(mae_cv)\n",
        "    mae_nfeat.append(mae)\n",
        "\n",
        "    r2 = np.average(r2_cv)\n",
        "    r2_nfeat.append(r2)\n",
        "\n",
        "    print('MSE:', mse, '  MAE:', mae,'  R^2:', r2)\n",
        "\n",
        "fig, axs = plt.subplots(1, 3, tight_layout=True)\n",
        "axs[0].plot(n_feats, mse_nfeat)\n",
        "axs[0].set_xlabel(\"features\")\n",
        "axs[0].set_ylabel(\"MSE\")\n",
        "axs[0].grid()\n",
        "\n",
        "axs[1].plot(n_feats, mae_nfeat)\n",
        "axs[1].set_xlabel(\"features\")\n",
        "axs[1].set_ylabel(\"MAE\")\n",
        "axs[1].grid()\n",
        "\n",
        "axs[2].plot(n_feats, r2_nfeat)\n",
        "axs[2].set_xlabel(\"features\")\n",
        "axs[2].set_ylabel(\"r^2\")\n",
        "axs[2].grid()\n",
        "\n",
        "plt.show()"
      ],
      "metadata": {
        "colab": {
          "base_uri": "https://localhost:8080/",
          "height": 632
        },
        "id": "SsPciauXXKJ9",
        "outputId": "526b6517-6f7f-41fe-b221-4d518b624c47"
      },
      "execution_count": null,
      "outputs": [
        {
          "output_type": "stream",
          "name": "stdout",
          "text": [
            "MSE: 46.73817255396463   MAE: 4.814066366584323   R^2: 0.4819022329356466\n",
            "MSE: 30.177853319527543   MAE: 3.737053037341311   R^2: 0.6659756233008928\n",
            "MSE: 25.524481166863637   MAE: 3.5322633891977473   R^2: 0.7175522085659187\n",
            "MSE: 22.546242936801896   MAE: 3.412921251890533   R^2: 0.7504626992736544\n",
            "MSE: 20.99707463547191   MAE: 3.3634193552795635   R^2: 0.767973507349541\n",
            "MSE: 20.070777216313818   MAE: 3.308158949211453   R^2: 0.7779500668480974\n",
            "MSE: 19.982177218571664   MAE: 3.3124830437873625   R^2: 0.7792453990114669\n",
            "MSE: 19.608767884960017   MAE: 3.2900854126765147   R^2: 0.7832575970758955\n"
          ]
        },
        {
          "output_type": "display_data",
          "data": {
            "text/plain": [
              "<Figure size 640x480 with 3 Axes>"
            ],
            "image/png": "[encoded data removed]"
          },
          "metadata": {}
        }
      ]
    },
    {
      "cell_type": "markdown",
      "source": [
        "Analizando las gráficas se puede arguumentar que el número optimo de parametros es 6, esto es debido a que en el MSE, a partir de este número de parametros, la gráfica no nota una mejora considerable, en el MAE, despues de usar 6 parametros, la gráfica se vuelve estatica, indicando que no existe mejora considerable y finalmente en la gráfica de $r^2$, con este número de parametros, se obtiene un valor aceptable siendo de los más altos en la gráfica."
      ],
      "metadata": {
        "id": "Ob6QEZf5Y_vH"
      }
    },
    {
      "cell_type": "markdown",
      "source": [
        "Método de selección de características recursivo (Filter-Wrapper)."
      ],
      "metadata": {
        "id": "JHWjkNjGY-8N"
      }
    },
    {
      "cell_type": "code",
      "source": [
        "# Find optimal number of features using cross-validation\n",
        "n_feats = list(range(1,20))\n",
        "\n",
        "mse_nfeat = []\n",
        "mae_nfeat = []\n",
        "r2_nfeat = []\n",
        "for n_feat in n_feats:\n",
        "    # print('---- n features =', n_feat)\n",
        "    mse_cv = []\n",
        "    mae_cv = []\n",
        "    r2_cv = []\n",
        "\n",
        "    kf = KFold(n_splits=5, shuffle = True)\n",
        "\n",
        "    for train_index, test_index in kf.split(x):\n",
        "\n",
        "        # Training phase\n",
        "        x_train = x[train_index, :]\n",
        "        y_train = y[train_index]\n",
        "\n",
        "        regr_cv = linear_model.LinearRegression()\n",
        "\n",
        "        fselection_cv = RFE(regr_cv, n_features_to_select=n_feat)\n",
        "        fselection_cv.fit(x_train, y_train)\n",
        "        x_train = fselection_cv.transform(x_train)\n",
        "\n",
        "        regr_cv.fit(x_train, y_train)\n",
        "\n",
        "        # Test phase\n",
        "        x_test = fselection_cv.transform(x[test_index, :])\n",
        "        y_test = y[test_index]\n",
        "        y_pred = regr_cv.predict(x_test)\n",
        "\n",
        "        mse_i = mean_squared_error(y_test, y_pred)\n",
        "        mse_cv.append(mse_i)\n",
        "\n",
        "        mae_i = mean_absolute_error(y_test, y_pred)\n",
        "        mae_cv.append(mae_i)\n",
        "\n",
        "        r2_i = r2_score(y_test, y_pred)\n",
        "        r2_cv.append(r2_i)\n",
        "\n",
        "\n",
        "    mse = np.average(mse_cv)\n",
        "    mse_nfeat.append(mse)\n",
        "\n",
        "    mae = np.average(mae_cv)\n",
        "    mae_nfeat.append(mae)\n",
        "\n",
        "    r2 = np.average(r2_cv)\n",
        "    r2_nfeat.append(r2)\n",
        "\n",
        "    print('MSE:', mse, '  MAE:', mae,'  R^2:', r2)\n",
        "\n",
        "fig, axs = plt.subplots(1, 3, tight_layout=True)\n",
        "axs[0].plot(n_feats, mse_nfeat)\n",
        "axs[0].set_xlabel(\"features\")\n",
        "axs[0].set_ylabel(\"MSE\")\n",
        "axs[0].grid()\n",
        "\n",
        "axs[1].plot(n_feats, mae_nfeat)\n",
        "axs[1].set_xlabel(\"features\")\n",
        "axs[1].set_ylabel(\"MAE\")\n",
        "axs[1].grid()\n",
        "\n",
        "axs[2].plot(n_feats, r2_nfeat)\n",
        "axs[2].set_xlabel(\"features\")\n",
        "axs[2].set_ylabel(\"r^2\")\n",
        "axs[2].grid()\n",
        "\n",
        "plt.show()"
      ],
      "metadata": {
        "colab": {
          "base_uri": "https://localhost:8080/",
          "height": 832
        },
        "id": "OyfiKxy9fetx",
        "outputId": "3d8d23bd-3bcf-4b1a-9826-efa2f6bf2034"
      },
      "execution_count": null,
      "outputs": [
        {
          "output_type": "stream",
          "name": "stdout",
          "text": [
            "MSE: 49.0139361875991   MAE: 5.0874785481731175   R^2: 0.45785265981830925\n",
            "MSE: 33.028921885002944   MAE: 4.140583946611963   R^2: 0.6340715454958704\n",
            "MSE: 31.74848084627638   MAE: 4.1132434348988   R^2: 0.649320140098334\n",
            "MSE: 30.885386572463155   MAE: 4.119032542445078   R^2: 0.6577180404432228\n",
            "MSE: 31.25298871126271   MAE: 4.14003564250533   R^2: 0.6537148970799362\n",
            "MSE: 28.936171842989392   MAE: 4.040176831701731   R^2: 0.6803250450195663\n",
            "MSE: 27.046399939442313   MAE: 3.908478183370989   R^2: 0.700355757841\n",
            "MSE: 24.80349879018932   MAE: 3.7715320413420192   R^2: 0.7255118997546897\n",
            "MSE: 24.359117031997553   MAE: 3.739457402467589   R^2: 0.7296222584758179\n",
            "MSE: 23.755208343842064   MAE: 3.6632042768177504   R^2: 0.736456302705222\n",
            "MSE: 21.378435100767355   MAE: 3.4503680419405534   R^2: 0.762803866127544\n",
            "MSE: 19.260894999268167   MAE: 3.260734239738281   R^2: 0.7870870134008994\n",
            "MSE: 18.42807618370998   MAE: 3.1995215043742715   R^2: 0.7961917632193497\n",
            "MSE: 18.503189000314016   MAE: 3.2080351856329408   R^2: 0.7950614644416103\n",
            "MSE: 18.528115174920003   MAE: 3.2082360992079737   R^2: 0.7948033437243482\n",
            "MSE: 18.500573044217173   MAE: 3.206417764714748   R^2: 0.7949056418148268\n",
            "MSE: 18.53634947791828   MAE: 3.213648588298105   R^2: 0.794120647752006\n",
            "MSE: 18.365279852959578   MAE: 3.2017946021404535   R^2: 0.7967555936892122\n",
            "MSE: 18.49951450225744   MAE: 3.2048182286531857   R^2: 0.7954919540166816\n"
          ]
        },
        {
          "output_type": "display_data",
          "data": {
            "text/plain": [
              "<Figure size 640x480 with 3 Axes>"
            ],
            "image/png": "[encoded data removed]"
          },
          "metadata": {}
        }
      ]
    },
    {
      "cell_type": "markdown",
      "source": [
        "Analizando la gráfica se puede ver como tuvo una mejora considerable despues de haber estado con el mismo si no es que peor desempeño, no obstante cuando llega a aproximadamente 13 parametros es cuando se puede notar que ya no cuenta con una mejora, contando asi con un MSE y un MAE bajo y un $r^2$ aceptable"
      ],
      "metadata": {
        "id": "SNsfjQ-sh2L7"
      }
    },
    {
      "cell_type": "markdown",
      "source": [
        "Filter, Wrapper y Filter-Wrapper con el modelo de regresión no lineal K-vecinos más cercanos."
      ],
      "metadata": {
        "id": "dMov9kVOQzcW"
      }
    },
    {
      "cell_type": "markdown",
      "source": [
        "Filter"
      ],
      "metadata": {
        "id": "WhGJcIkpmri5"
      }
    },
    {
      "cell_type": "code",
      "source": [
        "selector = SelectKBest(f_regression)\n",
        "\n",
        "k_values = np.arange(1, x.shape[1] + 1)\n",
        "\n",
        "mse_nfeat = {}\n",
        "mae_nfeat = {}\n",
        "r2_nfeat = {}\n",
        "\n",
        "for n_feat in k_values:\n",
        "    mse_cv = []\n",
        "    mae_cv = []\n",
        "    r2_cv = []\n",
        "\n",
        "    kf = KFold(n_splits=5, shuffle=True, random_state=42)\n",
        "\n",
        "    for train_index, test_index in kf.split(x):\n",
        "        # Training phase\n",
        "        x_train = x[train_index, :]\n",
        "        y_train = y[train_index]\n",
        "\n",
        "        fselection_cv = SelectKBest(f_regression, k=n_feat)\n",
        "        fselection_cv.fit(x_train, y_train)\n",
        "        x_train = fselection_cv.transform(x_train)\n",
        "\n",
        "        regr_cv = KNeighborsRegressor(n_neighbors=5)\n",
        "        regr_cv.fit(x_train, y_train)\n",
        "\n",
        "        # Test phase\n",
        "        x_test = fselection_cv.transform(x[test_index, :])\n",
        "        y_test = y[test_index]\n",
        "        y_pred = regr_cv.predict(x_test)\n",
        "\n",
        "        mse_i = mean_squared_error(y_test, y_pred)\n",
        "        mse_cv.append(mse_i)\n",
        "\n",
        "        mae_i = mean_absolute_error(y_test, y_pred)\n",
        "        mae_cv.append(mae_i)\n",
        "\n",
        "        r2_i = r2_score(y_test, y_pred)\n",
        "        r2_cv.append(r2_i)\n",
        "\n",
        "    mse_nfeat[n_feat] = np.average(mse_cv)\n",
        "    mae_nfeat[n_feat] = np.average(mae_cv)\n",
        "    r2_nfeat[n_feat] = np.average(r2_cv)\n",
        "    print('MSE:', mse_i, '  MAE:', mae_i,'  R^2:', r2_i)\n",
        "\n",
        "# Graficar los resultados\n",
        "fig, axs = plt.subplots(1, 3, tight_layout=True)\n",
        "axs[0].plot(k_values, list(mse_nfeat.values()))\n",
        "axs[0].set_xlabel(\"Número de características (k)\")\n",
        "axs[0].set_ylabel(\"MSE\")\n",
        "axs[0].grid()\n",
        "\n",
        "axs[1].plot(k_values, list(mae_nfeat.values()))\n",
        "axs[1].set_xlabel(\"Número de características (k)\")\n",
        "axs[1].set_ylabel(\"MAE\")\n",
        "axs[1].grid()\n",
        "\n",
        "axs[2].plot(k_values, list(r2_nfeat.values()))\n",
        "axs[2].set_xlabel(\"Número de características (k)\")\n",
        "axs[2].set_ylabel(\"R^2\")\n",
        "axs[2].grid()\n",
        "\n",
        "plt.tight_layout()\n",
        "plt.show()"
      ],
      "metadata": {
        "colab": {
          "base_uri": "https://localhost:8080/",
          "height": 759
        },
        "id": "Ael6yjU1OcV_",
        "outputId": "a1d905ed-2f29-44bc-cc64-21f98e9e3f35"
      },
      "execution_count": null,
      "outputs": [
        {
          "output_type": "stream",
          "name": "stdout",
          "text": [
            "MSE: 23.884511754684837   MAE: 2.845553662691652   R^2: 0.7314153037492274\n",
            "MSE: 10.554314139693357   MAE: 2.1527086882453155   R^2: 0.8813152520570676\n",
            "MSE: 7.215182964224872   MAE: 1.9760477001703578   R^2: 0.918864252083362\n",
            "MSE: 7.834891311754686   MAE: 1.9718228279386714   R^2: 0.9118955444959977\n",
            "MSE: 9.718077683134583   MAE: 1.946201022146507   R^2: 0.8907188487052012\n",
            "MSE: 8.920286882453153   MAE: 1.906678023850085   R^2: 0.8996901185420507\n",
            "MSE: 8.733485519591142   MAE: 1.8674616695059623   R^2: 0.9017907261583518\n",
            "MSE: 8.02233049403748   MAE: 1.7542759795570695   R^2: 0.9097877645105416\n",
            "MSE: 13.62179625212947   MAE: 2.2688245315161844   R^2: 0.8468209839771798\n",
            "MSE: 15.26466507666099   MAE: 2.382350936967632   R^2: 0.8283466928236203\n",
            "MSE: 15.289986371379898   MAE: 2.381226575809199   R^2: 0.8280619513007201\n",
            "MSE: 15.074101533219762   MAE: 2.371856899488927   R^2: 0.8304896066900338\n",
            "MSE: 14.961315161839863   MAE: 2.353458262350937   R^2: 0.831757905310053\n",
            "MSE: 30.387108006814305   MAE: 3.526848381601363   R^2: 0.6582926937014403\n",
            "MSE: 88.05083202725726   MAE: 6.875298126064736   R^2: 0.009856001346561727\n"
          ]
        },
        {
          "output_type": "display_data",
          "data": {
            "text/plain": [
              "<Figure size 640x480 with 3 Axes>"
            ],
            "image/png": "[encoded data removed]"
          },
          "metadata": {}
        }
      ]
    },
    {
      "cell_type": "markdown",
      "source": [
        "Wrapper"
      ],
      "metadata": {
        "id": "kSs3rNTvmtLH"
      }
    },
    {
      "cell_type": "code",
      "source": [
        "n_feats = list(range(1,10))\n",
        "\n",
        "mse_nfeat = []\n",
        "mae_nfeat = []\n",
        "r2_nfeat = []\n",
        "\n",
        "for n_feat in n_feats:\n",
        "    # print('---- n features =', n_feat)\n",
        "\n",
        "    mse_cv = []\n",
        "    mae_cv = []\n",
        "    r2_cv = []\n",
        "\n",
        "    kf = KFold(n_splits=5, shuffle=True, random_state=42)\n",
        "\n",
        "    for train_index, test_index in kf.split(x):\n",
        "\n",
        "        # Training phase\n",
        "        x_train = x[train_index, :]\n",
        "        y_train = y[train_index]\n",
        "\n",
        "        regr_cv = KNeighborsRegressor(n_neighbors=5)\n",
        "\n",
        "        fselection_cv = SequentialFeatureSelector(regr_cv, n_features_to_select=n_feat)\n",
        "        fselection_cv.fit(x_train, y_train)\n",
        "        x_train = fselection_cv.transform(x_train)\n",
        "\n",
        "        regr_cv.fit(x_train, y_train)\n",
        "\n",
        "        # Test phase\n",
        "        x_test = fselection_cv.transform(x[test_index, :])\n",
        "        y_test = y[test_index]\n",
        "        y_pred = regr_cv.predict(x_test)\n",
        "\n",
        "        mse_i = mean_squared_error(y_test, y_pred)\n",
        "        mse_cv.append(mse_i)\n",
        "\n",
        "        mae_i = mean_absolute_error(y_test, y_pred)\n",
        "        mae_cv.append(mae_i)\n",
        "\n",
        "        r2_i = r2_score(y_test, y_pred)\n",
        "        r2_cv.append(r2_i)\n",
        "\n",
        "\n",
        "    mse = np.average(mse_cv)\n",
        "    mse_nfeat.append(mse)\n",
        "\n",
        "    mae = np.average(mae_cv)\n",
        "    mae_nfeat.append(mae)\n",
        "\n",
        "    r2 = np.average(r2_cv)\n",
        "    r2_nfeat.append(r2)\n",
        "\n",
        "    print('MSE:', mse, '  MAE:', mae,'  R^2:', r2)\n",
        "\n",
        "fig, axs = plt.subplots(1, 3, tight_layout=True)\n",
        "axs[0].plot(n_feats, mse_nfeat)\n",
        "axs[0].set_xlabel(\"Número de características\")\n",
        "axs[0].set_ylabel(\"MSE\")\n",
        "axs[0].grid()\n",
        "\n",
        "axs[1].plot(n_feats, mae_nfeat)\n",
        "axs[1].set_xlabel(\"Número de características\")\n",
        "axs[1].set_ylabel(\"MAE\")\n",
        "axs[1].grid()\n",
        "\n",
        "\n",
        "axs[2].plot(n_feats, r2_nfeat)\n",
        "axs[2].set_xlabel(\"Número de características\")\n",
        "axs[2].set_ylabel(\"R^2\")\n",
        "axs[2].grid()\n",
        "\n",
        "plt.tight_layout()\n",
        "plt.show()"
      ],
      "metadata": {
        "colab": {
          "base_uri": "https://localhost:8080/",
          "height": 650
        },
        "id": "nRYsBZUbmQJT",
        "outputId": "105a0966-9c65-4eb1-88e7-3fd9d8223865"
      },
      "execution_count": null,
      "outputs": [
        {
          "output_type": "stream",
          "name": "stdout",
          "text": [
            "MSE: 19.742620580143473   MAE: 2.7875033897715813   R^2: 0.7803606021739754\n",
            "MSE: 8.432943253021822   MAE: 2.0009777376027076   R^2: 0.9064539358867426\n",
            "MSE: 7.2526827760201185   MAE: 1.9025432789810988   R^2: 0.9192593662223147\n",
            "MSE: 6.880741115321769   MAE: 1.7555601640997114   R^2: 0.9234071596563446\n",
            "MSE: 6.4988450004056135   MAE: 1.6637961965024508   R^2: 0.9277134340614838\n",
            "MSE: 5.755556351330993   MAE: 1.59079458563664   R^2: 0.9361525153047058\n",
            "MSE: 5.659071141628713   MAE: 1.5566778268377195   R^2: 0.9373723640222641\n",
            "MSE: 5.570988271737998   MAE: 1.5450499716070414   R^2: 0.9383476954158029\n",
            "MSE: 6.649366164632805   MAE: 1.5841052625479493   R^2: 0.9264050870456687\n"
          ]
        },
        {
          "output_type": "display_data",
          "data": {
            "text/plain": [
              "<Figure size 640x480 with 3 Axes>"
            ],
            "image/png": "[encoded data removed]"
          },
          "metadata": {}
        }
      ]
    },
    {
      "cell_type": "markdown",
      "source": [
        "Filter-Wrapper"
      ],
      "metadata": {
        "id": "FMt2qUaqmupg"
      }
    },
    {
      "cell_type": "markdown",
      "source": [
        "Debido a que no se pudo realizar el metodo Filter Wrapper con RFE en k vecinos cercanos se dicidio hacerlo con maquinas de soporte vextorial, no obstante hacerlo de esta forma requiere de mucho tiempo, por lo que no se pudo ejecutar de forma correcta, por lo tanto se decidio dejar esta sección comentada."
      ],
      "metadata": {
        "id": "fqzjiyzjpWRs"
      }
    },
    {
      "cell_type": "code",
      "source": [
        "# from sklearn.svm import SVR\n",
        "\n",
        "# n_feats = list(range(1, 10))\n",
        "\n",
        "# mse_nfeat = []\n",
        "# mae_nfeat = []\n",
        "# r2_nfeat = []\n",
        "\n",
        "# for n_feat in n_feats:\n",
        "#     mse_cv = []\n",
        "#     mae_cv = []\n",
        "#     r2_cv = []\n",
        "\n",
        "#     kf = KFold(n_splits=5, shuffle=True, random_state=42)\n",
        "\n",
        "#     for train_index, test_index in kf.split(x):\n",
        "#         # Training phase\n",
        "#         x_train = x[train_index, :]\n",
        "#         y_train = y[train_index]\n",
        "\n",
        "#         regr_cv = KNeighborsRegressor(n_neighbors=5)\n",
        "\n",
        "#         estimator = SVR(kernel=\"linear\")\n",
        "#         fselection_cv = RFE(estimator, n_features_to_select=n_feat, step=1)\n",
        "#         fselection_cv.fit(x_train, y_train)\n",
        "#         x_train_selected = fselection_cv.transform(x_train)\n",
        "\n",
        "#         regr_cv.fit(x_train_selected, y_train)\n",
        "\n",
        "#         # Test phase\n",
        "#         x_test_selected = selector.transform(x[test_index, :])\n",
        "#         y_test = y[test_index]\n",
        "#         y_pred = regr_cv.predict(x_test_selected)\n",
        "\n",
        "#         mse_i = mean_squared_error(y_test, y_pred)\n",
        "#         mse_cv.append(mse_i)\n",
        "\n",
        "#         mae_i = mean_absolute_error(y_test, y_pred)\n",
        "#         mae_cv.append(mae_i)\n",
        "\n",
        "#         r2_i = r2_score(y_test, y_pred)\n",
        "#         r2_cv.append(r2_i)\n",
        "\n",
        "#     mse = np.average(mse_cv)\n",
        "#     mse_nfeat.append(mse)\n",
        "\n",
        "#     mae = np.average(mae_cv)\n",
        "#     mae_nfeat.append(mae)\n",
        "\n",
        "#     r2 = np.average(r2_cv)\n",
        "#     r2_nfeat.append(r2)\n",
        "#     print('MSE:', mse, '  MAE:', mae,'  R^2:', r2)\n",
        "\n",
        "# fig, axs = plt.subplots(1, 3, tight_layout=True)\n",
        "# axs[0].plot(n_feats, mse_nfeat)\n",
        "# axs[0].set_xlabel(\"Número de características\")\n",
        "# axs[0].set_ylabel(\"MSE\")\n",
        "# axs[0].grid()\n",
        "\n",
        "# axs[1].plot(n_feats, mae_nfeat)\n",
        "# axs[1].set_xlabel(\"Número de características\")\n",
        "# axs[1].set_ylabel(\"MAE\")\n",
        "# axs[1].grid()\n",
        "\n",
        "# axs[2].plot(n_feats, r2_nfeat)\n",
        "# axs[2].set_xlabel(\"Número de características\")\n",
        "# axs[2].set_ylabel(\"R^2\")\n",
        "# axs[2].grid()\n",
        "\n",
        "# plt.tight_layout()\n",
        "# plt.show()"
      ],
      "metadata": {
        "id": "RtNScZ36qLiP"
      },
      "execution_count": null,
      "outputs": []
    },
    {
      "cell_type": "markdown",
      "source": [
        "Árbol de decisión para generar un modelo de regresión"
      ],
      "metadata": {
        "id": "A-uWTkfHZOB9"
      }
    },
    {
      "cell_type": "code",
      "source": [
        "y = df.iloc[:,0]\n",
        "x = df.iloc[:,1:]"
      ],
      "metadata": {
        "id": "HWEtFNMNX21u"
      },
      "execution_count": null,
      "outputs": []
    },
    {
      "cell_type": "code",
      "source": [
        "x = x.drop(['Country'],axis = 1)"
      ],
      "metadata": {
        "id": "vMa-Vhx8bQYj"
      },
      "execution_count": null,
      "outputs": []
    },
    {
      "cell_type": "code",
      "source": [
        "x = pd.get_dummies(x, columns=['Status'], drop_first=True)"
      ],
      "metadata": {
        "id": "M66sRAYga2pD"
      },
      "execution_count": null,
      "outputs": []
    },
    {
      "cell_type": "code",
      "source": [
        "x_train, x_test, y_train, y_test = train_test_split(x, y, test_size=0.2, random_state=42)"
      ],
      "metadata": {
        "id": "MZFV0Q1ka5xv"
      },
      "execution_count": null,
      "outputs": []
    },
    {
      "cell_type": "code",
      "source": [
        "reg_tree = DecisionTreeRegressor(random_state=42)"
      ],
      "metadata": {
        "id": "A5OfcWzxbGHx"
      },
      "execution_count": null,
      "outputs": []
    },
    {
      "cell_type": "code",
      "source": [
        "# Entrenamiento del modelo\n",
        "reg_tree.fit(x_train, y_train)"
      ],
      "metadata": {
        "colab": {
          "base_uri": "https://localhost:8080/",
          "height": 74
        },
        "id": "VJmn742nY63i",
        "outputId": "b539ad43-446a-4413-d0e6-fd37bced5677"
      },
      "execution_count": null,
      "outputs": [
        {
          "output_type": "execute_result",
          "data": {
            "text/plain": [
              "DecisionTreeRegressor(random_state=42)"
            ],
            "text/html": [
              "<style>#sk-container-id-3 {color: black;background-color: white;}#sk-container-id-3 pre{padding: 0;}#sk-container-id-3 div.sk-toggleable {background-color: white;}#sk-container-id-3 label.sk-toggleable__label {cursor: pointer;display: block;width: 100%;margin-bottom: 0;padding: 0.3em;box-sizing: border-box;text-align: center;}#sk-container-id-3 label.sk-toggleable__label-arrow:before {content: \"▸\";float: left;margin-right: 0.25em;color: #696969;}#sk-container-id-3 label.sk-toggleable__label-arrow:hover:before {color: black;}#sk-container-id-3 div.sk-estimator:hover label.sk-toggleable__label-arrow:before {color: black;}#sk-container-id-3 div.sk-toggleable__content {max-height: 0;max-width: 0;overflow: hidden;text-align: left;background-color: #f0f8ff;}#sk-container-id-3 div.sk-toggleable__content pre {margin: 0.2em;color: black;border-radius: 0.25em;background-color: #f0f8ff;}#sk-container-id-3 input.sk-toggleable__control:checked~div.sk-toggleable__content {max-height: 200px;max-width: 100%;overflow: auto;}#sk-container-id-3 input.sk-toggleable__control:checked~label.sk-toggleable__label-arrow:before {content: \"▾\";}#sk-container-id-3 div.sk-estimator input.sk-toggleable__control:checked~label.sk-toggleable__label {background-color: #d4ebff;}#sk-container-id-3 div.sk-label input.sk-toggleable__control:checked~label.sk-toggleable__label {background-color: #d4ebff;}#sk-container-id-3 input.sk-hidden--visually {border: 0;clip: rect(1px 1px 1px 1px);clip: rect(1px, 1px, 1px, 1px);height: 1px;margin: -1px;overflow: hidden;padding: 0;position: absolute;width: 1px;}#sk-container-id-3 div.sk-estimator {font-family: monospace;background-color: #f0f8ff;border: 1px dotted black;border-radius: 0.25em;box-sizing: border-box;margin-bottom: 0.5em;}#sk-container-id-3 div.sk-estimator:hover {background-color: #d4ebff;}#sk-container-id-3 div.sk-parallel-item::after {content: \"\";width: 100%;border-bottom: 1px solid gray;flex-grow: 1;}#sk-container-id-3 div.sk-label:hover label.sk-toggleable__label {background-color: #d4ebff;}#sk-container-id-3 div.sk-serial::before {content: \"\";position: absolute;border-left: 1px solid gray;box-sizing: border-box;top: 0;bottom: 0;left: 50%;z-index: 0;}#sk-container-id-3 div.sk-serial {display: flex;flex-direction: column;align-items: center;background-color: white;padding-right: 0.2em;padding-left: 0.2em;position: relative;}#sk-container-id-3 div.sk-item {position: relative;z-index: 1;}#sk-container-id-3 div.sk-parallel {display: flex;align-items: stretch;justify-content: center;background-color: white;position: relative;}#sk-container-id-3 div.sk-item::before, #sk-container-id-3 div.sk-parallel-item::before {content: \"\";position: absolute;border-left: 1px solid gray;box-sizing: border-box;top: 0;bottom: 0;left: 50%;z-index: -1;}#sk-container-id-3 div.sk-parallel-item {display: flex;flex-direction: column;z-index: 1;position: relative;background-color: white;}#sk-container-id-3 div.sk-parallel-item:first-child::after {align-self: flex-end;width: 50%;}#sk-container-id-3 div.sk-parallel-item:last-child::after {align-self: flex-start;width: 50%;}#sk-container-id-3 div.sk-parallel-item:only-child::after {width: 0;}#sk-container-id-3 div.sk-dashed-wrapped {border: 1px dashed gray;margin: 0 0.4em 0.5em 0.4em;box-sizing: border-box;padding-bottom: 0.4em;background-color: white;}#sk-container-id-3 div.sk-label label {font-family: monospace;font-weight: bold;display: inline-block;line-height: 1.2em;}#sk-container-id-3 div.sk-label-container {text-align: center;}#sk-container-id-3 div.sk-container {/* jupyter's `normalize.less` sets `[hidden] { display: none; }` but bootstrap.min.css set `[hidden] { display: none !important; }` so we also need the `!important` here to be able to override the default hidden behavior on the sphinx rendered scikit-learn.org. See: https://github.com/scikit-learn/scikit-learn/issues/21755 */display: inline-block !important;position: relative;}#sk-container-id-3 div.sk-text-repr-fallback {display: none;}</style><div id=\"sk-container-id-3\" class=\"sk-top-container\"><div class=\"sk-text-repr-fallback\"><pre>DecisionTreeRegressor(random_state=42)</pre><b>In a Jupyter environment, please rerun this cell to show the HTML representation or trust the notebook. <br />On GitHub, the HTML representation is unable to render, please try loading this page with nbviewer.org.</b></div><div class=\"sk-container\" hidden><div class=\"sk-item\"><div class=\"sk-estimator sk-toggleable\"><input class=\"sk-toggleable__control sk-hidden--visually\" id=\"sk-estimator-id-3\" type=\"checkbox\" checked><label for=\"sk-estimator-id-3\" class=\"sk-toggleable__label sk-toggleable__label-arrow\">DecisionTreeRegressor</label><div class=\"sk-toggleable__content\"><pre>DecisionTreeRegressor(random_state=42)</pre></div></div></div></div></div>"
            ]
          },
          "metadata": {},
          "execution_count": 203
        }
      ]
    },
    {
      "cell_type": "code",
      "source": [
        "y_pred = reg_tree.predict(x_test)"
      ],
      "metadata": {
        "id": "Qu9PYtfOZuS-"
      },
      "execution_count": null,
      "outputs": []
    },
    {
      "cell_type": "code",
      "source": [
        "mse = mean_squared_error(y_test, y_pred)\n",
        "mae = mean_absolute_error(y_test, y_pred)\n",
        "r2 = r2_score(y_test, y_pred)\n",
        "\n",
        "print(\"Mean Squared Error:\", mse)\n",
        "print(\"Mean Absolute Error:\", mae)\n",
        "print(\"R^2 Score:\", r2)"
      ],
      "metadata": {
        "colab": {
          "base_uri": "https://localhost:8080/"
        },
        "id": "rid4Jqk2blgo",
        "outputId": "895a4f93-d74f-4f90-ea50-db5c64006702"
      },
      "execution_count": null,
      "outputs": [
        {
          "output_type": "stream",
          "name": "stdout",
          "text": [
            "Mean Squared Error: 6.181105442176871\n",
            "Mean Absolute Error: 1.4392857142857143\n",
            "R^2 Score: 0.9287197625972382\n"
          ]
        }
      ]
    },
    {
      "cell_type": "code",
      "source": [
        "# Realizar validación cruzada y evaluar el modelo utilizando R^2\n",
        "kf = KFold(n_splits=5, shuffle=True, random_state=42)\n",
        "r2_scores = cross_val_score(reg_tree, x, y, cv=kf, scoring='r2')\n",
        "y_pred = cross_val_predict(reg_tree, x, y, cv=kf)\n",
        "\n",
        "# Imprimir los resultados de la validación cruzada\n",
        "print(\"Coeficientes R^2 en cada fold:\", r2_scores)\n",
        "print(\"R^2 promedio:\", r2_scores.mean())\n",
        "\n",
        "mse = mean_squared_error(y, y_pred)\n",
        "mae = mean_absolute_error(y, y_pred)\n",
        "print(\"Mean Squared Error (MSE):\", mse)\n",
        "print(\"Mean Absolute Error (MAE):\", mae)"
      ],
      "metadata": {
        "colab": {
          "base_uri": "https://localhost:8080/"
        },
        "id": "vuJpeT2lfqKD",
        "outputId": "363321cc-388d-4125-822c-57a1d82ec995"
      },
      "execution_count": null,
      "outputs": [
        {
          "output_type": "stream",
          "name": "stdout",
          "text": [
            "Coeficientes R^2 en cada fold: [0.92871976 0.92172158 0.91850255 0.93020576 0.9116381 ]\n",
            "R^2 promedio: 0.9221575497733856\n",
            "Mean Squared Error (MSE): 7.034509870660313\n",
            "Mean Absolute Error (MAE): 1.576140231449966\n"
          ]
        }
      ]
    },
    {
      "cell_type": "markdown",
      "source": [
        "1. Consideras que el modelo de regresión lineal es adecuado para los datos.\n",
        "\n",
        "**Mientras que un modelo de regrsión lineal funciona con los datos, considero que un modelo de regresión no lineal podria funcionar mejor, debido a que cuando se analiza el MSE y el MAE con un modelo de regresión no lineal, los valores obtenidos son más bajo que cuando se analiza con un modelo de regresión lineal.**\n",
        "\n",
        "2. ¿Qué método de selección de características consideras que funciona bien con los datos? ¿Por qué?\n",
        "\n",
        "**Considero que el metodo filter puede ser un buen candidato para seleccionar las caracteristicas, esto es debido a que en regresión lineal obtuvo buenos datos con un el numero de caracteristicas más pequeño en comparación con los otros metodos.**\n",
        "\n",
        "3. Del proceso de selección de características, ¿puedes identificar algunas que sean sobresalientes?\n",
        "\n",
        "**Las características mas sobresalientes fue cuando se evaluaron 9 caracteristicas en el metodo de Wrapper, opino que resulta interesante debido a que se puede observar como es que tanto el MSE y el MAE empiezan a aumentar mientras que el $r^2$ empieza a disminuir**\n",
        "\n",
        "4. ¿El modelo de regresión no lineal funcionó mejor que el lineal?\n",
        "\n",
        "**Como se menciono antes, el modelo no lineal presento mejores resultados en la obtención de MSE, MAE y de $r^2$, en la obtención de caracteristicas, se observa como de forma similar, los valores son mejores a los vistos en cada una de las caracteristicas de regresión lineal**\n",
        "\n",
        "5. ¿Notas alguna mejora con el árbol de decisión al agregar la variable categórica \"Status\"?\n",
        "\n",
        "**Usando el árbol de desición definitivamente se puede apreciar una mejora en los tres aspectos evaluados (MSE, MAE, $r^2$) a comparación de regresión lineal**\n",
        "\n",
        "6. ¿Se puede concluir algo interesante sobre los resultados de modelar estos datos con regresión?\n",
        "\n",
        "**Analizando los resultados observados en las gráficas obtenidas, me hace llegar a la conclución que se cuentan con varias variables que no aportan mucho al modelo, aparte de que se puede notar observaciones claras entre algunos datos observados en la tabla, como la mortalidad adulta con la esperanza de vida o la relación entre la esperanza de vida y el porcentaje de gastos**"
      ],
      "metadata": {
        "id": "811accNvYBW8"
      }
    }
  ]
}